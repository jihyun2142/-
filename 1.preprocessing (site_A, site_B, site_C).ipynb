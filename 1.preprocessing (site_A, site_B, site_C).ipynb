{
 "cells": [
  {
   "cell_type": "code",
   "execution_count": 1,
   "metadata": {},
   "outputs": [],
   "source": [
    "import pandas as pd\n",
    "import warnings\n",
    "warnings.filterwarnings(\"ignore\")"
   ]
  },
  {
   "cell_type": "markdown",
   "metadata": {},
   "source": [
    "### A_site"
   ]
  },
  {
   "cell_type": "code",
   "execution_count": 2,
   "metadata": {},
   "outputs": [],
   "source": [
    "A_site = pd.ExcelFile('A_Site_태양광_Data_배포용_R04_20190128.xlsx')\n",
    "A_site1 = pd.read_excel(A_site, '0701~1119', skiprows=5)\n",
    "A_site2 = pd.read_excel(A_site, '0301~0515', skiprows=5)\n",
    "A_site3 = pd.read_excel(A_site, '0620~1009', skiprows=5)\n",
    "A_site4 = pd.read_excel(A_site, '1101~1231', skiprows=5)\n",
    "A_site1 = A_site1.drop(A_site1.columns[0], axis=1)\n",
    "A_site2 = A_site2.drop(A_site2.columns[0], axis=1)\n",
    "A_site3 = A_site3.drop(A_site3.columns[0], axis=1)\n",
    "A_site4 = A_site4.drop(A_site4.columns[0], axis=1)\n",
    "A_site1 = A_site1.drop(A_site1.index[0])\n",
    "A_site2 = A_site2.drop(A_site2.index[0])\n",
    "A_site3 = A_site3.drop(A_site3.index[0])\n",
    "A_site4 = A_site4.drop(A_site4.index[0])\n",
    "A_site4 = A_site4.dropna()"
   ]
  },
  {
   "cell_type": "code",
   "execution_count": 3,
   "metadata": {
    "scrolled": true
   },
   "outputs": [
    {
     "data": {
      "text/html": [
       "<div>\n",
       "<style scoped>\n",
       "    .dataframe tbody tr th:only-of-type {\n",
       "        vertical-align: middle;\n",
       "    }\n",
       "\n",
       "    .dataframe tbody tr th {\n",
       "        vertical-align: top;\n",
       "    }\n",
       "\n",
       "    .dataframe thead th {\n",
       "        text-align: right;\n",
       "    }\n",
       "</style>\n",
       "<table border=\"1\" class=\"dataframe\">\n",
       "  <thead>\n",
       "    <tr style=\"text-align: right;\">\n",
       "      <th></th>\n",
       "      <th>Unnamed: 1</th>\n",
       "      <th>경사일사량</th>\n",
       "      <th>수평일사량</th>\n",
       "      <th>외기온도</th>\n",
       "      <th>모듈온도</th>\n",
       "      <th>현재 전력(AC)</th>\n",
       "      <th>금일 발전량</th>\n",
       "      <th>DC전압</th>\n",
       "      <th>DC전류</th>\n",
       "      <th>DC전력</th>\n",
       "      <th>...</th>\n",
       "      <th>전압.24</th>\n",
       "      <th>전류.24</th>\n",
       "      <th>전압.25</th>\n",
       "      <th>전류.25</th>\n",
       "      <th>전압.26</th>\n",
       "      <th>전류.26</th>\n",
       "      <th>전압.27</th>\n",
       "      <th>전류.27</th>\n",
       "      <th>전압.28</th>\n",
       "      <th>전류.28</th>\n",
       "    </tr>\n",
       "  </thead>\n",
       "  <tbody>\n",
       "    <tr>\n",
       "      <th>1</th>\n",
       "      <td>07-01  00:15:00</td>\n",
       "      <td>0</td>\n",
       "      <td>0</td>\n",
       "      <td>21.5</td>\n",
       "      <td>23.8358</td>\n",
       "      <td>0</td>\n",
       "      <td>0.002859</td>\n",
       "      <td>8.68042</td>\n",
       "      <td>0</td>\n",
       "      <td>0</td>\n",
       "      <td>...</td>\n",
       "      <td>7.6</td>\n",
       "      <td>0</td>\n",
       "      <td>7</td>\n",
       "      <td>0</td>\n",
       "      <td>10.1</td>\n",
       "      <td>0</td>\n",
       "      <td>12</td>\n",
       "      <td>0</td>\n",
       "      <td>11.4</td>\n",
       "      <td>0</td>\n",
       "    </tr>\n",
       "    <tr>\n",
       "      <th>2</th>\n",
       "      <td>07-01  00:30:00</td>\n",
       "      <td>0</td>\n",
       "      <td>0</td>\n",
       "      <td>21.3</td>\n",
       "      <td>23.5532</td>\n",
       "      <td>0</td>\n",
       "      <td>0.004787</td>\n",
       "      <td>8.21167</td>\n",
       "      <td>0</td>\n",
       "      <td>0</td>\n",
       "      <td>...</td>\n",
       "      <td>7.6</td>\n",
       "      <td>0</td>\n",
       "      <td>7</td>\n",
       "      <td>0</td>\n",
       "      <td>10.1</td>\n",
       "      <td>0</td>\n",
       "      <td>12</td>\n",
       "      <td>0</td>\n",
       "      <td>11.4</td>\n",
       "      <td>0</td>\n",
       "    </tr>\n",
       "    <tr>\n",
       "      <th>3</th>\n",
       "      <td>07-01  00:45:00</td>\n",
       "      <td>0</td>\n",
       "      <td>0</td>\n",
       "      <td>21.3</td>\n",
       "      <td>23.6</td>\n",
       "      <td>0</td>\n",
       "      <td>0.006715</td>\n",
       "      <td>7.81782</td>\n",
       "      <td>0</td>\n",
       "      <td>0</td>\n",
       "      <td>...</td>\n",
       "      <td>7.6</td>\n",
       "      <td>0</td>\n",
       "      <td>7</td>\n",
       "      <td>0</td>\n",
       "      <td>10.1</td>\n",
       "      <td>0</td>\n",
       "      <td>12</td>\n",
       "      <td>0</td>\n",
       "      <td>11.4</td>\n",
       "      <td>0</td>\n",
       "    </tr>\n",
       "  </tbody>\n",
       "</table>\n",
       "<p>3 rows × 85 columns</p>\n",
       "</div>"
      ],
      "text/plain": [
       "         Unnamed: 1 경사일사량 수평일사량  외기온도     모듈온도 현재 전력(AC)    금일 발전량     DC전압  \\\n",
       "1   07-01  00:15:00     0     0  21.5  23.8358         0  0.002859  8.68042   \n",
       "2   07-01  00:30:00     0     0  21.3  23.5532         0  0.004787  8.21167   \n",
       "3   07-01  00:45:00     0     0  21.3     23.6         0  0.006715  7.81782   \n",
       "\n",
       "  DC전류 DC전력  ...  전압.24 전류.24 전압.25 전류.25 전압.26 전류.26 전압.27 전류.27 전압.28 전류.28  \n",
       "1    0    0  ...    7.6     0     7     0  10.1     0    12     0  11.4     0  \n",
       "2    0    0  ...    7.6     0     7     0  10.1     0    12     0  11.4     0  \n",
       "3    0    0  ...    7.6     0     7     0  10.1     0    12     0  11.4     0  \n",
       "\n",
       "[3 rows x 85 columns]"
      ]
     },
     "execution_count": 3,
     "metadata": {},
     "output_type": "execute_result"
    }
   ],
   "source": [
    "A_site1.head(3)"
   ]
  },
  {
   "cell_type": "code",
   "execution_count": 4,
   "metadata": {
    "scrolled": false
   },
   "outputs": [
    {
     "data": {
      "text/html": [
       "<div>\n",
       "<style scoped>\n",
       "    .dataframe tbody tr th:only-of-type {\n",
       "        vertical-align: middle;\n",
       "    }\n",
       "\n",
       "    .dataframe tbody tr th {\n",
       "        vertical-align: top;\n",
       "    }\n",
       "\n",
       "    .dataframe thead th {\n",
       "        text-align: right;\n",
       "    }\n",
       "</style>\n",
       "<table border=\"1\" class=\"dataframe\">\n",
       "  <thead>\n",
       "    <tr style=\"text-align: right;\">\n",
       "      <th></th>\n",
       "      <th>Unnamed: 1</th>\n",
       "      <th>경사일사량</th>\n",
       "      <th>수평일사량</th>\n",
       "      <th>외기온도</th>\n",
       "      <th>모듈온도</th>\n",
       "      <th>현재 전력(AC)</th>\n",
       "      <th>금일 발전량</th>\n",
       "      <th>DC전압</th>\n",
       "      <th>DC전류</th>\n",
       "      <th>DC전력</th>\n",
       "      <th>...</th>\n",
       "      <th>전압.24</th>\n",
       "      <th>전류.24</th>\n",
       "      <th>전압.25</th>\n",
       "      <th>전류.25</th>\n",
       "      <th>전압.26</th>\n",
       "      <th>전류.26</th>\n",
       "      <th>전압.27</th>\n",
       "      <th>전류.27</th>\n",
       "      <th>전압.28</th>\n",
       "      <th>전류.28</th>\n",
       "    </tr>\n",
       "  </thead>\n",
       "  <tbody>\n",
       "    <tr>\n",
       "      <th>2</th>\n",
       "      <td>2019-01-01 00:00:00</td>\n",
       "      <td>0</td>\n",
       "      <td>0</td>\n",
       "      <td>-3.53514</td>\n",
       "      <td>-30</td>\n",
       "      <td>0</td>\n",
       "      <td>0.335631</td>\n",
       "      <td>2.37726</td>\n",
       "      <td>0</td>\n",
       "      <td>0</td>\n",
       "      <td>...</td>\n",
       "      <td>0</td>\n",
       "      <td>0</td>\n",
       "      <td>0</td>\n",
       "      <td>0</td>\n",
       "      <td>0</td>\n",
       "      <td>0</td>\n",
       "      <td>0</td>\n",
       "      <td>0</td>\n",
       "      <td>0</td>\n",
       "      <td>0</td>\n",
       "    </tr>\n",
       "    <tr>\n",
       "      <th>3</th>\n",
       "      <td>2019-01-01 00:15:00</td>\n",
       "      <td>0</td>\n",
       "      <td>0</td>\n",
       "      <td>-3.55051</td>\n",
       "      <td>-30</td>\n",
       "      <td>0</td>\n",
       "      <td>0</td>\n",
       "      <td>2.16482</td>\n",
       "      <td>0</td>\n",
       "      <td>0</td>\n",
       "      <td>...</td>\n",
       "      <td>0</td>\n",
       "      <td>0</td>\n",
       "      <td>0</td>\n",
       "      <td>0</td>\n",
       "      <td>0</td>\n",
       "      <td>0</td>\n",
       "      <td>0</td>\n",
       "      <td>0</td>\n",
       "      <td>0</td>\n",
       "      <td>0</td>\n",
       "    </tr>\n",
       "    <tr>\n",
       "      <th>4</th>\n",
       "      <td>2019-01-01 00:30:00</td>\n",
       "      <td>0</td>\n",
       "      <td>0</td>\n",
       "      <td>-3.83356</td>\n",
       "      <td>-30</td>\n",
       "      <td>0</td>\n",
       "      <td>0</td>\n",
       "      <td>1.73133</td>\n",
       "      <td>0</td>\n",
       "      <td>0</td>\n",
       "      <td>...</td>\n",
       "      <td>0</td>\n",
       "      <td>0</td>\n",
       "      <td>0</td>\n",
       "      <td>0</td>\n",
       "      <td>0</td>\n",
       "      <td>0</td>\n",
       "      <td>0</td>\n",
       "      <td>0</td>\n",
       "      <td>0</td>\n",
       "      <td>0</td>\n",
       "    </tr>\n",
       "  </tbody>\n",
       "</table>\n",
       "<p>3 rows × 85 columns</p>\n",
       "</div>"
      ],
      "text/plain": [
       "            Unnamed: 1 경사일사량 수평일사량     외기온도 모듈온도 현재 전력(AC)    금일 발전량     DC전압  \\\n",
       "2  2019-01-01 00:00:00     0     0 -3.53514  -30         0  0.335631  2.37726   \n",
       "3  2019-01-01 00:15:00     0     0 -3.55051  -30         0         0  2.16482   \n",
       "4  2019-01-01 00:30:00     0     0 -3.83356  -30         0         0  1.73133   \n",
       "\n",
       "  DC전류 DC전력  ...  전압.24 전류.24 전압.25 전류.25 전압.26 전류.26 전압.27 전류.27 전압.28 전류.28  \n",
       "2    0    0  ...      0     0     0     0     0     0     0     0     0     0  \n",
       "3    0    0  ...      0     0     0     0     0     0     0     0     0     0  \n",
       "4    0    0  ...      0     0     0     0     0     0     0     0     0     0  \n",
       "\n",
       "[3 rows x 85 columns]"
      ]
     },
     "execution_count": 4,
     "metadata": {},
     "output_type": "execute_result"
    }
   ],
   "source": [
    "A_site5 = pd.read_excel('open_task02_A_Site_Data_20190101-20190224.xlsx', skiprows=5)\n",
    "A_site5 = A_site5.drop(A_site5.columns[0], axis=1)\n",
    "A_site5 = A_site5.drop(A_site5.index[[0,1]])\n",
    "A_site5 = A_site5.dropna()\n",
    "A_site5.head(3)"
   ]
  },
  {
   "cell_type": "code",
   "execution_count": 5,
   "metadata": {},
   "outputs": [],
   "source": [
    "# len(A_site5)"
   ]
  },
  {
   "cell_type": "code",
   "execution_count": 6,
   "metadata": {},
   "outputs": [],
   "source": [
    "A_site1[A_site1.columns[0]] = A_site1[A_site1.columns[0]].apply(lambda x: '2017'+x)\n",
    "A_site2[A_site2.columns[0]] = A_site2[A_site2.columns[0]].apply(lambda x: '2018'+x)\n",
    "A_site3[A_site3.columns[0]] = A_site3[A_site3.columns[0]].apply(lambda x: '2018'+x)\n",
    "A_site4[A_site4.columns[0]] = A_site4[A_site4.columns[0]].apply(lambda x: '2018'+x)"
   ]
  },
  {
   "cell_type": "code",
   "execution_count": 7,
   "metadata": {
    "scrolled": true
   },
   "outputs": [
    {
     "data": {
      "text/html": [
       "<div>\n",
       "<style scoped>\n",
       "    .dataframe tbody tr th:only-of-type {\n",
       "        vertical-align: middle;\n",
       "    }\n",
       "\n",
       "    .dataframe tbody tr th {\n",
       "        vertical-align: top;\n",
       "    }\n",
       "\n",
       "    .dataframe thead th {\n",
       "        text-align: right;\n",
       "    }\n",
       "</style>\n",
       "<table border=\"1\" class=\"dataframe\">\n",
       "  <thead>\n",
       "    <tr style=\"text-align: right;\">\n",
       "      <th></th>\n",
       "      <th>Unnamed: 1</th>\n",
       "      <th>경사일사량</th>\n",
       "      <th>수평일사량</th>\n",
       "      <th>외기온도</th>\n",
       "      <th>모듈온도</th>\n",
       "      <th>현재 전력(AC)</th>\n",
       "      <th>금일 발전량</th>\n",
       "      <th>DC전압</th>\n",
       "      <th>DC전류</th>\n",
       "      <th>DC전력</th>\n",
       "      <th>...</th>\n",
       "      <th>전압.24</th>\n",
       "      <th>전류.24</th>\n",
       "      <th>전압.25</th>\n",
       "      <th>전류.25</th>\n",
       "      <th>전압.26</th>\n",
       "      <th>전류.26</th>\n",
       "      <th>전압.27</th>\n",
       "      <th>전류.27</th>\n",
       "      <th>전압.28</th>\n",
       "      <th>전류.28</th>\n",
       "    </tr>\n",
       "  </thead>\n",
       "  <tbody>\n",
       "    <tr>\n",
       "      <th>1</th>\n",
       "      <td>2017 07-01  00:15:00</td>\n",
       "      <td>0</td>\n",
       "      <td>0</td>\n",
       "      <td>21.5</td>\n",
       "      <td>23.8358</td>\n",
       "      <td>0</td>\n",
       "      <td>0.002859</td>\n",
       "      <td>8.68042</td>\n",
       "      <td>0</td>\n",
       "      <td>0</td>\n",
       "      <td>...</td>\n",
       "      <td>7.6</td>\n",
       "      <td>0</td>\n",
       "      <td>7</td>\n",
       "      <td>0</td>\n",
       "      <td>10.1</td>\n",
       "      <td>0</td>\n",
       "      <td>12</td>\n",
       "      <td>0</td>\n",
       "      <td>11.4</td>\n",
       "      <td>0</td>\n",
       "    </tr>\n",
       "    <tr>\n",
       "      <th>2</th>\n",
       "      <td>2017 07-01  00:30:00</td>\n",
       "      <td>0</td>\n",
       "      <td>0</td>\n",
       "      <td>21.3</td>\n",
       "      <td>23.5532</td>\n",
       "      <td>0</td>\n",
       "      <td>0.004787</td>\n",
       "      <td>8.21167</td>\n",
       "      <td>0</td>\n",
       "      <td>0</td>\n",
       "      <td>...</td>\n",
       "      <td>7.6</td>\n",
       "      <td>0</td>\n",
       "      <td>7</td>\n",
       "      <td>0</td>\n",
       "      <td>10.1</td>\n",
       "      <td>0</td>\n",
       "      <td>12</td>\n",
       "      <td>0</td>\n",
       "      <td>11.4</td>\n",
       "      <td>0</td>\n",
       "    </tr>\n",
       "    <tr>\n",
       "      <th>3</th>\n",
       "      <td>2017 07-01  00:45:00</td>\n",
       "      <td>0</td>\n",
       "      <td>0</td>\n",
       "      <td>21.3</td>\n",
       "      <td>23.6</td>\n",
       "      <td>0</td>\n",
       "      <td>0.006715</td>\n",
       "      <td>7.81782</td>\n",
       "      <td>0</td>\n",
       "      <td>0</td>\n",
       "      <td>...</td>\n",
       "      <td>7.6</td>\n",
       "      <td>0</td>\n",
       "      <td>7</td>\n",
       "      <td>0</td>\n",
       "      <td>10.1</td>\n",
       "      <td>0</td>\n",
       "      <td>12</td>\n",
       "      <td>0</td>\n",
       "      <td>11.4</td>\n",
       "      <td>0</td>\n",
       "    </tr>\n",
       "  </tbody>\n",
       "</table>\n",
       "<p>3 rows × 85 columns</p>\n",
       "</div>"
      ],
      "text/plain": [
       "             Unnamed: 1 경사일사량 수평일사량  외기온도     모듈온도 현재 전력(AC)    금일 발전량  \\\n",
       "1  2017 07-01  00:15:00     0     0  21.5  23.8358         0  0.002859   \n",
       "2  2017 07-01  00:30:00     0     0  21.3  23.5532         0  0.004787   \n",
       "3  2017 07-01  00:45:00     0     0  21.3     23.6         0  0.006715   \n",
       "\n",
       "      DC전압 DC전류 DC전력  ...  전압.24 전류.24 전압.25 전류.25 전압.26 전류.26 전압.27 전류.27  \\\n",
       "1  8.68042    0    0  ...    7.6     0     7     0  10.1     0    12     0   \n",
       "2  8.21167    0    0  ...    7.6     0     7     0  10.1     0    12     0   \n",
       "3  7.81782    0    0  ...    7.6     0     7     0  10.1     0    12     0   \n",
       "\n",
       "  전압.28 전류.28  \n",
       "1  11.4     0  \n",
       "2  11.4     0  \n",
       "3  11.4     0  \n",
       "\n",
       "[3 rows x 85 columns]"
      ]
     },
     "execution_count": 7,
     "metadata": {},
     "output_type": "execute_result"
    }
   ],
   "source": [
    "A_site1.head(3)"
   ]
  },
  {
   "cell_type": "code",
   "execution_count": 8,
   "metadata": {},
   "outputs": [],
   "source": [
    "A_site1[A_site1.columns[0]] = pd.to_datetime(A_site1[A_site1.columns[0]], format='%Y %m-%d %H:%M:%S')\n",
    "A_site2[A_site2.columns[0]] = pd.to_datetime(A_site2[A_site2.columns[0]], format='%Y %m-%d %H:%M:%S')\n",
    "A_site3[A_site3.columns[0]] = pd.to_datetime(A_site3[A_site3.columns[0]], format='%Y %m-%d %H:%M:%S')\n",
    "A_site4[A_site4.columns[0]] = pd.to_datetime(A_site4[A_site4.columns[0]], format='%Y %m-%d %H:%M:%S')\n",
    "A_site5[A_site5.columns[0]] = pd.to_datetime(A_site5[A_site5.columns[0]], format='%Y-%m-%d %H:%M:%S')"
   ]
  },
  {
   "cell_type": "code",
   "execution_count": 9,
   "metadata": {},
   "outputs": [
    {
     "data": {
      "text/plain": [
       "37532"
      ]
     },
     "execution_count": 9,
     "metadata": {},
     "output_type": "execute_result"
    }
   ],
   "source": [
    "A_site = pd.concat([A_site1[A_site1.columns[[0,1,2,5,6]]], A_site2[A_site2.columns[[0,1,2,5,6]]],\n",
    "                    A_site3[A_site3.columns[[0,1,2,5,6]]], A_site4[A_site4.columns[[0,1,2,5,6]]]], axis=0)\n",
    "A_site = A_site.reset_index(drop=True)\n",
    "A_site.columns = ['time', 'solar1', 'solar2', 'real_time_power', 'day_power']\n",
    "len(A_site)"
   ]
  },
  {
   "cell_type": "code",
   "execution_count": 10,
   "metadata": {},
   "outputs": [
    {
     "data": {
      "text/plain": [
       "42716"
      ]
     },
     "execution_count": 10,
     "metadata": {},
     "output_type": "execute_result"
    }
   ],
   "source": [
    "A_site = pd.concat([A_site1[A_site1.columns[[0,1,2,5,6]]], A_site2[A_site2.columns[[0,1,2,5,6]]],\n",
    "                    A_site3[A_site3.columns[[0,1,2,5,6]]], A_site4[A_site4.columns[[0,1,2,5,6]]], \n",
    "                   A_site5[A_site5.columns[[0,1,2,5,6]]]], axis=0)\n",
    "A_site = A_site.reset_index(drop=True)\n",
    "A_site.columns = ['time', 'solar1', 'solar2', 'real_time_power', 'day_power']\n",
    "len(A_site)"
   ]
  },
  {
   "cell_type": "code",
   "execution_count": 11,
   "metadata": {},
   "outputs": [],
   "source": [
    "A_site.real_time_power = A_site.real_time_power.astype('float')\n",
    "A_site.day_power = A_site.day_power.astype('float')"
   ]
  },
  {
   "cell_type": "code",
   "execution_count": 12,
   "metadata": {},
   "outputs": [
    {
     "data": {
      "text/plain": [
       "time               datetime64[ns]\n",
       "solar1                     object\n",
       "solar2                     object\n",
       "real_time_power           float64\n",
       "day_power                 float64\n",
       "dtype: object"
      ]
     },
     "execution_count": 12,
     "metadata": {},
     "output_type": "execute_result"
    }
   ],
   "source": [
    "A_site.dtypes"
   ]
  },
  {
   "cell_type": "code",
   "execution_count": 13,
   "metadata": {},
   "outputs": [
    {
     "data": {
      "text/plain": [
       "time               0\n",
       "solar1             0\n",
       "solar2             0\n",
       "real_time_power    0\n",
       "day_power          0\n",
       "dtype: int64"
      ]
     },
     "execution_count": 13,
     "metadata": {},
     "output_type": "execute_result"
    }
   ],
   "source": [
    "A_site.isna().sum()"
   ]
  },
  {
   "cell_type": "code",
   "execution_count": 14,
   "metadata": {},
   "outputs": [
    {
     "data": {
      "text/html": [
       "<div>\n",
       "<style scoped>\n",
       "    .dataframe tbody tr th:only-of-type {\n",
       "        vertical-align: middle;\n",
       "    }\n",
       "\n",
       "    .dataframe tbody tr th {\n",
       "        vertical-align: top;\n",
       "    }\n",
       "\n",
       "    .dataframe thead th {\n",
       "        text-align: right;\n",
       "    }\n",
       "</style>\n",
       "<table border=\"1\" class=\"dataframe\">\n",
       "  <thead>\n",
       "    <tr style=\"text-align: right;\">\n",
       "      <th></th>\n",
       "      <th>time</th>\n",
       "      <th>solar1</th>\n",
       "      <th>solar2</th>\n",
       "      <th>real_time_power</th>\n",
       "      <th>day_power</th>\n",
       "    </tr>\n",
       "  </thead>\n",
       "  <tbody>\n",
       "    <tr>\n",
       "      <th>0</th>\n",
       "      <td>2017-07-01 00:15:00</td>\n",
       "      <td>0</td>\n",
       "      <td>0</td>\n",
       "      <td>0.0</td>\n",
       "      <td>0.002859</td>\n",
       "    </tr>\n",
       "    <tr>\n",
       "      <th>1</th>\n",
       "      <td>2017-07-01 00:30:00</td>\n",
       "      <td>0</td>\n",
       "      <td>0</td>\n",
       "      <td>0.0</td>\n",
       "      <td>0.004787</td>\n",
       "    </tr>\n",
       "    <tr>\n",
       "      <th>2</th>\n",
       "      <td>2017-07-01 00:45:00</td>\n",
       "      <td>0</td>\n",
       "      <td>0</td>\n",
       "      <td>0.0</td>\n",
       "      <td>0.006715</td>\n",
       "    </tr>\n",
       "  </tbody>\n",
       "</table>\n",
       "</div>"
      ],
      "text/plain": [
       "                 time solar1 solar2  real_time_power  day_power\n",
       "0 2017-07-01 00:15:00      0      0              0.0   0.002859\n",
       "1 2017-07-01 00:30:00      0      0              0.0   0.004787\n",
       "2 2017-07-01 00:45:00      0      0              0.0   0.006715"
      ]
     },
     "execution_count": 14,
     "metadata": {},
     "output_type": "execute_result"
    }
   ],
   "source": [
    "A_site.to_pickle('C:/Users/ewpadmin/JIHYUN/A_site.pkl')\n",
    "A_site = pd.read_pickle('C:/Users/ewpadmin/JIHYUN/A_site.pkl')\n",
    "A_site.head(3)"
   ]
  },
  {
   "cell_type": "markdown",
   "metadata": {},
   "source": [
    "### B_site"
   ]
  },
  {
   "cell_type": "code",
   "execution_count": 15,
   "metadata": {},
   "outputs": [],
   "source": [
    "B_site = pd.ExcelFile('B_Site_태양광_Data_배포용_R04_20190128.xlsx')\n",
    "B_site1 = pd.read_excel(B_site, '1101~0331', skiprows=6)\n",
    "B_site2 = pd.read_excel(B_site, '0902~0228', skiprows=6)\n",
    "B_site3 = pd.read_excel(B_site, '0401~0930', skiprows=6)\n",
    "B_site4 = pd.read_excel(B_site, '1005~1130', skiprows=6)\n",
    "B_site1 = B_site1.drop(B_site1.columns[0], axis=1)\n",
    "B_site2 = B_site2.drop(B_site2.columns[0], axis=1)\n",
    "B_site3 = B_site3.drop(B_site3.columns[0], axis=1)\n",
    "B_site4 = B_site4.drop(B_site4.columns[0], axis=1)\n",
    "B_site1 = B_site1.drop(B_site1.index[0])\n",
    "B_site2 = B_site2.drop(B_site2.index[0])\n",
    "B_site3 = B_site3.drop(B_site3.index[0])\n",
    "B_site4 = B_site4.drop(B_site4.index[0])\n",
    "B_site1.dropna(inplace=True)\n",
    "B_site2.dropna(inplace=True)\n",
    "B_site3.dropna(inplace=True)\n",
    "B_site4.dropna(inplace=True)"
   ]
  },
  {
   "cell_type": "code",
   "execution_count": 16,
   "metadata": {
    "scrolled": true
   },
   "outputs": [
    {
     "data": {
      "text/html": [
       "<div>\n",
       "<style scoped>\n",
       "    .dataframe tbody tr th:only-of-type {\n",
       "        vertical-align: middle;\n",
       "    }\n",
       "\n",
       "    .dataframe tbody tr th {\n",
       "        vertical-align: top;\n",
       "    }\n",
       "\n",
       "    .dataframe thead th {\n",
       "        text-align: right;\n",
       "    }\n",
       "</style>\n",
       "<table border=\"1\" class=\"dataframe\">\n",
       "  <thead>\n",
       "    <tr style=\"text-align: right;\">\n",
       "      <th></th>\n",
       "      <th>Unnamed: 1</th>\n",
       "      <th>경사일사량</th>\n",
       "      <th>수평일사량</th>\n",
       "      <th>외기온도</th>\n",
       "      <th>모듈온도</th>\n",
       "      <th>현재 총출력</th>\n",
       "      <th>DC 총 출력\n",
       "(인버터 입력)</th>\n",
       "      <th>금일 발전량</th>\n",
       "      <th>DC전압</th>\n",
       "      <th>DC전류</th>\n",
       "      <th>...</th>\n",
       "      <th>계통 R상 전류.2</th>\n",
       "      <th>계통 S상 전류.2</th>\n",
       "      <th>계통 T상 전류.2</th>\n",
       "      <th>AC전력.2</th>\n",
       "      <th>전압.6</th>\n",
       "      <th>전류.6</th>\n",
       "      <th>전압.7</th>\n",
       "      <th>전류.7</th>\n",
       "      <th>전압.8</th>\n",
       "      <th>전류.8</th>\n",
       "    </tr>\n",
       "  </thead>\n",
       "  <tbody>\n",
       "    <tr>\n",
       "      <th>2</th>\n",
       "      <td>2019-01-01 00:00:00</td>\n",
       "      <td>0</td>\n",
       "      <td>0</td>\n",
       "      <td>6552.4</td>\n",
       "      <td>170.317</td>\n",
       "      <td>0</td>\n",
       "      <td>0</td>\n",
       "      <td>1626.2</td>\n",
       "      <td>2.27101</td>\n",
       "      <td>0</td>\n",
       "      <td>...</td>\n",
       "      <td>0</td>\n",
       "      <td>0</td>\n",
       "      <td>0</td>\n",
       "      <td>0</td>\n",
       "      <td>0</td>\n",
       "      <td>0</td>\n",
       "      <td>0</td>\n",
       "      <td>0</td>\n",
       "      <td>0</td>\n",
       "      <td>0</td>\n",
       "    </tr>\n",
       "    <tr>\n",
       "      <th>3</th>\n",
       "      <td>2019-01-01 00:15:00</td>\n",
       "      <td>0</td>\n",
       "      <td>0</td>\n",
       "      <td>6552.4</td>\n",
       "      <td>169.803</td>\n",
       "      <td>0</td>\n",
       "      <td>0</td>\n",
       "      <td>1019.75</td>\n",
       "      <td>2</td>\n",
       "      <td>0</td>\n",
       "      <td>...</td>\n",
       "      <td>0</td>\n",
       "      <td>0</td>\n",
       "      <td>0</td>\n",
       "      <td>0</td>\n",
       "      <td>0</td>\n",
       "      <td>0</td>\n",
       "      <td>0</td>\n",
       "      <td>0</td>\n",
       "      <td>0</td>\n",
       "      <td>0</td>\n",
       "    </tr>\n",
       "    <tr>\n",
       "      <th>4</th>\n",
       "      <td>2019-01-01 00:30:00</td>\n",
       "      <td>0</td>\n",
       "      <td>0</td>\n",
       "      <td>6552.32</td>\n",
       "      <td>168.489</td>\n",
       "      <td>0</td>\n",
       "      <td>0</td>\n",
       "      <td>505.261</td>\n",
       "      <td>2</td>\n",
       "      <td>0</td>\n",
       "      <td>...</td>\n",
       "      <td>0</td>\n",
       "      <td>0</td>\n",
       "      <td>0</td>\n",
       "      <td>0</td>\n",
       "      <td>0</td>\n",
       "      <td>0</td>\n",
       "      <td>0</td>\n",
       "      <td>0</td>\n",
       "      <td>0</td>\n",
       "      <td>0</td>\n",
       "    </tr>\n",
       "  </tbody>\n",
       "</table>\n",
       "<p>3 rows × 59 columns</p>\n",
       "</div>"
      ],
      "text/plain": [
       "           Unnamed: 1 경사일사량 수평일사량     외기온도     모듈온도 현재 총출력 DC 총 출력\\n(인버터 입력)  \\\n",
       "2 2019-01-01 00:00:00     0     0   6552.4  170.317      0                 0   \n",
       "3 2019-01-01 00:15:00     0     0   6552.4  169.803      0                 0   \n",
       "4 2019-01-01 00:30:00     0     0  6552.32  168.489      0                 0   \n",
       "\n",
       "    금일 발전량     DC전압 DC전류 ...  계통 R상 전류.2 계통 S상 전류.2 계통 T상 전류.2 AC전력.2 전압.6  \\\n",
       "2   1626.2  2.27101    0 ...           0          0          0      0    0   \n",
       "3  1019.75        2    0 ...           0          0          0      0    0   \n",
       "4  505.261        2    0 ...           0          0          0      0    0   \n",
       "\n",
       "  전류.6 전압.7 전류.7 전압.8 전류.8  \n",
       "2    0    0    0    0    0  \n",
       "3    0    0    0    0    0  \n",
       "4    0    0    0    0    0  \n",
       "\n",
       "[3 rows x 59 columns]"
      ]
     },
     "execution_count": 16,
     "metadata": {},
     "output_type": "execute_result"
    }
   ],
   "source": [
    "B_site5 = pd.read_excel('open_task02_B_Site_Data_20190101-20190224.xlsx', skiprows=6)\n",
    "B_site5 = B_site5.drop(B_site5.columns[0], axis=1)\n",
    "B_site5 = B_site5.drop(B_site5.index[[0,1]])\n",
    "B_site5 = B_site5.dropna()\n",
    "B_site5.head(3)"
   ]
  },
  {
   "cell_type": "code",
   "execution_count": 17,
   "metadata": {},
   "outputs": [],
   "source": [
    "# len(B_site5)"
   ]
  },
  {
   "cell_type": "code",
   "execution_count": 18,
   "metadata": {},
   "outputs": [],
   "source": [
    "B_site1[B_site1.columns[0]] = B_site1[B_site1.columns[0]].apply(lambda x: '2016'+x)\n",
    "B_site2[B_site2.columns[0]] = B_site2[B_site2.columns[0]].apply(lambda x: '2017'+x)\n",
    "B_site3[B_site3.columns[0]] = B_site3[B_site3.columns[0]].apply(lambda x: '2018'+x)\n",
    "B_site4[B_site4.columns[0]] = B_site4[B_site4.columns[0]].apply(lambda x: '2018'+x)"
   ]
  },
  {
   "cell_type": "code",
   "execution_count": 19,
   "metadata": {},
   "outputs": [],
   "source": [
    "B_site1[B_site1.columns[0]] = pd.to_datetime(B_site1[B_site1.columns[0]], format='%Y %m-%d %H:%M:%S')\n",
    "B_site2[B_site2.columns[0]] = pd.to_datetime(B_site2[B_site2.columns[0]], format='%Y %m-%d %H:%M:%S')\n",
    "B_site3[B_site3.columns[0]] = pd.to_datetime(B_site3[B_site3.columns[0]], format='%Y %m-%d %H:%M:%S')\n",
    "B_site4[B_site4.columns[0]] = pd.to_datetime(B_site4[B_site4.columns[0]], format='%Y %m-%d %H:%M:%S')\n",
    "B_site5[B_site5.columns[0]] = pd.to_datetime(B_site5[B_site5.columns[0]], format='%Y-%m-%d %H:%M:%S')"
   ]
  },
  {
   "cell_type": "code",
   "execution_count": 20,
   "metadata": {},
   "outputs": [
    {
     "data": {
      "text/plain": [
       "54812"
      ]
     },
     "execution_count": 20,
     "metadata": {},
     "output_type": "execute_result"
    }
   ],
   "source": [
    "B_site = pd.concat([B_site1[B_site1.columns[[0,1,2,5,6]]], B_site2[B_site2.columns[[0,1,2,5,6]]],\n",
    "                    B_site3[B_site3.columns[[0,1,2,5,6]]], B_site4[B_site4.columns[[0,1,2,5,6]]]], axis=0)\n",
    "B_site = B_site.reset_index(drop=True)\n",
    "B_site.columns = ['time', 'solar1', 'solar2', 'real_time_power', 'day_power']\n",
    "len(B_site)"
   ]
  },
  {
   "cell_type": "code",
   "execution_count": 21,
   "metadata": {},
   "outputs": [
    {
     "data": {
      "text/plain": [
       "59996"
      ]
     },
     "execution_count": 21,
     "metadata": {},
     "output_type": "execute_result"
    }
   ],
   "source": [
    "B_site = pd.concat([B_site1[B_site1.columns[[0,1,2,5,6]]], B_site2[B_site2.columns[[0,1,2,5,6]]],\n",
    "                    B_site3[B_site3.columns[[0,1,2,5,6]]], B_site4[B_site4.columns[[0,1,2,5,6]]],\n",
    "                   B_site5[B_site5.columns[[0,1,2,5,6]]]], axis=0)\n",
    "B_site = B_site.reset_index(drop=True)\n",
    "B_site.columns = ['time', 'solar1', 'solar2', 'real_time_power', 'day_power']\n",
    "len(B_site)"
   ]
  },
  {
   "cell_type": "code",
   "execution_count": 22,
   "metadata": {
    "scrolled": true
   },
   "outputs": [
    {
     "name": "stdout",
     "output_type": "stream",
     "text": [
      "solar1\n",
      "602\n",
      "34\n",
      "0\n",
      "10\n",
      "--------------------------------------------------\n",
      "solar2\n",
      "291\n",
      "28\n",
      "0\n",
      "325\n",
      "--------------------------------------------------\n",
      "real_time_power\n",
      "0\n",
      "0\n",
      "0\n",
      "0\n",
      "--------------------------------------------------\n",
      "day_power\n",
      "0\n",
      "32\n",
      "605\n",
      "11\n",
      "--------------------------------------------------\n"
     ]
    }
   ],
   "source": [
    "for col in B_site.columns[1:]:\n",
    "    print(col)\n",
    "    print(len(B_site[B_site[col] == 'Bad']))\n",
    "    print(len(B_site[B_site[col] == 'I/O Timeout']))\n",
    "    print(len(B_site[B_site[col] == 'Calc Failed']))\n",
    "    print(len(B_site[B_site[col] == '[-11059] No Good Data For Calculation']))\n",
    "    print('-'*50)"
   ]
  },
  {
   "cell_type": "code",
   "execution_count": 23,
   "metadata": {},
   "outputs": [],
   "source": [
    "for i in range(1, 5, 1):\n",
    "    bad_idx = B_site[B_site[B_site.columns[i]] == 'Bad'].index\n",
    "    B_site.drop(bad_idx, axis=0, inplace=True)\n",
    "    timeout_idx = B_site[B_site[B_site.columns[i]] == 'I/O Timeout'].index\n",
    "    B_site.drop(timeout_idx, axis=0, inplace=True)\n",
    "    cal_idx = B_site[B_site[B_site.columns[i]] == 'Calc Failed'].index\n",
    "    B_site.drop(cal_idx, axis=0, inplace=True)\n",
    "    no_idx = B_site[B_site[B_site.columns[i]] == '[-11059] No Good Data For Calculation'].index\n",
    "    B_site.drop(no_idx, axis=0, inplace=True)\n",
    "    "
   ]
  },
  {
   "cell_type": "code",
   "execution_count": 24,
   "metadata": {
    "scrolled": true
   },
   "outputs": [
    {
     "name": "stdout",
     "output_type": "stream",
     "text": [
      "solar1\n",
      "0\n",
      "0\n",
      "0\n",
      "0\n",
      "--------------------------------------------------\n",
      "solar2\n",
      "0\n",
      "0\n",
      "0\n",
      "0\n",
      "--------------------------------------------------\n",
      "real_time_power\n",
      "0\n",
      "0\n",
      "0\n",
      "0\n",
      "--------------------------------------------------\n",
      "day_power\n",
      "0\n",
      "0\n",
      "0\n",
      "0\n",
      "--------------------------------------------------\n"
     ]
    }
   ],
   "source": [
    "for col in B_site.columns[1:]:\n",
    "    print(col)\n",
    "    print(len(B_site[B_site[col] == 'Bad']))\n",
    "    print(len(B_site[B_site[col] == 'I/O Timeout']))\n",
    "    print(len(B_site[B_site[col] == 'Calc Failed']))\n",
    "    print(len(B_site[B_site[col] == '[-11059] No Good Data For Calculation']))\n",
    "    print('-'*50)"
   ]
  },
  {
   "cell_type": "code",
   "execution_count": 25,
   "metadata": {},
   "outputs": [
    {
     "data": {
      "text/plain": [
       "59347"
      ]
     },
     "execution_count": 25,
     "metadata": {},
     "output_type": "execute_result"
    }
   ],
   "source": [
    "len(B_site)"
   ]
  },
  {
   "cell_type": "code",
   "execution_count": 26,
   "metadata": {},
   "outputs": [],
   "source": [
    "B_site.real_time_power = B_site.real_time_power.astype('float')\n",
    "B_site.day_power = B_site.day_power.astype('float')"
   ]
  },
  {
   "cell_type": "code",
   "execution_count": 27,
   "metadata": {},
   "outputs": [
    {
     "data": {
      "text/plain": [
       "time               datetime64[ns]\n",
       "solar1                     object\n",
       "solar2                     object\n",
       "real_time_power           float64\n",
       "day_power                 float64\n",
       "dtype: object"
      ]
     },
     "execution_count": 27,
     "metadata": {},
     "output_type": "execute_result"
    }
   ],
   "source": [
    "B_site.dtypes"
   ]
  },
  {
   "cell_type": "code",
   "execution_count": 28,
   "metadata": {
    "scrolled": false
   },
   "outputs": [
    {
     "data": {
      "text/plain": [
       "time               0\n",
       "solar1             0\n",
       "solar2             0\n",
       "real_time_power    0\n",
       "day_power          0\n",
       "dtype: int64"
      ]
     },
     "execution_count": 28,
     "metadata": {},
     "output_type": "execute_result"
    }
   ],
   "source": [
    "B_site.isna().sum()"
   ]
  },
  {
   "cell_type": "code",
   "execution_count": 29,
   "metadata": {},
   "outputs": [
    {
     "data": {
      "text/html": [
       "<div>\n",
       "<style scoped>\n",
       "    .dataframe tbody tr th:only-of-type {\n",
       "        vertical-align: middle;\n",
       "    }\n",
       "\n",
       "    .dataframe tbody tr th {\n",
       "        vertical-align: top;\n",
       "    }\n",
       "\n",
       "    .dataframe thead th {\n",
       "        text-align: right;\n",
       "    }\n",
       "</style>\n",
       "<table border=\"1\" class=\"dataframe\">\n",
       "  <thead>\n",
       "    <tr style=\"text-align: right;\">\n",
       "      <th></th>\n",
       "      <th>time</th>\n",
       "      <th>solar1</th>\n",
       "      <th>solar2</th>\n",
       "      <th>real_time_power</th>\n",
       "      <th>day_power</th>\n",
       "    </tr>\n",
       "  </thead>\n",
       "  <tbody>\n",
       "    <tr>\n",
       "      <th>0</th>\n",
       "      <td>2016-11-01 00:15:00</td>\n",
       "      <td>0</td>\n",
       "      <td>0</td>\n",
       "      <td>0.0</td>\n",
       "      <td>0.0</td>\n",
       "    </tr>\n",
       "    <tr>\n",
       "      <th>1</th>\n",
       "      <td>2016-11-01 00:30:00</td>\n",
       "      <td>0</td>\n",
       "      <td>0</td>\n",
       "      <td>0.0</td>\n",
       "      <td>0.0</td>\n",
       "    </tr>\n",
       "    <tr>\n",
       "      <th>2</th>\n",
       "      <td>2016-11-01 00:45:00</td>\n",
       "      <td>0</td>\n",
       "      <td>0</td>\n",
       "      <td>0.0</td>\n",
       "      <td>0.0</td>\n",
       "    </tr>\n",
       "  </tbody>\n",
       "</table>\n",
       "</div>"
      ],
      "text/plain": [
       "                 time solar1 solar2  real_time_power  day_power\n",
       "0 2016-11-01 00:15:00      0      0              0.0        0.0\n",
       "1 2016-11-01 00:30:00      0      0              0.0        0.0\n",
       "2 2016-11-01 00:45:00      0      0              0.0        0.0"
      ]
     },
     "execution_count": 29,
     "metadata": {},
     "output_type": "execute_result"
    }
   ],
   "source": [
    "B_site.to_pickle('C:/Users/ewpadmin/JIHYUN/B_site.pkl')\n",
    "B_site = pd.read_pickle('C:/Users/ewpadmin/JIHYUN/B_site.pkl')\n",
    "B_site.head(3)"
   ]
  },
  {
   "cell_type": "markdown",
   "metadata": {},
   "source": [
    "### C_site"
   ]
  },
  {
   "cell_type": "code",
   "execution_count": 30,
   "metadata": {},
   "outputs": [],
   "source": [
    "C_site = pd.read_excel('C:/Users/ewpadmin/JIHYUN/C_Site_태양광_Data_배포용_R04_20190128.xlsx', skiprows=6)"
   ]
  },
  {
   "cell_type": "code",
   "execution_count": 31,
   "metadata": {},
   "outputs": [
    {
     "data": {
      "text/html": [
       "<div>\n",
       "<style scoped>\n",
       "    .dataframe tbody tr th:only-of-type {\n",
       "        vertical-align: middle;\n",
       "    }\n",
       "\n",
       "    .dataframe tbody tr th {\n",
       "        vertical-align: top;\n",
       "    }\n",
       "\n",
       "    .dataframe thead th {\n",
       "        text-align: right;\n",
       "    }\n",
       "</style>\n",
       "<table border=\"1\" class=\"dataframe\">\n",
       "  <thead>\n",
       "    <tr style=\"text-align: right;\">\n",
       "      <th></th>\n",
       "      <th>time</th>\n",
       "      <th>solar1</th>\n",
       "      <th>solar2</th>\n",
       "      <th>real_time_power</th>\n",
       "      <th>day_power</th>\n",
       "    </tr>\n",
       "  </thead>\n",
       "  <tbody>\n",
       "    <tr>\n",
       "      <th>2</th>\n",
       "      <td>2019-01-01 00:00:00</td>\n",
       "      <td>1.8</td>\n",
       "      <td>0</td>\n",
       "      <td>0.0695411</td>\n",
       "      <td>0</td>\n",
       "    </tr>\n",
       "    <tr>\n",
       "      <th>3</th>\n",
       "      <td>2019-01-01 00:15:00</td>\n",
       "      <td>1.8</td>\n",
       "      <td>0</td>\n",
       "      <td>0</td>\n",
       "      <td>0</td>\n",
       "    </tr>\n",
       "    <tr>\n",
       "      <th>4</th>\n",
       "      <td>2019-01-01 00:30:00</td>\n",
       "      <td>1.8</td>\n",
       "      <td>0</td>\n",
       "      <td>0.0363289</td>\n",
       "      <td>0</td>\n",
       "    </tr>\n",
       "  </tbody>\n",
       "</table>\n",
       "</div>"
      ],
      "text/plain": [
       "                 time solar1 solar2 real_time_power day_power\n",
       "2 2019-01-01 00:00:00    1.8      0       0.0695411         0\n",
       "3 2019-01-01 00:15:00    1.8      0               0         0\n",
       "4 2019-01-01 00:30:00    1.8      0       0.0363289         0"
      ]
     },
     "execution_count": 31,
     "metadata": {},
     "output_type": "execute_result"
    }
   ],
   "source": [
    "C_site2 = pd.read_excel('open_task02_C_Site_Data_20190101-20190224_20190228.xlsx', skiprows=6)\n",
    "C_site2 = C_site2.drop(C_site2.columns[0], axis=1)\n",
    "C_site2 = C_site2.drop(C_site2.index[[0,1]])\n",
    "C_site2 = C_site2.dropna()\n",
    "C_site2 = C_site2[C_site2.columns[[0,1,2,5,6]]].copy()\n",
    "C_site2.columns = ['time', 'solar1', 'solar2', 'real_time_power', 'day_power']\n",
    "C_site2.head(3)"
   ]
  },
  {
   "cell_type": "code",
   "execution_count": 32,
   "metadata": {},
   "outputs": [
    {
     "data": {
      "text/plain": [
       "(35039, 5184)"
      ]
     },
     "execution_count": 32,
     "metadata": {},
     "output_type": "execute_result"
    }
   ],
   "source": [
    "len(C_site), len(C_site2)"
   ]
  },
  {
   "cell_type": "code",
   "execution_count": 33,
   "metadata": {
    "scrolled": false
   },
   "outputs": [
    {
     "data": {
      "text/html": [
       "<div>\n",
       "<style scoped>\n",
       "    .dataframe tbody tr th:only-of-type {\n",
       "        vertical-align: middle;\n",
       "    }\n",
       "\n",
       "    .dataframe tbody tr th {\n",
       "        vertical-align: top;\n",
       "    }\n",
       "\n",
       "    .dataframe thead th {\n",
       "        text-align: right;\n",
       "    }\n",
       "</style>\n",
       "<table border=\"1\" class=\"dataframe\">\n",
       "  <thead>\n",
       "    <tr style=\"text-align: right;\">\n",
       "      <th></th>\n",
       "      <th>time</th>\n",
       "      <th>solar1</th>\n",
       "      <th>solar2</th>\n",
       "      <th>real_time_power</th>\n",
       "      <th>day_power</th>\n",
       "    </tr>\n",
       "  </thead>\n",
       "  <tbody>\n",
       "    <tr>\n",
       "      <th>0</th>\n",
       "      <td>04-01  00:30:00</td>\n",
       "      <td>2.40515</td>\n",
       "      <td>0</td>\n",
       "      <td>0</td>\n",
       "      <td>0</td>\n",
       "    </tr>\n",
       "    <tr>\n",
       "      <th>1</th>\n",
       "      <td>04-01  00:45:00</td>\n",
       "      <td>2.36386</td>\n",
       "      <td>0</td>\n",
       "      <td>0</td>\n",
       "      <td>0</td>\n",
       "    </tr>\n",
       "    <tr>\n",
       "      <th>2</th>\n",
       "      <td>04-01  01:00:00</td>\n",
       "      <td>2.38624</td>\n",
       "      <td>0</td>\n",
       "      <td>0</td>\n",
       "      <td>0</td>\n",
       "    </tr>\n",
       "  </tbody>\n",
       "</table>\n",
       "</div>"
      ],
      "text/plain": [
       "               time   solar1 solar2 real_time_power day_power\n",
       "0   04-01  00:30:00  2.40515      0               0         0\n",
       "1   04-01  00:45:00  2.36386      0               0         0\n",
       "2   04-01  01:00:00  2.38624      0               0         0"
      ]
     },
     "execution_count": 33,
     "metadata": {},
     "output_type": "execute_result"
    }
   ],
   "source": [
    "C_site = C_site.drop(C_site.columns[0], axis=1)\n",
    "C_site = C_site.drop(C_site.index[0])\n",
    "C_site = C_site[C_site.columns[[0,1,2,5,6]]].copy()\n",
    "C_site = C_site.reset_index(drop=True)\n",
    "C_site.columns = ['time', 'solar1', 'solar2', 'real_time_power', 'day_power']\n",
    "C_site.head(3)"
   ]
  },
  {
   "cell_type": "code",
   "execution_count": 34,
   "metadata": {
    "scrolled": false
   },
   "outputs": [
    {
     "name": "stdout",
     "output_type": "stream",
     "text": [
      "26398     12-31  00:00:00\n",
      "26399     01-01  00:15:00\n",
      "Name: time, dtype: object\n"
     ]
    }
   ],
   "source": [
    "for i in range(len(C_site.time)):\n",
    "    if C_site.time[i] ==  ' 01-01  00:15:00':\n",
    "        print(C_site.time[i-1:i+1])"
   ]
  },
  {
   "cell_type": "code",
   "execution_count": 35,
   "metadata": {},
   "outputs": [],
   "source": [
    "C_site.time[:26399] = C_site.time[:26399].apply(lambda x: '2017'+x)\n",
    "C_site.time[26399:] = C_site.time[26399:].apply(lambda x: '2018'+x)"
   ]
  },
  {
   "cell_type": "code",
   "execution_count": 36,
   "metadata": {},
   "outputs": [],
   "source": [
    "C_site[C_site.columns[0]] = pd.to_datetime(C_site[C_site.columns[0]], format='%Y %m-%d %H:%M:%S')\n",
    "C_site2[C_site2.columns[0]] = pd.to_datetime(C_site2[C_site2.columns[0]], format='%Y-%m-%d %H:%M:%S')"
   ]
  },
  {
   "cell_type": "code",
   "execution_count": 37,
   "metadata": {},
   "outputs": [
    {
     "data": {
      "text/html": [
       "<div>\n",
       "<style scoped>\n",
       "    .dataframe tbody tr th:only-of-type {\n",
       "        vertical-align: middle;\n",
       "    }\n",
       "\n",
       "    .dataframe tbody tr th {\n",
       "        vertical-align: top;\n",
       "    }\n",
       "\n",
       "    .dataframe thead th {\n",
       "        text-align: right;\n",
       "    }\n",
       "</style>\n",
       "<table border=\"1\" class=\"dataframe\">\n",
       "  <thead>\n",
       "    <tr style=\"text-align: right;\">\n",
       "      <th></th>\n",
       "      <th>time</th>\n",
       "      <th>solar1</th>\n",
       "      <th>solar2</th>\n",
       "      <th>real_time_power</th>\n",
       "      <th>day_power</th>\n",
       "    </tr>\n",
       "  </thead>\n",
       "  <tbody>\n",
       "    <tr>\n",
       "      <th>0</th>\n",
       "      <td>2017-04-01 00:30:00</td>\n",
       "      <td>2.40515</td>\n",
       "      <td>0</td>\n",
       "      <td>0</td>\n",
       "      <td>0</td>\n",
       "    </tr>\n",
       "    <tr>\n",
       "      <th>1</th>\n",
       "      <td>2017-04-01 00:45:00</td>\n",
       "      <td>2.36386</td>\n",
       "      <td>0</td>\n",
       "      <td>0</td>\n",
       "      <td>0</td>\n",
       "    </tr>\n",
       "    <tr>\n",
       "      <th>2</th>\n",
       "      <td>2017-04-01 01:00:00</td>\n",
       "      <td>2.38624</td>\n",
       "      <td>0</td>\n",
       "      <td>0</td>\n",
       "      <td>0</td>\n",
       "    </tr>\n",
       "  </tbody>\n",
       "</table>\n",
       "</div>"
      ],
      "text/plain": [
       "                 time   solar1 solar2 real_time_power day_power\n",
       "0 2017-04-01 00:30:00  2.40515      0               0         0\n",
       "1 2017-04-01 00:45:00  2.36386      0               0         0\n",
       "2 2017-04-01 01:00:00  2.38624      0               0         0"
      ]
     },
     "execution_count": 37,
     "metadata": {},
     "output_type": "execute_result"
    }
   ],
   "source": [
    "C_site = pd.concat([C_site, C_site2], axis=0)\n",
    "C_site = C_site.reset_index(drop=True)\n",
    "C_site.head(3)"
   ]
  },
  {
   "cell_type": "code",
   "execution_count": 38,
   "metadata": {},
   "outputs": [
    {
     "data": {
      "text/plain": [
       "40222"
      ]
     },
     "execution_count": 38,
     "metadata": {},
     "output_type": "execute_result"
    }
   ],
   "source": [
    "len(C_site)"
   ]
  },
  {
   "cell_type": "code",
   "execution_count": 39,
   "metadata": {},
   "outputs": [],
   "source": [
    "import time as dt"
   ]
  },
  {
   "cell_type": "code",
   "execution_count": 40,
   "metadata": {},
   "outputs": [
    {
     "data": {
      "text/plain": [
       "True"
      ]
     },
     "execution_count": 40,
     "metadata": {},
     "output_type": "execute_result"
    }
   ],
   "source": [
    "C_site['time'][0].time() == pd.to_datetime('00:30:00').time()"
   ]
  },
  {
   "cell_type": "code",
   "execution_count": 41,
   "metadata": {},
   "outputs": [],
   "source": [
    "sum_power = []\n",
    "for i in range(len(C_site)):\n",
    "    if i == len(C_site):\n",
    "        break\n",
    "    if C_site['time'][i].time() == pd.to_datetime('00:00:00').time() or i == 0:\n",
    "        sum_power.append(0)\n",
    "    else: \n",
    "        sum_power.append(C_site.real_time_power[i] + sum_power[i-1])\n",
    "\n",
    "C_site.day_power = pd.DataFrame(sum_power).apply(lambda x: x/4)"
   ]
  },
  {
   "cell_type": "code",
   "execution_count": 42,
   "metadata": {},
   "outputs": [],
   "source": [
    "C_site.real_time_power =C_site.real_time_power.astype('float')\n",
    "C_site.day_power = C_site.day_power.astype('float')"
   ]
  },
  {
   "cell_type": "code",
   "execution_count": 43,
   "metadata": {},
   "outputs": [
    {
     "data": {
      "text/plain": [
       "time               0\n",
       "solar1             0\n",
       "solar2             0\n",
       "real_time_power    0\n",
       "day_power          0\n",
       "dtype: int64"
      ]
     },
     "execution_count": 43,
     "metadata": {},
     "output_type": "execute_result"
    }
   ],
   "source": [
    "C_site.isna().sum()"
   ]
  },
  {
   "cell_type": "code",
   "execution_count": 44,
   "metadata": {
    "scrolled": true
   },
   "outputs": [
    {
     "data": {
      "text/html": [
       "<div>\n",
       "<style scoped>\n",
       "    .dataframe tbody tr th:only-of-type {\n",
       "        vertical-align: middle;\n",
       "    }\n",
       "\n",
       "    .dataframe tbody tr th {\n",
       "        vertical-align: top;\n",
       "    }\n",
       "\n",
       "    .dataframe thead th {\n",
       "        text-align: right;\n",
       "    }\n",
       "</style>\n",
       "<table border=\"1\" class=\"dataframe\">\n",
       "  <thead>\n",
       "    <tr style=\"text-align: right;\">\n",
       "      <th></th>\n",
       "      <th>time</th>\n",
       "      <th>solar1</th>\n",
       "      <th>solar2</th>\n",
       "      <th>real_time_power</th>\n",
       "      <th>day_power</th>\n",
       "    </tr>\n",
       "  </thead>\n",
       "  <tbody>\n",
       "    <tr>\n",
       "      <th>0</th>\n",
       "      <td>2017-04-01 00:30:00</td>\n",
       "      <td>2.40515</td>\n",
       "      <td>0</td>\n",
       "      <td>0.0</td>\n",
       "      <td>0.0</td>\n",
       "    </tr>\n",
       "    <tr>\n",
       "      <th>1</th>\n",
       "      <td>2017-04-01 00:45:00</td>\n",
       "      <td>2.36386</td>\n",
       "      <td>0</td>\n",
       "      <td>0.0</td>\n",
       "      <td>0.0</td>\n",
       "    </tr>\n",
       "    <tr>\n",
       "      <th>2</th>\n",
       "      <td>2017-04-01 01:00:00</td>\n",
       "      <td>2.38624</td>\n",
       "      <td>0</td>\n",
       "      <td>0.0</td>\n",
       "      <td>0.0</td>\n",
       "    </tr>\n",
       "  </tbody>\n",
       "</table>\n",
       "</div>"
      ],
      "text/plain": [
       "                 time   solar1 solar2  real_time_power  day_power\n",
       "0 2017-04-01 00:30:00  2.40515      0              0.0        0.0\n",
       "1 2017-04-01 00:45:00  2.36386      0              0.0        0.0\n",
       "2 2017-04-01 01:00:00  2.38624      0              0.0        0.0"
      ]
     },
     "execution_count": 44,
     "metadata": {},
     "output_type": "execute_result"
    }
   ],
   "source": [
    "C_site.to_pickle('C:/Users/ewpadmin/JIHYUN/C_site.pkl')\n",
    "C_site = pd.read_pickle('C:/Users/ewpadmin/JIHYUN/C_site.pkl')\n",
    "C_site.head(3)"
   ]
  },
  {
   "cell_type": "markdown",
   "metadata": {},
   "source": [
    "### Month, Day, Hour, Minute"
   ]
  },
  {
   "cell_type": "code",
   "execution_count": 45,
   "metadata": {},
   "outputs": [],
   "source": [
    "df_name = [A_site, B_site, C_site]\n",
    "for col in df_name:\n",
    "    col['month'] = col.time.dt.month\n",
    "    col['day'] = col.time.dt.day\n",
    "    col['hour'] = col.time.dt.hour\n",
    "    col['minute'] = col.time.dt.minute"
   ]
  },
  {
   "cell_type": "code",
   "execution_count": 46,
   "metadata": {},
   "outputs": [],
   "source": [
    "df_name = [A_site, B_site, C_site]\n",
    "for col in df_name:\n",
    "    col.month = col.month.astype('category')\n",
    "    col.day = col.day.astype('category')\n",
    "    col.hour = col.hour.astype('category')\n",
    "    col.minute = col.minute.astype('category')"
   ]
  },
  {
   "cell_type": "markdown",
   "metadata": {},
   "source": [
    "### Merge Solar_data & Climate_data"
   ]
  },
  {
   "cell_type": "markdown",
   "metadata": {},
   "source": [
    "- climate"
   ]
  },
  {
   "cell_type": "code",
   "execution_count": 47,
   "metadata": {},
   "outputs": [],
   "source": [
    "# climate = pd.read_pickle('C:/Users/ewpadmin/JIHYUN/data_forecast_2018_8AM.pkl')"
   ]
  },
  {
   "cell_type": "code",
   "execution_count": 48,
   "metadata": {
    "scrolled": true
   },
   "outputs": [],
   "source": [
    "# climate.head(3)"
   ]
  },
  {
   "cell_type": "code",
   "execution_count": 49,
   "metadata": {},
   "outputs": [],
   "source": [
    "# climate = pd.read_pickle('C:/Users/ewpadmin/JIHYUN/data_forecast_final_01.pkl')"
   ]
  },
  {
   "cell_type": "code",
   "execution_count": 50,
   "metadata": {},
   "outputs": [],
   "source": [
    "climate = pd.read_pickle('C:/Users/ewpadmin/JIHYUN/data_forecast_final_03.pkl')"
   ]
  },
  {
   "cell_type": "code",
   "execution_count": 51,
   "metadata": {},
   "outputs": [
    {
     "data": {
      "text/html": [
       "<div>\n",
       "<style scoped>\n",
       "    .dataframe tbody tr th:only-of-type {\n",
       "        vertical-align: middle;\n",
       "    }\n",
       "\n",
       "    .dataframe tbody tr th {\n",
       "        vertical-align: top;\n",
       "    }\n",
       "\n",
       "    .dataframe thead th {\n",
       "        text-align: right;\n",
       "    }\n",
       "</style>\n",
       "<table border=\"1\" class=\"dataframe\">\n",
       "  <thead>\n",
       "    <tr style=\"text-align: right;\">\n",
       "      <th></th>\n",
       "      <th>time</th>\n",
       "      <th>temperature_3H</th>\n",
       "      <th>sky</th>\n",
       "      <th>rainfall_probability</th>\n",
       "      <th>rainfall</th>\n",
       "      <th>snow</th>\n",
       "      <th>humidity</th>\n",
       "      <th>wind_speed</th>\n",
       "      <th>wind_direction</th>\n",
       "    </tr>\n",
       "  </thead>\n",
       "  <tbody>\n",
       "    <tr>\n",
       "      <th>0</th>\n",
       "      <td>2016-10-01 12:00:00</td>\n",
       "      <td>19.000000</td>\n",
       "      <td>4.0</td>\n",
       "      <td>30.0</td>\n",
       "      <td>40.0</td>\n",
       "      <td>0.0</td>\n",
       "      <td>90.0</td>\n",
       "      <td>0.8</td>\n",
       "      <td>12.0</td>\n",
       "    </tr>\n",
       "    <tr>\n",
       "      <th>1</th>\n",
       "      <td>2016-10-01 15:00:00</td>\n",
       "      <td>18.100000</td>\n",
       "      <td>4.0</td>\n",
       "      <td>30.0</td>\n",
       "      <td>70.0</td>\n",
       "      <td>0.0</td>\n",
       "      <td>95.0</td>\n",
       "      <td>1.1</td>\n",
       "      <td>140.0</td>\n",
       "    </tr>\n",
       "    <tr>\n",
       "      <th>2</th>\n",
       "      <td>2016-10-01 18:00:00</td>\n",
       "      <td>18.299999</td>\n",
       "      <td>4.0</td>\n",
       "      <td>30.0</td>\n",
       "      <td>40.0</td>\n",
       "      <td>0.0</td>\n",
       "      <td>94.0</td>\n",
       "      <td>0.7</td>\n",
       "      <td>120.0</td>\n",
       "    </tr>\n",
       "  </tbody>\n",
       "</table>\n",
       "</div>"
      ],
      "text/plain": [
       "                 time  temperature_3H  sky  rainfall_probability  rainfall  \\\n",
       "0 2016-10-01 12:00:00       19.000000  4.0                  30.0      40.0   \n",
       "1 2016-10-01 15:00:00       18.100000  4.0                  30.0      70.0   \n",
       "2 2016-10-01 18:00:00       18.299999  4.0                  30.0      40.0   \n",
       "\n",
       "   snow  humidity  wind_speed  wind_direction  \n",
       "0   0.0      90.0         0.8            12.0  \n",
       "1   0.0      95.0         1.1           140.0  \n",
       "2   0.0      94.0         0.7           120.0  "
      ]
     },
     "execution_count": 51,
     "metadata": {},
     "output_type": "execute_result"
    }
   ],
   "source": [
    "climate.head(3)"
   ]
  },
  {
   "cell_type": "code",
   "execution_count": 52,
   "metadata": {
    "scrolled": false
   },
   "outputs": [
    {
     "data": {
      "text/html": [
       "<div>\n",
       "<style scoped>\n",
       "    .dataframe tbody tr th:only-of-type {\n",
       "        vertical-align: middle;\n",
       "    }\n",
       "\n",
       "    .dataframe tbody tr th {\n",
       "        vertical-align: top;\n",
       "    }\n",
       "\n",
       "    .dataframe thead th {\n",
       "        text-align: right;\n",
       "    }\n",
       "</style>\n",
       "<table border=\"1\" class=\"dataframe\">\n",
       "  <thead>\n",
       "    <tr style=\"text-align: right;\">\n",
       "      <th></th>\n",
       "      <th>time</th>\n",
       "      <th>temperature_3H</th>\n",
       "      <th>sky</th>\n",
       "      <th>rainfall_probability</th>\n",
       "      <th>rainfall</th>\n",
       "      <th>snow</th>\n",
       "      <th>humidity</th>\n",
       "      <th>wind_speed</th>\n",
       "      <th>wind_direction</th>\n",
       "    </tr>\n",
       "  </thead>\n",
       "  <tbody>\n",
       "    <tr>\n",
       "      <th>4124</th>\n",
       "      <td>2018-03-01</td>\n",
       "      <td>1.0</td>\n",
       "      <td>3.0</td>\n",
       "      <td>20.0</td>\n",
       "      <td>0.0</td>\n",
       "      <td>0.0</td>\n",
       "      <td>85.0</td>\n",
       "      <td>7.5</td>\n",
       "      <td>309.0</td>\n",
       "    </tr>\n",
       "  </tbody>\n",
       "</table>\n",
       "</div>"
      ],
      "text/plain": [
       "           time  temperature_3H  sky  rainfall_probability  rainfall  snow  \\\n",
       "4124 2018-03-01             1.0  3.0                  20.0       0.0   0.0   \n",
       "\n",
       "      humidity  wind_speed  wind_direction  \n",
       "4124      85.0         7.5           309.0  "
      ]
     },
     "execution_count": 52,
     "metadata": {},
     "output_type": "execute_result"
    }
   ],
   "source": [
    "climate[climate.time == pd.to_datetime('2018-03-01 00:00:00')]"
   ]
  },
  {
   "cell_type": "code",
   "execution_count": 53,
   "metadata": {},
   "outputs": [
    {
     "data": {
      "text/html": [
       "<div>\n",
       "<style scoped>\n",
       "    .dataframe tbody tr th:only-of-type {\n",
       "        vertical-align: middle;\n",
       "    }\n",
       "\n",
       "    .dataframe tbody tr th {\n",
       "        vertical-align: top;\n",
       "    }\n",
       "\n",
       "    .dataframe thead th {\n",
       "        text-align: right;\n",
       "    }\n",
       "</style>\n",
       "<table border=\"1\" class=\"dataframe\">\n",
       "  <thead>\n",
       "    <tr style=\"text-align: right;\">\n",
       "      <th></th>\n",
       "      <th>time</th>\n",
       "      <th>temperature_3H</th>\n",
       "      <th>sky</th>\n",
       "      <th>rainfall_probability</th>\n",
       "      <th>rainfall</th>\n",
       "      <th>snow</th>\n",
       "      <th>humidity</th>\n",
       "      <th>wind_speed</th>\n",
       "      <th>wind_direction</th>\n",
       "    </tr>\n",
       "  </thead>\n",
       "  <tbody>\n",
       "  </tbody>\n",
       "</table>\n",
       "</div>"
      ],
      "text/plain": [
       "Empty DataFrame\n",
       "Columns: [time, temperature_3H, sky, rainfall_probability, rainfall, snow, humidity, wind_speed, wind_direction]\n",
       "Index: []"
      ]
     },
     "execution_count": 53,
     "metadata": {},
     "output_type": "execute_result"
    }
   ],
   "source": [
    "climate[climate.time == pd.to_datetime('2016-11-01 00:15:00')]"
   ]
  },
  {
   "cell_type": "code",
   "execution_count": 54,
   "metadata": {},
   "outputs": [],
   "source": [
    "climate = climate[2164:].copy()\n",
    "climate.reset_index(inplace=True, drop=True)"
   ]
  },
  {
   "cell_type": "code",
   "execution_count": 55,
   "metadata": {},
   "outputs": [],
   "source": [
    "climate.set_index(climate.columns[0], inplace=True)\n",
    "climate = climate.resample('15min').interpolate(limit_direction='both', method='linear')\n",
    "climate.reset_index(inplace=True, drop=False)"
   ]
  },
  {
   "cell_type": "code",
   "execution_count": 56,
   "metadata": {},
   "outputs": [
    {
     "data": {
      "text/html": [
       "<div>\n",
       "<style scoped>\n",
       "    .dataframe tbody tr th:only-of-type {\n",
       "        vertical-align: middle;\n",
       "    }\n",
       "\n",
       "    .dataframe tbody tr th {\n",
       "        vertical-align: top;\n",
       "    }\n",
       "\n",
       "    .dataframe thead th {\n",
       "        text-align: right;\n",
       "    }\n",
       "</style>\n",
       "<table border=\"1\" class=\"dataframe\">\n",
       "  <thead>\n",
       "    <tr style=\"text-align: right;\">\n",
       "      <th></th>\n",
       "      <th>time</th>\n",
       "      <th>temperature_3H</th>\n",
       "      <th>sky</th>\n",
       "      <th>rainfall_probability</th>\n",
       "      <th>rainfall</th>\n",
       "      <th>snow</th>\n",
       "      <th>humidity</th>\n",
       "      <th>wind_speed</th>\n",
       "      <th>wind_direction</th>\n",
       "    </tr>\n",
       "  </thead>\n",
       "  <tbody>\n",
       "    <tr>\n",
       "      <th>58594</th>\n",
       "      <td>2019-03-01 08:30:00</td>\n",
       "      <td>7.50</td>\n",
       "      <td>1.0</td>\n",
       "      <td>0.0</td>\n",
       "      <td>0.0</td>\n",
       "      <td>0.0</td>\n",
       "      <td>61.666667</td>\n",
       "      <td>4.016667</td>\n",
       "      <td>275.50</td>\n",
       "    </tr>\n",
       "    <tr>\n",
       "      <th>58595</th>\n",
       "      <td>2019-03-01 08:45:00</td>\n",
       "      <td>7.25</td>\n",
       "      <td>1.0</td>\n",
       "      <td>0.0</td>\n",
       "      <td>0.0</td>\n",
       "      <td>0.0</td>\n",
       "      <td>63.333333</td>\n",
       "      <td>4.008333</td>\n",
       "      <td>274.25</td>\n",
       "    </tr>\n",
       "    <tr>\n",
       "      <th>58596</th>\n",
       "      <td>2019-03-01 09:00:00</td>\n",
       "      <td>7.00</td>\n",
       "      <td>1.0</td>\n",
       "      <td>0.0</td>\n",
       "      <td>0.0</td>\n",
       "      <td>0.0</td>\n",
       "      <td>65.000000</td>\n",
       "      <td>4.000000</td>\n",
       "      <td>273.00</td>\n",
       "    </tr>\n",
       "  </tbody>\n",
       "</table>\n",
       "</div>"
      ],
      "text/plain": [
       "                     time  temperature_3H  sky  rainfall_probability  \\\n",
       "58594 2019-03-01 08:30:00            7.50  1.0                   0.0   \n",
       "58595 2019-03-01 08:45:00            7.25  1.0                   0.0   \n",
       "58596 2019-03-01 09:00:00            7.00  1.0                   0.0   \n",
       "\n",
       "       rainfall  snow   humidity  wind_speed  wind_direction  \n",
       "58594       0.0   0.0  61.666667    4.016667          275.50  \n",
       "58595       0.0   0.0  63.333333    4.008333          274.25  \n",
       "58596       0.0   0.0  65.000000    4.000000          273.00  "
      ]
     },
     "execution_count": 56,
     "metadata": {},
     "output_type": "execute_result"
    }
   ],
   "source": [
    "climate.tail(3)"
   ]
  },
  {
   "cell_type": "code",
   "execution_count": 57,
   "metadata": {},
   "outputs": [
    {
     "data": {
      "text/plain": [
       "count    58597.000000\n",
       "mean        11.977287\n",
       "std         10.937485\n",
       "min        -14.000000\n",
       "25%          2.000000\n",
       "50%         12.500000\n",
       "75%         22.000000\n",
       "max         35.000000\n",
       "Name: temperature_3H, dtype: float64"
      ]
     },
     "execution_count": 57,
     "metadata": {},
     "output_type": "execute_result"
    }
   ],
   "source": [
    "climate.temperature_3H.describe()"
   ]
  },
  {
   "cell_type": "code",
   "execution_count": 58,
   "metadata": {},
   "outputs": [],
   "source": [
    "%matplotlib inline\n",
    "climate.set_index('time', inplace=True)"
   ]
  },
  {
   "cell_type": "code",
   "execution_count": 59,
   "metadata": {},
   "outputs": [
    {
     "data": {
      "text/plain": [
       "<matplotlib.axes._subplots.AxesSubplot at 0x222e0adac18>"
      ]
     },
     "execution_count": 59,
     "metadata": {},
     "output_type": "execute_result"
    },
    {
     "data": {
      "image/png": "[encoded data removed]",
      "text/plain": [
       "<Figure size 432x288 with 1 Axes>"
      ]
     },
     "metadata": {},
     "output_type": "display_data"
    }
   ],
   "source": [
    "climate.temperature_3H.plot()"
   ]
  },
  {
   "cell_type": "code",
   "execution_count": 60,
   "metadata": {},
   "outputs": [
    {
     "data": {
      "text/plain": [
       "(3355, 0)"
      ]
     },
     "execution_count": 60,
     "metadata": {},
     "output_type": "execute_result"
    }
   ],
   "source": [
    "len(climate[climate.rainfall > 0]), len(climate[climate.rainfall < 0])"
   ]
  },
  {
   "cell_type": "code",
   "execution_count": 61,
   "metadata": {
    "scrolled": false
   },
   "outputs": [
    {
     "data": {
      "text/plain": [
       "(626, 0)"
      ]
     },
     "execution_count": 61,
     "metadata": {},
     "output_type": "execute_result"
    }
   ],
   "source": [
    "len(climate[climate.snow > 0]), len(climate[climate.snow < 0])"
   ]
  },
  {
   "cell_type": "code",
   "execution_count": 62,
   "metadata": {},
   "outputs": [],
   "source": [
    "climate.reset_index(inplace=True, drop=False)"
   ]
  },
  {
   "cell_type": "code",
   "execution_count": 63,
   "metadata": {},
   "outputs": [
    {
     "data": {
      "text/html": [
       "<div>\n",
       "<style scoped>\n",
       "    .dataframe tbody tr th:only-of-type {\n",
       "        vertical-align: middle;\n",
       "    }\n",
       "\n",
       "    .dataframe tbody tr th {\n",
       "        vertical-align: top;\n",
       "    }\n",
       "\n",
       "    .dataframe thead th {\n",
       "        text-align: right;\n",
       "    }\n",
       "</style>\n",
       "<table border=\"1\" class=\"dataframe\">\n",
       "  <thead>\n",
       "    <tr style=\"text-align: right;\">\n",
       "      <th></th>\n",
       "      <th>time</th>\n",
       "      <th>temperature_3H</th>\n",
       "      <th>sky</th>\n",
       "      <th>rainfall_probability</th>\n",
       "      <th>rainfall</th>\n",
       "      <th>snow</th>\n",
       "      <th>humidity</th>\n",
       "      <th>wind_speed</th>\n",
       "      <th>wind_direction</th>\n",
       "    </tr>\n",
       "  </thead>\n",
       "  <tbody>\n",
       "    <tr>\n",
       "      <th>0</th>\n",
       "      <td>2017-06-29 00:00:00</td>\n",
       "      <td>24.000000</td>\n",
       "      <td>3.0</td>\n",
       "      <td>20.0</td>\n",
       "      <td>0.0</td>\n",
       "      <td>0.0</td>\n",
       "      <td>90.000000</td>\n",
       "      <td>1.800000</td>\n",
       "      <td>251.000000</td>\n",
       "    </tr>\n",
       "    <tr>\n",
       "      <th>1</th>\n",
       "      <td>2017-06-29 00:15:00</td>\n",
       "      <td>24.166667</td>\n",
       "      <td>3.0</td>\n",
       "      <td>20.0</td>\n",
       "      <td>0.0</td>\n",
       "      <td>0.0</td>\n",
       "      <td>89.166667</td>\n",
       "      <td>1.883333</td>\n",
       "      <td>254.833333</td>\n",
       "    </tr>\n",
       "    <tr>\n",
       "      <th>2</th>\n",
       "      <td>2017-06-29 00:30:00</td>\n",
       "      <td>24.333333</td>\n",
       "      <td>3.0</td>\n",
       "      <td>20.0</td>\n",
       "      <td>0.0</td>\n",
       "      <td>0.0</td>\n",
       "      <td>88.333333</td>\n",
       "      <td>1.966667</td>\n",
       "      <td>258.666667</td>\n",
       "    </tr>\n",
       "  </tbody>\n",
       "</table>\n",
       "</div>"
      ],
      "text/plain": [
       "                 time  temperature_3H  sky  rainfall_probability  rainfall  \\\n",
       "0 2017-06-29 00:00:00       24.000000  3.0                  20.0       0.0   \n",
       "1 2017-06-29 00:15:00       24.166667  3.0                  20.0       0.0   \n",
       "2 2017-06-29 00:30:00       24.333333  3.0                  20.0       0.0   \n",
       "\n",
       "   snow   humidity  wind_speed  wind_direction  \n",
       "0   0.0  90.000000    1.800000      251.000000  \n",
       "1   0.0  89.166667    1.883333      254.833333  \n",
       "2   0.0  88.333333    1.966667      258.666667  "
      ]
     },
     "execution_count": 63,
     "metadata": {},
     "output_type": "execute_result"
    }
   ],
   "source": [
    "climate.head(3)"
   ]
  },
  {
   "cell_type": "code",
   "execution_count": 64,
   "metadata": {},
   "outputs": [],
   "source": [
    "climate.rainfall[climate[climate.rainfall < 0].rainfall.index] = 0"
   ]
  },
  {
   "cell_type": "code",
   "execution_count": 65,
   "metadata": {},
   "outputs": [],
   "source": [
    "climate.snow[climate[climate.snow < 0].snow.index] = 0"
   ]
  },
  {
   "cell_type": "code",
   "execution_count": 66,
   "metadata": {},
   "outputs": [
    {
     "data": {
      "text/plain": [
       "(3355, 0)"
      ]
     },
     "execution_count": 66,
     "metadata": {},
     "output_type": "execute_result"
    }
   ],
   "source": [
    "len(climate[climate.rainfall > 0]), len(climate[climate.rainfall < 0])"
   ]
  },
  {
   "cell_type": "code",
   "execution_count": 67,
   "metadata": {},
   "outputs": [
    {
     "data": {
      "text/plain": [
       "(626, 0)"
      ]
     },
     "execution_count": 67,
     "metadata": {},
     "output_type": "execute_result"
    }
   ],
   "source": [
    "len(climate[climate.snow > 0]), len(climate[climate.snow < 0])"
   ]
  },
  {
   "cell_type": "code",
   "execution_count": 68,
   "metadata": {
    "scrolled": false
   },
   "outputs": [
    {
     "data": {
      "text/html": [
       "<div>\n",
       "<style scoped>\n",
       "    .dataframe tbody tr th:only-of-type {\n",
       "        vertical-align: middle;\n",
       "    }\n",
       "\n",
       "    .dataframe tbody tr th {\n",
       "        vertical-align: top;\n",
       "    }\n",
       "\n",
       "    .dataframe thead th {\n",
       "        text-align: right;\n",
       "    }\n",
       "</style>\n",
       "<table border=\"1\" class=\"dataframe\">\n",
       "  <thead>\n",
       "    <tr style=\"text-align: right;\">\n",
       "      <th></th>\n",
       "      <th>time</th>\n",
       "      <th>temperature_3H</th>\n",
       "      <th>sky</th>\n",
       "      <th>rainfall_probability</th>\n",
       "      <th>rainfall</th>\n",
       "      <th>snow</th>\n",
       "      <th>humidity</th>\n",
       "      <th>wind_speed</th>\n",
       "      <th>wind_direction</th>\n",
       "    </tr>\n",
       "  </thead>\n",
       "  <tbody>\n",
       "    <tr>\n",
       "      <th>0</th>\n",
       "      <td>2017-06-29 00:00:00</td>\n",
       "      <td>24.000000</td>\n",
       "      <td>3.0</td>\n",
       "      <td>20.0</td>\n",
       "      <td>0.0</td>\n",
       "      <td>0.0</td>\n",
       "      <td>90.000000</td>\n",
       "      <td>1.800000</td>\n",
       "      <td>251.000000</td>\n",
       "    </tr>\n",
       "    <tr>\n",
       "      <th>1</th>\n",
       "      <td>2017-06-29 00:15:00</td>\n",
       "      <td>24.166667</td>\n",
       "      <td>3.0</td>\n",
       "      <td>20.0</td>\n",
       "      <td>0.0</td>\n",
       "      <td>0.0</td>\n",
       "      <td>89.166667</td>\n",
       "      <td>1.883333</td>\n",
       "      <td>254.833333</td>\n",
       "    </tr>\n",
       "    <tr>\n",
       "      <th>2</th>\n",
       "      <td>2017-06-29 00:30:00</td>\n",
       "      <td>24.333333</td>\n",
       "      <td>3.0</td>\n",
       "      <td>20.0</td>\n",
       "      <td>0.0</td>\n",
       "      <td>0.0</td>\n",
       "      <td>88.333333</td>\n",
       "      <td>1.966667</td>\n",
       "      <td>258.666667</td>\n",
       "    </tr>\n",
       "  </tbody>\n",
       "</table>\n",
       "</div>"
      ],
      "text/plain": [
       "                 time  temperature_3H  sky  rainfall_probability  rainfall  \\\n",
       "0 2017-06-29 00:00:00       24.000000  3.0                  20.0       0.0   \n",
       "1 2017-06-29 00:15:00       24.166667  3.0                  20.0       0.0   \n",
       "2 2017-06-29 00:30:00       24.333333  3.0                  20.0       0.0   \n",
       "\n",
       "   snow   humidity  wind_speed  wind_direction  \n",
       "0   0.0  90.000000    1.800000      251.000000  \n",
       "1   0.0  89.166667    1.883333      254.833333  \n",
       "2   0.0  88.333333    1.966667      258.666667  "
      ]
     },
     "execution_count": 68,
     "metadata": {},
     "output_type": "execute_result"
    }
   ],
   "source": [
    "climate.head(3)"
   ]
  },
  {
   "cell_type": "code",
   "execution_count": 69,
   "metadata": {},
   "outputs": [],
   "source": [
    "def wind_direction(degree):\n",
    "    if degree >= 337.5 or degree < 22.5:\n",
    "        return '북풍'\n",
    "    elif 22.5 <= degree < 67.5:\n",
    "        return '북동풍'\n",
    "    elif 67.5 <= degree < 112.5:\n",
    "        return '동풍'\n",
    "    elif 112.5 <= degree < 157.5:\n",
    "        return '남동풍'\n",
    "    elif 157.5 <= degree < 202.5:\n",
    "        return '남풍'\n",
    "    elif 202.5 <= degree < 247.5:\n",
    "        return '남서풍'\n",
    "    elif 247.5 <= degree < 292.5:\n",
    "        return '서풍'\n",
    "    else:\n",
    "        return '북서풍'"
   ]
  },
  {
   "cell_type": "code",
   "execution_count": 70,
   "metadata": {},
   "outputs": [],
   "source": [
    "climate.wind_direction = climate.wind_direction.apply(lambda x: wind_direction(x))"
   ]
  },
  {
   "cell_type": "code",
   "execution_count": 71,
   "metadata": {},
   "outputs": [
    {
     "data": {
      "text/html": [
       "<div>\n",
       "<style scoped>\n",
       "    .dataframe tbody tr th:only-of-type {\n",
       "        vertical-align: middle;\n",
       "    }\n",
       "\n",
       "    .dataframe tbody tr th {\n",
       "        vertical-align: top;\n",
       "    }\n",
       "\n",
       "    .dataframe thead th {\n",
       "        text-align: right;\n",
       "    }\n",
       "</style>\n",
       "<table border=\"1\" class=\"dataframe\">\n",
       "  <thead>\n",
       "    <tr style=\"text-align: right;\">\n",
       "      <th></th>\n",
       "      <th>time</th>\n",
       "      <th>temperature_3H</th>\n",
       "      <th>sky</th>\n",
       "      <th>rainfall_probability</th>\n",
       "      <th>rainfall</th>\n",
       "      <th>snow</th>\n",
       "      <th>humidity</th>\n",
       "      <th>wind_speed</th>\n",
       "      <th>wind_direction</th>\n",
       "    </tr>\n",
       "  </thead>\n",
       "  <tbody>\n",
       "    <tr>\n",
       "      <th>0</th>\n",
       "      <td>2017-06-29 00:00:00</td>\n",
       "      <td>24.000000</td>\n",
       "      <td>3.0</td>\n",
       "      <td>20.0</td>\n",
       "      <td>0.0</td>\n",
       "      <td>0.0</td>\n",
       "      <td>90.000000</td>\n",
       "      <td>1.800000</td>\n",
       "      <td>서풍</td>\n",
       "    </tr>\n",
       "    <tr>\n",
       "      <th>1</th>\n",
       "      <td>2017-06-29 00:15:00</td>\n",
       "      <td>24.166667</td>\n",
       "      <td>3.0</td>\n",
       "      <td>20.0</td>\n",
       "      <td>0.0</td>\n",
       "      <td>0.0</td>\n",
       "      <td>89.166667</td>\n",
       "      <td>1.883333</td>\n",
       "      <td>서풍</td>\n",
       "    </tr>\n",
       "    <tr>\n",
       "      <th>2</th>\n",
       "      <td>2017-06-29 00:30:00</td>\n",
       "      <td>24.333333</td>\n",
       "      <td>3.0</td>\n",
       "      <td>20.0</td>\n",
       "      <td>0.0</td>\n",
       "      <td>0.0</td>\n",
       "      <td>88.333333</td>\n",
       "      <td>1.966667</td>\n",
       "      <td>서풍</td>\n",
       "    </tr>\n",
       "  </tbody>\n",
       "</table>\n",
       "</div>"
      ],
      "text/plain": [
       "                 time  temperature_3H  sky  rainfall_probability  rainfall  \\\n",
       "0 2017-06-29 00:00:00       24.000000  3.0                  20.0       0.0   \n",
       "1 2017-06-29 00:15:00       24.166667  3.0                  20.0       0.0   \n",
       "2 2017-06-29 00:30:00       24.333333  3.0                  20.0       0.0   \n",
       "\n",
       "   snow   humidity  wind_speed wind_direction  \n",
       "0   0.0  90.000000    1.800000             서풍  \n",
       "1   0.0  89.166667    1.883333             서풍  \n",
       "2   0.0  88.333333    1.966667             서풍  "
      ]
     },
     "execution_count": 71,
     "metadata": {},
     "output_type": "execute_result"
    }
   ],
   "source": [
    "climate.head(3)"
   ]
  },
  {
   "cell_type": "code",
   "execution_count": 72,
   "metadata": {
    "scrolled": true
   },
   "outputs": [
    {
     "data": {
      "text/plain": [
       "array(['서풍', '북서풍', '북풍', '남서풍', '남풍', '남동풍', '동풍', '북동풍'], dtype=object)"
      ]
     },
     "execution_count": 72,
     "metadata": {},
     "output_type": "execute_result"
    }
   ],
   "source": [
    "climate.wind_direction.unique()"
   ]
  },
  {
   "cell_type": "code",
   "execution_count": 73,
   "metadata": {},
   "outputs": [],
   "source": [
    "climate.wind_direction=climate.wind_direction.map({'북풍':0, '북동풍':1, '동풍':2, '남동풍':3,\n",
    "                                                   '남풍':4, '남서풍':5, '서풍':6, '북서풍':7})"
   ]
  },
  {
   "cell_type": "code",
   "execution_count": 74,
   "metadata": {},
   "outputs": [],
   "source": [
    "climate.wind_direction = climate.wind_direction.astype('category')"
   ]
  },
  {
   "cell_type": "code",
   "execution_count": 75,
   "metadata": {
    "scrolled": true
   },
   "outputs": [
    {
     "data": {
      "text/plain": [
       "CategoricalDtype(categories=[0, 1, 2, 3, 4, 5, 6, 7], ordered=False)"
      ]
     },
     "execution_count": 75,
     "metadata": {},
     "output_type": "execute_result"
    }
   ],
   "source": [
    "climate.wind_direction.dtype"
   ]
  },
  {
   "cell_type": "code",
   "execution_count": 76,
   "metadata": {},
   "outputs": [],
   "source": [
    "# from sklearn import preprocessing\n",
    "\n",
    "# le = preprocessing.LabelEncoder()"
   ]
  },
  {
   "cell_type": "code",
   "execution_count": 77,
   "metadata": {},
   "outputs": [],
   "source": [
    "# le.fit(climate.wind_direction)"
   ]
  },
  {
   "cell_type": "code",
   "execution_count": 78,
   "metadata": {},
   "outputs": [],
   "source": [
    "# list(le.classes_)"
   ]
  },
  {
   "cell_type": "code",
   "execution_count": 79,
   "metadata": {},
   "outputs": [],
   "source": [
    "# le.transform(climate.wind_direction)"
   ]
  },
  {
   "cell_type": "code",
   "execution_count": 80,
   "metadata": {},
   "outputs": [],
   "source": [
    "#복구\n",
    "#list(le.inverse_transform())"
   ]
  },
  {
   "cell_type": "code",
   "execution_count": 81,
   "metadata": {},
   "outputs": [],
   "source": [
    "# climate.wind_direction = le.transform(climate.wind_direction)"
   ]
  },
  {
   "cell_type": "code",
   "execution_count": 82,
   "metadata": {},
   "outputs": [
    {
     "data": {
      "text/html": [
       "<div>\n",
       "<style scoped>\n",
       "    .dataframe tbody tr th:only-of-type {\n",
       "        vertical-align: middle;\n",
       "    }\n",
       "\n",
       "    .dataframe tbody tr th {\n",
       "        vertical-align: top;\n",
       "    }\n",
       "\n",
       "    .dataframe thead th {\n",
       "        text-align: right;\n",
       "    }\n",
       "</style>\n",
       "<table border=\"1\" class=\"dataframe\">\n",
       "  <thead>\n",
       "    <tr style=\"text-align: right;\">\n",
       "      <th></th>\n",
       "      <th>time</th>\n",
       "      <th>temperature_3H</th>\n",
       "      <th>sky</th>\n",
       "      <th>rainfall_probability</th>\n",
       "      <th>rainfall</th>\n",
       "      <th>snow</th>\n",
       "      <th>humidity</th>\n",
       "      <th>wind_speed</th>\n",
       "      <th>wind_direction</th>\n",
       "    </tr>\n",
       "  </thead>\n",
       "  <tbody>\n",
       "    <tr>\n",
       "      <th>0</th>\n",
       "      <td>2017-06-29 00:00:00</td>\n",
       "      <td>24.000000</td>\n",
       "      <td>3.0</td>\n",
       "      <td>20.0</td>\n",
       "      <td>0.0</td>\n",
       "      <td>0.0</td>\n",
       "      <td>90.000000</td>\n",
       "      <td>1.800000</td>\n",
       "      <td>6</td>\n",
       "    </tr>\n",
       "    <tr>\n",
       "      <th>1</th>\n",
       "      <td>2017-06-29 00:15:00</td>\n",
       "      <td>24.166667</td>\n",
       "      <td>3.0</td>\n",
       "      <td>20.0</td>\n",
       "      <td>0.0</td>\n",
       "      <td>0.0</td>\n",
       "      <td>89.166667</td>\n",
       "      <td>1.883333</td>\n",
       "      <td>6</td>\n",
       "    </tr>\n",
       "    <tr>\n",
       "      <th>2</th>\n",
       "      <td>2017-06-29 00:30:00</td>\n",
       "      <td>24.333333</td>\n",
       "      <td>3.0</td>\n",
       "      <td>20.0</td>\n",
       "      <td>0.0</td>\n",
       "      <td>0.0</td>\n",
       "      <td>88.333333</td>\n",
       "      <td>1.966667</td>\n",
       "      <td>6</td>\n",
       "    </tr>\n",
       "  </tbody>\n",
       "</table>\n",
       "</div>"
      ],
      "text/plain": [
       "                 time  temperature_3H  sky  rainfall_probability  rainfall  \\\n",
       "0 2017-06-29 00:00:00       24.000000  3.0                  20.0       0.0   \n",
       "1 2017-06-29 00:15:00       24.166667  3.0                  20.0       0.0   \n",
       "2 2017-06-29 00:30:00       24.333333  3.0                  20.0       0.0   \n",
       "\n",
       "   snow   humidity  wind_speed wind_direction  \n",
       "0   0.0  90.000000    1.800000              6  \n",
       "1   0.0  89.166667    1.883333              6  \n",
       "2   0.0  88.333333    1.966667              6  "
      ]
     },
     "execution_count": 82,
     "metadata": {},
     "output_type": "execute_result"
    }
   ],
   "source": [
    "climate.head(3)"
   ]
  },
  {
   "cell_type": "markdown",
   "metadata": {},
   "source": [
    "- solar_altitude"
   ]
  },
  {
   "cell_type": "code",
   "execution_count": 83,
   "metadata": {},
   "outputs": [],
   "source": [
    "# solar_altitude = pd.read_csv('solar_altitude.csv', parse_dates=True)"
   ]
  },
  {
   "cell_type": "code",
   "execution_count": 90,
   "metadata": {},
   "outputs": [],
   "source": [
    "solar_altitude = pd.read_pickle('C:/Users/ewpadmin/KMS/solar_altitude.pkl')"
   ]
  },
  {
   "cell_type": "code",
   "execution_count": 91,
   "metadata": {
    "scrolled": true
   },
   "outputs": [
    {
     "data": {
      "text/html": [
       "<div>\n",
       "<style scoped>\n",
       "    .dataframe tbody tr th:only-of-type {\n",
       "        vertical-align: middle;\n",
       "    }\n",
       "\n",
       "    .dataframe tbody tr th {\n",
       "        vertical-align: top;\n",
       "    }\n",
       "\n",
       "    .dataframe thead th {\n",
       "        text-align: right;\n",
       "    }\n",
       "</style>\n",
       "<table border=\"1\" class=\"dataframe\">\n",
       "  <thead>\n",
       "    <tr style=\"text-align: right;\">\n",
       "      <th></th>\n",
       "      <th>time</th>\n",
       "      <th>Elevation_angle</th>\n",
       "      <th>Azimuth_angle</th>\n",
       "    </tr>\n",
       "  </thead>\n",
       "  <tbody>\n",
       "    <tr>\n",
       "      <th>0</th>\n",
       "      <td>2017-01-01 08:00:00</td>\n",
       "      <td>1.70</td>\n",
       "      <td>120.51</td>\n",
       "    </tr>\n",
       "    <tr>\n",
       "      <th>1</th>\n",
       "      <td>2017-01-01 08:15:00</td>\n",
       "      <td>4.10</td>\n",
       "      <td>122.84</td>\n",
       "    </tr>\n",
       "    <tr>\n",
       "      <th>2</th>\n",
       "      <td>2017-01-01 08:30:00</td>\n",
       "      <td>6.52</td>\n",
       "      <td>125.25</td>\n",
       "    </tr>\n",
       "  </tbody>\n",
       "</table>\n",
       "</div>"
      ],
      "text/plain": [
       "                 time  Elevation_angle  Azimuth_angle\n",
       "0 2017-01-01 08:00:00             1.70         120.51\n",
       "1 2017-01-01 08:15:00             4.10         122.84\n",
       "2 2017-01-01 08:30:00             6.52         125.25"
      ]
     },
     "execution_count": 91,
     "metadata": {},
     "output_type": "execute_result"
    }
   ],
   "source": [
    "solar_altitude.rename(columns={'datetime': 'time'}, inplace=True)\n",
    "solar_altitude.head(3)"
   ]
  },
  {
   "cell_type": "code",
   "execution_count": 94,
   "metadata": {},
   "outputs": [],
   "source": [
    "# drop_24 = []\n",
    "\n",
    "# for i in range(len(solar_altitude)):\n",
    "#     if '24:00' in solar_altitude.time[i]:\n",
    "#         drop_24.append(i)"
   ]
  },
  {
   "cell_type": "code",
   "execution_count": 95,
   "metadata": {},
   "outputs": [],
   "source": [
    "# solar_altitude.drop(drop_24, axis=0, inplace=True)"
   ]
  },
  {
   "cell_type": "code",
   "execution_count": 96,
   "metadata": {},
   "outputs": [],
   "source": [
    "solar_altitude.time = pd.to_datetime(solar_altitude.time)"
   ]
  },
  {
   "cell_type": "code",
   "execution_count": 97,
   "metadata": {},
   "outputs": [
    {
     "data": {
      "text/plain": [
       "<matplotlib.axes._subplots.AxesSubplot at 0x222e3b636a0>"
      ]
     },
     "execution_count": 97,
     "metadata": {},
     "output_type": "execute_result"
    },
    {
     "data": {
      "image/png": "[encoded data removed]",
      "text/plain": [
       "<Figure size 432x288 with 1 Axes>"
      ]
     },
     "metadata": {},
     "output_type": "display_data"
    }
   ],
   "source": [
    "solar_altitude.Elevation_angle[:500].plot()"
   ]
  },
  {
   "cell_type": "code",
   "execution_count": 98,
   "metadata": {
    "scrolled": true
   },
   "outputs": [
    {
     "data": {
      "text/plain": [
       "<matplotlib.axes._subplots.AxesSubplot at 0x222e3b59908>"
      ]
     },
     "execution_count": 98,
     "metadata": {},
     "output_type": "execute_result"
    },
    {
     "data": {
      "image/png": "[encoded data removed]",
      "text/plain": [
       "<Figure size 432x288 with 1 Axes>"
      ]
     },
     "metadata": {},
     "output_type": "display_data"
    }
   ],
   "source": [
    "solar_altitude.Azimuth_angle[:500].plot()"
   ]
  },
  {
   "cell_type": "code",
   "execution_count": 99,
   "metadata": {},
   "outputs": [
    {
     "data": {
      "text/html": [
       "<div>\n",
       "<style scoped>\n",
       "    .dataframe tbody tr th:only-of-type {\n",
       "        vertical-align: middle;\n",
       "    }\n",
       "\n",
       "    .dataframe tbody tr th {\n",
       "        vertical-align: top;\n",
       "    }\n",
       "\n",
       "    .dataframe thead th {\n",
       "        text-align: right;\n",
       "    }\n",
       "</style>\n",
       "<table border=\"1\" class=\"dataframe\">\n",
       "  <thead>\n",
       "    <tr style=\"text-align: right;\">\n",
       "      <th></th>\n",
       "      <th>Elevation_angle</th>\n",
       "      <th>Azimuth_angle</th>\n",
       "    </tr>\n",
       "  </thead>\n",
       "  <tbody>\n",
       "    <tr>\n",
       "      <th>count</th>\n",
       "      <td>75744.000000</td>\n",
       "      <td>75744.000000</td>\n",
       "    </tr>\n",
       "    <tr>\n",
       "      <th>mean</th>\n",
       "      <td>-0.653621</td>\n",
       "      <td>180.393638</td>\n",
       "    </tr>\n",
       "    <tr>\n",
       "      <th>std</th>\n",
       "      <td>37.635133</td>\n",
       "      <td>99.561031</td>\n",
       "    </tr>\n",
       "    <tr>\n",
       "      <th>min</th>\n",
       "      <td>-76.400000</td>\n",
       "      <td>0.030000</td>\n",
       "    </tr>\n",
       "    <tr>\n",
       "      <th>25%</th>\n",
       "      <td>-30.530000</td>\n",
       "      <td>90.937500</td>\n",
       "    </tr>\n",
       "    <tr>\n",
       "      <th>50%</th>\n",
       "      <td>0.000000</td>\n",
       "      <td>180.010000</td>\n",
       "    </tr>\n",
       "    <tr>\n",
       "      <th>75%</th>\n",
       "      <td>29.620000</td>\n",
       "      <td>269.462500</td>\n",
       "    </tr>\n",
       "    <tr>\n",
       "      <th>max</th>\n",
       "      <td>76.350000</td>\n",
       "      <td>359.980000</td>\n",
       "    </tr>\n",
       "  </tbody>\n",
       "</table>\n",
       "</div>"
      ],
      "text/plain": [
       "       Elevation_angle  Azimuth_angle\n",
       "count     75744.000000   75744.000000\n",
       "mean         -0.653621     180.393638\n",
       "std          37.635133      99.561031\n",
       "min         -76.400000       0.030000\n",
       "25%         -30.530000      90.937500\n",
       "50%           0.000000     180.010000\n",
       "75%          29.620000     269.462500\n",
       "max          76.350000     359.980000"
      ]
     },
     "execution_count": 99,
     "metadata": {},
     "output_type": "execute_result"
    }
   ],
   "source": [
    "solar_altitude.describe()"
   ]
  },
  {
   "cell_type": "markdown",
   "metadata": {},
   "source": [
    "- dust"
   ]
  },
  {
   "cell_type": "code",
   "execution_count": 100,
   "metadata": {
    "scrolled": true
   },
   "outputs": [
    {
     "data": {
      "text/html": [
       "<div>\n",
       "<style scoped>\n",
       "    .dataframe tbody tr th:only-of-type {\n",
       "        vertical-align: middle;\n",
       "    }\n",
       "\n",
       "    .dataframe tbody tr th {\n",
       "        vertical-align: top;\n",
       "    }\n",
       "\n",
       "    .dataframe thead th {\n",
       "        text-align: right;\n",
       "    }\n",
       "</style>\n",
       "<table border=\"1\" class=\"dataframe\">\n",
       "  <thead>\n",
       "    <tr style=\"text-align: right;\">\n",
       "      <th></th>\n",
       "      <th>time</th>\n",
       "      <th>dust_132</th>\n",
       "    </tr>\n",
       "  </thead>\n",
       "  <tbody>\n",
       "    <tr>\n",
       "      <th>0</th>\n",
       "      <td>2017-01-01 01:00:00</td>\n",
       "      <td>42.00</td>\n",
       "    </tr>\n",
       "    <tr>\n",
       "      <th>1</th>\n",
       "      <td>2017-01-01 01:15:00</td>\n",
       "      <td>43.25</td>\n",
       "    </tr>\n",
       "    <tr>\n",
       "      <th>2</th>\n",
       "      <td>2017-01-01 01:30:00</td>\n",
       "      <td>44.50</td>\n",
       "    </tr>\n",
       "  </tbody>\n",
       "</table>\n",
       "</div>"
      ],
      "text/plain": [
       "                 time  dust_132\n",
       "0 2017-01-01 01:00:00     42.00\n",
       "1 2017-01-01 01:15:00     43.25\n",
       "2 2017-01-01 01:30:00     44.50"
      ]
     },
     "execution_count": 100,
     "metadata": {},
     "output_type": "execute_result"
    }
   ],
   "source": [
    "dust =  pd.read_pickle('C:/Users/ewpadmin/JDY/2016~2019 fine dust/2017~2019 fine dust_15min.pkl')\n",
    "dust.reset_index(inplace=True, drop=False)\n",
    "dust.columns = ['time', 'dust_132', 'dust_229', 'dust_232']\n",
    "dust = dust.drop(['dust_229', 'dust_232'], axis=1)\n",
    "dust.head(3)"
   ]
  },
  {
   "cell_type": "code",
   "execution_count": 101,
   "metadata": {},
   "outputs": [
    {
     "data": {
      "text/html": [
       "<div>\n",
       "<style scoped>\n",
       "    .dataframe tbody tr th:only-of-type {\n",
       "        vertical-align: middle;\n",
       "    }\n",
       "\n",
       "    .dataframe tbody tr th {\n",
       "        vertical-align: top;\n",
       "    }\n",
       "\n",
       "    .dataframe thead th {\n",
       "        text-align: right;\n",
       "    }\n",
       "</style>\n",
       "<table border=\"1\" class=\"dataframe\">\n",
       "  <thead>\n",
       "    <tr style=\"text-align: right;\">\n",
       "      <th></th>\n",
       "      <th>dust_132</th>\n",
       "    </tr>\n",
       "  </thead>\n",
       "  <tbody>\n",
       "    <tr>\n",
       "      <th>count</th>\n",
       "      <td>72381.000000</td>\n",
       "    </tr>\n",
       "    <tr>\n",
       "      <th>mean</th>\n",
       "      <td>33.334003</td>\n",
       "    </tr>\n",
       "    <tr>\n",
       "      <th>std</th>\n",
       "      <td>24.408777</td>\n",
       "    </tr>\n",
       "    <tr>\n",
       "      <th>min</th>\n",
       "      <td>1.000000</td>\n",
       "    </tr>\n",
       "    <tr>\n",
       "      <th>25%</th>\n",
       "      <td>19.000000</td>\n",
       "    </tr>\n",
       "    <tr>\n",
       "      <th>50%</th>\n",
       "      <td>27.750000</td>\n",
       "    </tr>\n",
       "    <tr>\n",
       "      <th>75%</th>\n",
       "      <td>40.000000</td>\n",
       "    </tr>\n",
       "    <tr>\n",
       "      <th>max</th>\n",
       "      <td>493.000000</td>\n",
       "    </tr>\n",
       "  </tbody>\n",
       "</table>\n",
       "</div>"
      ],
      "text/plain": [
       "           dust_132\n",
       "count  72381.000000\n",
       "mean      33.334003\n",
       "std       24.408777\n",
       "min        1.000000\n",
       "25%       19.000000\n",
       "50%       27.750000\n",
       "75%       40.000000\n",
       "max      493.000000"
      ]
     },
     "execution_count": 101,
     "metadata": {},
     "output_type": "execute_result"
    }
   ],
   "source": [
    "dust.describe()"
   ]
  },
  {
   "cell_type": "code",
   "execution_count": 102,
   "metadata": {
    "scrolled": true
   },
   "outputs": [
    {
     "data": {
      "text/html": [
       "<div>\n",
       "<style scoped>\n",
       "    .dataframe tbody tr th:only-of-type {\n",
       "        vertical-align: middle;\n",
       "    }\n",
       "\n",
       "    .dataframe tbody tr th {\n",
       "        vertical-align: top;\n",
       "    }\n",
       "\n",
       "    .dataframe thead th {\n",
       "        text-align: right;\n",
       "    }\n",
       "</style>\n",
       "<table border=\"1\" class=\"dataframe\">\n",
       "  <thead>\n",
       "    <tr style=\"text-align: right;\">\n",
       "      <th></th>\n",
       "      <th>time</th>\n",
       "      <th>dust_132</th>\n",
       "    </tr>\n",
       "  </thead>\n",
       "  <tbody>\n",
       "    <tr>\n",
       "      <th>1308</th>\n",
       "      <td>2019.2.24 22:00</td>\n",
       "      <td>32</td>\n",
       "    </tr>\n",
       "    <tr>\n",
       "      <th>1309</th>\n",
       "      <td>2019.2.24 23:00</td>\n",
       "      <td>38</td>\n",
       "    </tr>\n",
       "    <tr>\n",
       "      <th>1310</th>\n",
       "      <td>2019.2.25 0:00</td>\n",
       "      <td>55</td>\n",
       "    </tr>\n",
       "  </tbody>\n",
       "</table>\n",
       "</div>"
      ],
      "text/plain": [
       "                 time  dust_132\n",
       "1308  2019.2.24 22:00        32\n",
       "1309  2019.2.24 23:00        38\n",
       "1310   2019.2.25 0:00        55"
      ]
     },
     "execution_count": 102,
     "metadata": {},
     "output_type": "execute_result"
    }
   ],
   "source": [
    "import pandas as pd\n",
    "dust2 = pd.read_csv('2019_dust(132).csv')\n",
    "dust2.tail(3)"
   ]
  },
  {
   "cell_type": "code",
   "execution_count": 103,
   "metadata": {},
   "outputs": [],
   "source": [
    "dust2.time = pd.to_datetime(dust2.time, format='%Y.%m.%d %H:%M:%S')"
   ]
  },
  {
   "cell_type": "code",
   "execution_count": 104,
   "metadata": {
    "scrolled": true
   },
   "outputs": [
    {
     "data": {
      "text/html": [
       "<div>\n",
       "<style scoped>\n",
       "    .dataframe tbody tr th:only-of-type {\n",
       "        vertical-align: middle;\n",
       "    }\n",
       "\n",
       "    .dataframe tbody tr th {\n",
       "        vertical-align: top;\n",
       "    }\n",
       "\n",
       "    .dataframe thead th {\n",
       "        text-align: right;\n",
       "    }\n",
       "</style>\n",
       "<table border=\"1\" class=\"dataframe\">\n",
       "  <thead>\n",
       "    <tr style=\"text-align: right;\">\n",
       "      <th></th>\n",
       "      <th>time</th>\n",
       "      <th>dust_132</th>\n",
       "    </tr>\n",
       "  </thead>\n",
       "  <tbody>\n",
       "    <tr>\n",
       "      <th>576</th>\n",
       "      <td>2019-01-25</td>\n",
       "      <td>15</td>\n",
       "    </tr>\n",
       "  </tbody>\n",
       "</table>\n",
       "</div>"
      ],
      "text/plain": [
       "          time  dust_132\n",
       "576 2019-01-25        15"
      ]
     },
     "execution_count": 104,
     "metadata": {},
     "output_type": "execute_result"
    }
   ],
   "source": [
    "dust2[dust2.time == pd.to_datetime('2019-01-25 00:00:00')]"
   ]
  },
  {
   "cell_type": "code",
   "execution_count": 105,
   "metadata": {
    "scrolled": true
   },
   "outputs": [
    {
     "data": {
      "text/html": [
       "<div>\n",
       "<style scoped>\n",
       "    .dataframe tbody tr th:only-of-type {\n",
       "        vertical-align: middle;\n",
       "    }\n",
       "\n",
       "    .dataframe tbody tr th {\n",
       "        vertical-align: top;\n",
       "    }\n",
       "\n",
       "    .dataframe thead th {\n",
       "        text-align: right;\n",
       "    }\n",
       "</style>\n",
       "<table border=\"1\" class=\"dataframe\">\n",
       "  <thead>\n",
       "    <tr style=\"text-align: right;\">\n",
       "      <th></th>\n",
       "      <th>time</th>\n",
       "      <th>dust_132</th>\n",
       "    </tr>\n",
       "  </thead>\n",
       "  <tbody>\n",
       "    <tr>\n",
       "      <th>576</th>\n",
       "      <td>2019-01-25 00:00:00</td>\n",
       "      <td>15</td>\n",
       "    </tr>\n",
       "    <tr>\n",
       "      <th>577</th>\n",
       "      <td>2019-01-25 01:00:00</td>\n",
       "      <td>19</td>\n",
       "    </tr>\n",
       "  </tbody>\n",
       "</table>\n",
       "</div>"
      ],
      "text/plain": [
       "                   time  dust_132\n",
       "576 2019-01-25 00:00:00        15\n",
       "577 2019-01-25 01:00:00        19"
      ]
     },
     "execution_count": 105,
     "metadata": {},
     "output_type": "execute_result"
    }
   ],
   "source": [
    "dust2[576:578]"
   ]
  },
  {
   "cell_type": "code",
   "execution_count": 106,
   "metadata": {},
   "outputs": [],
   "source": [
    "dust2 = dust2[577:].copy()\n",
    "dust2.set_index(dust2.time, inplace=True)\n",
    "dust2.drop(dust2.columns[0], axis=1, inplace=True)"
   ]
  },
  {
   "cell_type": "code",
   "execution_count": 107,
   "metadata": {},
   "outputs": [
    {
     "data": {
      "text/html": [
       "<div>\n",
       "<style scoped>\n",
       "    .dataframe tbody tr th:only-of-type {\n",
       "        vertical-align: middle;\n",
       "    }\n",
       "\n",
       "    .dataframe tbody tr th {\n",
       "        vertical-align: top;\n",
       "    }\n",
       "\n",
       "    .dataframe thead th {\n",
       "        text-align: right;\n",
       "    }\n",
       "</style>\n",
       "<table border=\"1\" class=\"dataframe\">\n",
       "  <thead>\n",
       "    <tr style=\"text-align: right;\">\n",
       "      <th></th>\n",
       "      <th>dust_132</th>\n",
       "    </tr>\n",
       "    <tr>\n",
       "      <th>time</th>\n",
       "      <th></th>\n",
       "    </tr>\n",
       "  </thead>\n",
       "  <tbody>\n",
       "    <tr>\n",
       "      <th>2019-01-25 01:00:00</th>\n",
       "      <td>19</td>\n",
       "    </tr>\n",
       "    <tr>\n",
       "      <th>2019-01-25 02:00:00</th>\n",
       "      <td>20</td>\n",
       "    </tr>\n",
       "    <tr>\n",
       "      <th>2019-01-25 03:00:00</th>\n",
       "      <td>19</td>\n",
       "    </tr>\n",
       "    <tr>\n",
       "      <th>2019-01-25 04:00:00</th>\n",
       "      <td>19</td>\n",
       "    </tr>\n",
       "    <tr>\n",
       "      <th>2019-01-25 05:00:00</th>\n",
       "      <td>24</td>\n",
       "    </tr>\n",
       "  </tbody>\n",
       "</table>\n",
       "</div>"
      ],
      "text/plain": [
       "                     dust_132\n",
       "time                         \n",
       "2019-01-25 01:00:00        19\n",
       "2019-01-25 02:00:00        20\n",
       "2019-01-25 03:00:00        19\n",
       "2019-01-25 04:00:00        19\n",
       "2019-01-25 05:00:00        24"
      ]
     },
     "execution_count": 107,
     "metadata": {},
     "output_type": "execute_result"
    }
   ],
   "source": [
    "dust2.head()"
   ]
  },
  {
   "cell_type": "code",
   "execution_count": 108,
   "metadata": {},
   "outputs": [],
   "source": [
    "dust2 = dust2.resample('15min').interpolate('linear')"
   ]
  },
  {
   "cell_type": "code",
   "execution_count": 109,
   "metadata": {},
   "outputs": [
    {
     "data": {
      "text/html": [
       "<div>\n",
       "<style scoped>\n",
       "    .dataframe tbody tr th:only-of-type {\n",
       "        vertical-align: middle;\n",
       "    }\n",
       "\n",
       "    .dataframe tbody tr th {\n",
       "        vertical-align: top;\n",
       "    }\n",
       "\n",
       "    .dataframe thead th {\n",
       "        text-align: right;\n",
       "    }\n",
       "</style>\n",
       "<table border=\"1\" class=\"dataframe\">\n",
       "  <thead>\n",
       "    <tr style=\"text-align: right;\">\n",
       "      <th></th>\n",
       "      <th>dust_132</th>\n",
       "    </tr>\n",
       "  </thead>\n",
       "  <tbody>\n",
       "    <tr>\n",
       "      <th>count</th>\n",
       "      <td>2973.000000</td>\n",
       "    </tr>\n",
       "    <tr>\n",
       "      <th>mean</th>\n",
       "      <td>59.288597</td>\n",
       "    </tr>\n",
       "    <tr>\n",
       "      <th>std</th>\n",
       "      <td>34.291555</td>\n",
       "    </tr>\n",
       "    <tr>\n",
       "      <th>min</th>\n",
       "      <td>11.000000</td>\n",
       "    </tr>\n",
       "    <tr>\n",
       "      <th>25%</th>\n",
       "      <td>34.000000</td>\n",
       "    </tr>\n",
       "    <tr>\n",
       "      <th>50%</th>\n",
       "      <td>52.000000</td>\n",
       "    </tr>\n",
       "    <tr>\n",
       "      <th>75%</th>\n",
       "      <td>75.000000</td>\n",
       "    </tr>\n",
       "    <tr>\n",
       "      <th>max</th>\n",
       "      <td>222.000000</td>\n",
       "    </tr>\n",
       "  </tbody>\n",
       "</table>\n",
       "</div>"
      ],
      "text/plain": [
       "          dust_132\n",
       "count  2973.000000\n",
       "mean     59.288597\n",
       "std      34.291555\n",
       "min      11.000000\n",
       "25%      34.000000\n",
       "50%      52.000000\n",
       "75%      75.000000\n",
       "max     222.000000"
      ]
     },
     "execution_count": 109,
     "metadata": {},
     "output_type": "execute_result"
    }
   ],
   "source": [
    "dust2.describe()"
   ]
  },
  {
   "cell_type": "code",
   "execution_count": 110,
   "metadata": {},
   "outputs": [],
   "source": [
    "dust2.reset_index(inplace=True)"
   ]
  },
  {
   "cell_type": "code",
   "execution_count": 111,
   "metadata": {
    "scrolled": false
   },
   "outputs": [
    {
     "data": {
      "text/html": [
       "<div>\n",
       "<style scoped>\n",
       "    .dataframe tbody tr th:only-of-type {\n",
       "        vertical-align: middle;\n",
       "    }\n",
       "\n",
       "    .dataframe tbody tr th {\n",
       "        vertical-align: top;\n",
       "    }\n",
       "\n",
       "    .dataframe thead th {\n",
       "        text-align: right;\n",
       "    }\n",
       "</style>\n",
       "<table border=\"1\" class=\"dataframe\">\n",
       "  <thead>\n",
       "    <tr style=\"text-align: right;\">\n",
       "      <th></th>\n",
       "      <th>time</th>\n",
       "      <th>dust_132</th>\n",
       "    </tr>\n",
       "  </thead>\n",
       "  <tbody>\n",
       "    <tr>\n",
       "      <th>0</th>\n",
       "      <td>2019-01-25 01:00:00</td>\n",
       "      <td>19.00</td>\n",
       "    </tr>\n",
       "    <tr>\n",
       "      <th>1</th>\n",
       "      <td>2019-01-25 01:15:00</td>\n",
       "      <td>19.25</td>\n",
       "    </tr>\n",
       "    <tr>\n",
       "      <th>2</th>\n",
       "      <td>2019-01-25 01:30:00</td>\n",
       "      <td>19.50</td>\n",
       "    </tr>\n",
       "    <tr>\n",
       "      <th>3</th>\n",
       "      <td>2019-01-25 01:45:00</td>\n",
       "      <td>19.75</td>\n",
       "    </tr>\n",
       "    <tr>\n",
       "      <th>4</th>\n",
       "      <td>2019-01-25 02:00:00</td>\n",
       "      <td>20.00</td>\n",
       "    </tr>\n",
       "  </tbody>\n",
       "</table>\n",
       "</div>"
      ],
      "text/plain": [
       "                 time  dust_132\n",
       "0 2019-01-25 01:00:00     19.00\n",
       "1 2019-01-25 01:15:00     19.25\n",
       "2 2019-01-25 01:30:00     19.50\n",
       "3 2019-01-25 01:45:00     19.75\n",
       "4 2019-01-25 02:00:00     20.00"
      ]
     },
     "execution_count": 111,
     "metadata": {},
     "output_type": "execute_result"
    }
   ],
   "source": [
    "dust2.head()"
   ]
  },
  {
   "cell_type": "code",
   "execution_count": 112,
   "metadata": {},
   "outputs": [
    {
     "data": {
      "text/plain": [
       "(72381, 2973)"
      ]
     },
     "execution_count": 112,
     "metadata": {},
     "output_type": "execute_result"
    }
   ],
   "source": [
    "len(dust), len(dust2)"
   ]
  },
  {
   "cell_type": "code",
   "execution_count": 113,
   "metadata": {
    "scrolled": true
   },
   "outputs": [
    {
     "data": {
      "text/html": [
       "<div>\n",
       "<style scoped>\n",
       "    .dataframe tbody tr th:only-of-type {\n",
       "        vertical-align: middle;\n",
       "    }\n",
       "\n",
       "    .dataframe tbody tr th {\n",
       "        vertical-align: top;\n",
       "    }\n",
       "\n",
       "    .dataframe thead th {\n",
       "        text-align: right;\n",
       "    }\n",
       "</style>\n",
       "<table border=\"1\" class=\"dataframe\">\n",
       "  <thead>\n",
       "    <tr style=\"text-align: right;\">\n",
       "      <th></th>\n",
       "      <th>time</th>\n",
       "      <th>dust_132</th>\n",
       "    </tr>\n",
       "  </thead>\n",
       "  <tbody>\n",
       "    <tr>\n",
       "      <th>0</th>\n",
       "      <td>2017-01-01 01:00:00</td>\n",
       "      <td>42.00</td>\n",
       "    </tr>\n",
       "    <tr>\n",
       "      <th>1</th>\n",
       "      <td>2017-01-01 01:15:00</td>\n",
       "      <td>43.25</td>\n",
       "    </tr>\n",
       "    <tr>\n",
       "      <th>2</th>\n",
       "      <td>2017-01-01 01:30:00</td>\n",
       "      <td>44.50</td>\n",
       "    </tr>\n",
       "  </tbody>\n",
       "</table>\n",
       "</div>"
      ],
      "text/plain": [
       "                 time  dust_132\n",
       "0 2017-01-01 01:00:00     42.00\n",
       "1 2017-01-01 01:15:00     43.25\n",
       "2 2017-01-01 01:30:00     44.50"
      ]
     },
     "execution_count": 113,
     "metadata": {},
     "output_type": "execute_result"
    }
   ],
   "source": [
    "dust = pd.concat([dust, dust2], axis=0)\n",
    "dust = dust.reset_index(drop=True)\n",
    "dust.head(3)"
   ]
  },
  {
   "cell_type": "code",
   "execution_count": 114,
   "metadata": {},
   "outputs": [
    {
     "data": {
      "text/plain": [
       "75354"
      ]
     },
     "execution_count": 114,
     "metadata": {},
     "output_type": "execute_result"
    }
   ],
   "source": [
    "len(dust.time.unique())"
   ]
  },
  {
   "cell_type": "code",
   "execution_count": 115,
   "metadata": {},
   "outputs": [
    {
     "data": {
      "text/plain": [
       "75354"
      ]
     },
     "execution_count": 115,
     "metadata": {},
     "output_type": "execute_result"
    }
   ],
   "source": [
    "len(dust)"
   ]
  },
  {
   "cell_type": "markdown",
   "metadata": {},
   "source": [
    "- merge"
   ]
  },
  {
   "cell_type": "code",
   "execution_count": 116,
   "metadata": {
    "scrolled": true
   },
   "outputs": [
    {
     "data": {
      "text/html": [
       "<div>\n",
       "<style scoped>\n",
       "    .dataframe tbody tr th:only-of-type {\n",
       "        vertical-align: middle;\n",
       "    }\n",
       "\n",
       "    .dataframe tbody tr th {\n",
       "        vertical-align: top;\n",
       "    }\n",
       "\n",
       "    .dataframe thead th {\n",
       "        text-align: right;\n",
       "    }\n",
       "</style>\n",
       "<table border=\"1\" class=\"dataframe\">\n",
       "  <thead>\n",
       "    <tr style=\"text-align: right;\">\n",
       "      <th></th>\n",
       "      <th>time</th>\n",
       "      <th>solar1</th>\n",
       "      <th>solar2</th>\n",
       "      <th>real_time_power</th>\n",
       "      <th>day_power</th>\n",
       "      <th>month</th>\n",
       "      <th>day</th>\n",
       "      <th>hour</th>\n",
       "      <th>minute</th>\n",
       "      <th>temperature_3H</th>\n",
       "      <th>sky</th>\n",
       "      <th>rainfall_probability</th>\n",
       "      <th>rainfall</th>\n",
       "      <th>snow</th>\n",
       "      <th>humidity</th>\n",
       "      <th>wind_speed</th>\n",
       "      <th>wind_direction</th>\n",
       "      <th>Elevation_angle</th>\n",
       "      <th>Azimuth_angle</th>\n",
       "      <th>dust_132</th>\n",
       "    </tr>\n",
       "  </thead>\n",
       "  <tbody>\n",
       "    <tr>\n",
       "      <th>0</th>\n",
       "      <td>2017-07-01 00:15:00</td>\n",
       "      <td>0</td>\n",
       "      <td>0</td>\n",
       "      <td>0.0</td>\n",
       "      <td>0.002859</td>\n",
       "      <td>7</td>\n",
       "      <td>1</td>\n",
       "      <td>0</td>\n",
       "      <td>15</td>\n",
       "      <td>22.333333</td>\n",
       "      <td>3.916667</td>\n",
       "      <td>29.166667</td>\n",
       "      <td>0.416667</td>\n",
       "      <td>0.083333</td>\n",
       "      <td>93.333333</td>\n",
       "      <td>0.641667</td>\n",
       "      <td>7</td>\n",
       "      <td>-29.63</td>\n",
       "      <td>354.00</td>\n",
       "      <td>21.5</td>\n",
       "    </tr>\n",
       "    <tr>\n",
       "      <th>1</th>\n",
       "      <td>2017-07-01 00:30:00</td>\n",
       "      <td>0</td>\n",
       "      <td>0</td>\n",
       "      <td>0.0</td>\n",
       "      <td>0.004787</td>\n",
       "      <td>7</td>\n",
       "      <td>1</td>\n",
       "      <td>0</td>\n",
       "      <td>30</td>\n",
       "      <td>22.666667</td>\n",
       "      <td>3.833333</td>\n",
       "      <td>28.333333</td>\n",
       "      <td>0.833333</td>\n",
       "      <td>0.166667</td>\n",
       "      <td>91.666667</td>\n",
       "      <td>0.683333</td>\n",
       "      <td>7</td>\n",
       "      <td>-29.84</td>\n",
       "      <td>357.96</td>\n",
       "      <td>23.0</td>\n",
       "    </tr>\n",
       "    <tr>\n",
       "      <th>2</th>\n",
       "      <td>2017-07-01 00:45:00</td>\n",
       "      <td>0</td>\n",
       "      <td>0</td>\n",
       "      <td>0.0</td>\n",
       "      <td>0.006715</td>\n",
       "      <td>7</td>\n",
       "      <td>1</td>\n",
       "      <td>0</td>\n",
       "      <td>45</td>\n",
       "      <td>23.000000</td>\n",
       "      <td>3.750000</td>\n",
       "      <td>27.500000</td>\n",
       "      <td>1.250000</td>\n",
       "      <td>0.250000</td>\n",
       "      <td>90.000000</td>\n",
       "      <td>0.725000</td>\n",
       "      <td>7</td>\n",
       "      <td>-29.84</td>\n",
       "      <td>1.93</td>\n",
       "      <td>24.5</td>\n",
       "    </tr>\n",
       "  </tbody>\n",
       "</table>\n",
       "</div>"
      ],
      "text/plain": [
       "                 time solar1 solar2  real_time_power  day_power month day  \\\n",
       "0 2017-07-01 00:15:00      0      0              0.0   0.002859     7   1   \n",
       "1 2017-07-01 00:30:00      0      0              0.0   0.004787     7   1   \n",
       "2 2017-07-01 00:45:00      0      0              0.0   0.006715     7   1   \n",
       "\n",
       "  hour minute  temperature_3H       sky  rainfall_probability  rainfall  \\\n",
       "0    0     15       22.333333  3.916667             29.166667  0.416667   \n",
       "1    0     30       22.666667  3.833333             28.333333  0.833333   \n",
       "2    0     45       23.000000  3.750000             27.500000  1.250000   \n",
       "\n",
       "       snow   humidity  wind_speed wind_direction  Elevation_angle  \\\n",
       "0  0.083333  93.333333    0.641667              7           -29.63   \n",
       "1  0.166667  91.666667    0.683333              7           -29.84   \n",
       "2  0.250000  90.000000    0.725000              7           -29.84   \n",
       "\n",
       "   Azimuth_angle  dust_132  \n",
       "0         354.00      21.5  \n",
       "1         357.96      23.0  \n",
       "2           1.93      24.5  "
      ]
     },
     "execution_count": 116,
     "metadata": {},
     "output_type": "execute_result"
    }
   ],
   "source": [
    "aaa = pd.merge(pd.merge(A_site, climate, how='inner', on='time'), solar_altitude, how='inner', on='time')\n",
    "aaa = pd.merge(aaa, dust, how='inner', on='time')\n",
    "aaa.reset_index()\n",
    "aaa.head(3)"
   ]
  },
  {
   "cell_type": "code",
   "execution_count": 117,
   "metadata": {},
   "outputs": [
    {
     "data": {
      "text/plain": [
       "42716"
      ]
     },
     "execution_count": 117,
     "metadata": {},
     "output_type": "execute_result"
    }
   ],
   "source": [
    "len(pd.merge(pd.merge(A_site, climate, how='inner', on='time'), solar_altitude, how='inner', on='time'))"
   ]
  },
  {
   "cell_type": "code",
   "execution_count": 118,
   "metadata": {},
   "outputs": [
    {
     "data": {
      "text/plain": [
       "(42716, 58597, 75354, 42713)"
      ]
     },
     "execution_count": 118,
     "metadata": {},
     "output_type": "execute_result"
    }
   ],
   "source": [
    "len(A_site), len(climate), len(dust), len(aaa)"
   ]
  },
  {
   "cell_type": "code",
   "execution_count": 119,
   "metadata": {
    "scrolled": true
   },
   "outputs": [
    {
     "data": {
      "text/html": [
       "<div>\n",
       "<style scoped>\n",
       "    .dataframe tbody tr th:only-of-type {\n",
       "        vertical-align: middle;\n",
       "    }\n",
       "\n",
       "    .dataframe tbody tr th {\n",
       "        vertical-align: top;\n",
       "    }\n",
       "\n",
       "    .dataframe thead th {\n",
       "        text-align: right;\n",
       "    }\n",
       "</style>\n",
       "<table border=\"1\" class=\"dataframe\">\n",
       "  <thead>\n",
       "    <tr style=\"text-align: right;\">\n",
       "      <th></th>\n",
       "      <th>time</th>\n",
       "      <th>solar1</th>\n",
       "      <th>solar2</th>\n",
       "      <th>real_time_power</th>\n",
       "      <th>day_power</th>\n",
       "      <th>month</th>\n",
       "      <th>day</th>\n",
       "      <th>hour</th>\n",
       "      <th>minute</th>\n",
       "      <th>temperature_3H</th>\n",
       "      <th>sky</th>\n",
       "      <th>rainfall_probability</th>\n",
       "      <th>rainfall</th>\n",
       "      <th>snow</th>\n",
       "      <th>humidity</th>\n",
       "      <th>wind_speed</th>\n",
       "      <th>wind_direction</th>\n",
       "      <th>Elevation_angle</th>\n",
       "      <th>Azimuth_angle</th>\n",
       "      <th>dust_132</th>\n",
       "    </tr>\n",
       "  </thead>\n",
       "  <tbody>\n",
       "    <tr>\n",
       "      <th>0</th>\n",
       "      <td>2017-09-02 00:15:00</td>\n",
       "      <td>0</td>\n",
       "      <td>0</td>\n",
       "      <td>0.0</td>\n",
       "      <td>0.0</td>\n",
       "      <td>9</td>\n",
       "      <td>2</td>\n",
       "      <td>0</td>\n",
       "      <td>15</td>\n",
       "      <td>21.333333</td>\n",
       "      <td>2.0</td>\n",
       "      <td>10.0</td>\n",
       "      <td>0.0</td>\n",
       "      <td>0.0</td>\n",
       "      <td>79.583333</td>\n",
       "      <td>1.4</td>\n",
       "      <td>1</td>\n",
       "      <td>-44.71</td>\n",
       "      <td>353.43</td>\n",
       "      <td>22.0</td>\n",
       "    </tr>\n",
       "    <tr>\n",
       "      <th>1</th>\n",
       "      <td>2017-09-02 00:30:00</td>\n",
       "      <td>0</td>\n",
       "      <td>0</td>\n",
       "      <td>0.0</td>\n",
       "      <td>0.0</td>\n",
       "      <td>9</td>\n",
       "      <td>2</td>\n",
       "      <td>0</td>\n",
       "      <td>30</td>\n",
       "      <td>21.666667</td>\n",
       "      <td>2.0</td>\n",
       "      <td>10.0</td>\n",
       "      <td>0.0</td>\n",
       "      <td>0.0</td>\n",
       "      <td>79.166667</td>\n",
       "      <td>1.3</td>\n",
       "      <td>1</td>\n",
       "      <td>-44.92</td>\n",
       "      <td>358.66</td>\n",
       "      <td>23.0</td>\n",
       "    </tr>\n",
       "    <tr>\n",
       "      <th>2</th>\n",
       "      <td>2017-09-02 00:45:00</td>\n",
       "      <td>0</td>\n",
       "      <td>0</td>\n",
       "      <td>0.0</td>\n",
       "      <td>0.0</td>\n",
       "      <td>9</td>\n",
       "      <td>2</td>\n",
       "      <td>0</td>\n",
       "      <td>45</td>\n",
       "      <td>22.000000</td>\n",
       "      <td>2.0</td>\n",
       "      <td>10.0</td>\n",
       "      <td>0.0</td>\n",
       "      <td>0.0</td>\n",
       "      <td>78.750000</td>\n",
       "      <td>1.2</td>\n",
       "      <td>1</td>\n",
       "      <td>-44.86</td>\n",
       "      <td>3.90</td>\n",
       "      <td>24.0</td>\n",
       "    </tr>\n",
       "  </tbody>\n",
       "</table>\n",
       "</div>"
      ],
      "text/plain": [
       "                 time solar1 solar2  real_time_power  day_power month day  \\\n",
       "0 2017-09-02 00:15:00      0      0              0.0        0.0     9   2   \n",
       "1 2017-09-02 00:30:00      0      0              0.0        0.0     9   2   \n",
       "2 2017-09-02 00:45:00      0      0              0.0        0.0     9   2   \n",
       "\n",
       "  hour minute  temperature_3H  sky  rainfall_probability  rainfall  snow  \\\n",
       "0    0     15       21.333333  2.0                  10.0       0.0   0.0   \n",
       "1    0     30       21.666667  2.0                  10.0       0.0   0.0   \n",
       "2    0     45       22.000000  2.0                  10.0       0.0   0.0   \n",
       "\n",
       "    humidity  wind_speed wind_direction  Elevation_angle  Azimuth_angle  \\\n",
       "0  79.583333         1.4              1           -44.71         353.43   \n",
       "1  79.166667         1.3              1           -44.92         358.66   \n",
       "2  78.750000         1.2              1           -44.86           3.90   \n",
       "\n",
       "   dust_132  \n",
       "0      22.0  \n",
       "1      23.0  \n",
       "2      24.0  "
      ]
     },
     "execution_count": 119,
     "metadata": {},
     "output_type": "execute_result"
    }
   ],
   "source": [
    "bbb = pd.merge(pd.merge(B_site, climate, how='inner', on='time'), solar_altitude, how='inner', on='time')\n",
    "bbb = pd.merge(bbb, dust, how='inner', on='time')\n",
    "bbb.reset_index()\n",
    "bbb.head(3)"
   ]
  },
  {
   "cell_type": "code",
   "execution_count": 120,
   "metadata": {},
   "outputs": [
    {
     "data": {
      "text/plain": [
       "(59347, 58597, 75354, 39505)"
      ]
     },
     "execution_count": 120,
     "metadata": {},
     "output_type": "execute_result"
    }
   ],
   "source": [
    "len(B_site), len(climate), len(dust), len(bbb)"
   ]
  },
  {
   "cell_type": "code",
   "execution_count": 121,
   "metadata": {
    "scrolled": false
   },
   "outputs": [
    {
     "data": {
      "text/html": [
       "<div>\n",
       "<style scoped>\n",
       "    .dataframe tbody tr th:only-of-type {\n",
       "        vertical-align: middle;\n",
       "    }\n",
       "\n",
       "    .dataframe tbody tr th {\n",
       "        vertical-align: top;\n",
       "    }\n",
       "\n",
       "    .dataframe thead th {\n",
       "        text-align: right;\n",
       "    }\n",
       "</style>\n",
       "<table border=\"1\" class=\"dataframe\">\n",
       "  <thead>\n",
       "    <tr style=\"text-align: right;\">\n",
       "      <th></th>\n",
       "      <th>time</th>\n",
       "      <th>solar1</th>\n",
       "      <th>solar2</th>\n",
       "      <th>real_time_power</th>\n",
       "      <th>day_power</th>\n",
       "      <th>month</th>\n",
       "      <th>day</th>\n",
       "      <th>hour</th>\n",
       "      <th>minute</th>\n",
       "      <th>temperature_3H</th>\n",
       "      <th>sky</th>\n",
       "      <th>rainfall_probability</th>\n",
       "      <th>rainfall</th>\n",
       "      <th>snow</th>\n",
       "      <th>humidity</th>\n",
       "      <th>wind_speed</th>\n",
       "      <th>wind_direction</th>\n",
       "      <th>Elevation_angle</th>\n",
       "      <th>Azimuth_angle</th>\n",
       "      <th>dust_132</th>\n",
       "    </tr>\n",
       "  </thead>\n",
       "  <tbody>\n",
       "    <tr>\n",
       "      <th>0</th>\n",
       "      <td>2017-06-29 00:15:00</td>\n",
       "      <td>2.6</td>\n",
       "      <td>0.20157</td>\n",
       "      <td>0.0</td>\n",
       "      <td>0.0</td>\n",
       "      <td>6</td>\n",
       "      <td>29</td>\n",
       "      <td>0</td>\n",
       "      <td>15</td>\n",
       "      <td>24.166667</td>\n",
       "      <td>3.0</td>\n",
       "      <td>20.0</td>\n",
       "      <td>0.0</td>\n",
       "      <td>0.0</td>\n",
       "      <td>89.166667</td>\n",
       "      <td>1.883333</td>\n",
       "      <td>6</td>\n",
       "      <td>-29.52</td>\n",
       "      <td>354.11</td>\n",
       "      <td>30.75</td>\n",
       "    </tr>\n",
       "    <tr>\n",
       "      <th>1</th>\n",
       "      <td>2017-06-29 00:30:00</td>\n",
       "      <td>2.6</td>\n",
       "      <td>0.216671</td>\n",
       "      <td>0.0</td>\n",
       "      <td>0.0</td>\n",
       "      <td>6</td>\n",
       "      <td>29</td>\n",
       "      <td>0</td>\n",
       "      <td>30</td>\n",
       "      <td>24.333333</td>\n",
       "      <td>3.0</td>\n",
       "      <td>20.0</td>\n",
       "      <td>0.0</td>\n",
       "      <td>0.0</td>\n",
       "      <td>88.333333</td>\n",
       "      <td>1.966667</td>\n",
       "      <td>6</td>\n",
       "      <td>-29.72</td>\n",
       "      <td>358.07</td>\n",
       "      <td>29.50</td>\n",
       "    </tr>\n",
       "    <tr>\n",
       "      <th>2</th>\n",
       "      <td>2017-06-29 00:45:00</td>\n",
       "      <td>2.6</td>\n",
       "      <td>0.00290235</td>\n",
       "      <td>0.0</td>\n",
       "      <td>0.0</td>\n",
       "      <td>6</td>\n",
       "      <td>29</td>\n",
       "      <td>0</td>\n",
       "      <td>45</td>\n",
       "      <td>24.500000</td>\n",
       "      <td>3.0</td>\n",
       "      <td>20.0</td>\n",
       "      <td>0.0</td>\n",
       "      <td>0.0</td>\n",
       "      <td>87.500000</td>\n",
       "      <td>2.050000</td>\n",
       "      <td>6</td>\n",
       "      <td>-29.72</td>\n",
       "      <td>2.03</td>\n",
       "      <td>28.25</td>\n",
       "    </tr>\n",
       "  </tbody>\n",
       "</table>\n",
       "</div>"
      ],
      "text/plain": [
       "                 time solar1      solar2  real_time_power  day_power month  \\\n",
       "0 2017-06-29 00:15:00    2.6     0.20157              0.0        0.0     6   \n",
       "1 2017-06-29 00:30:00    2.6    0.216671              0.0        0.0     6   \n",
       "2 2017-06-29 00:45:00    2.6  0.00290235              0.0        0.0     6   \n",
       "\n",
       "  day hour minute  temperature_3H  sky  rainfall_probability  rainfall  snow  \\\n",
       "0  29    0     15       24.166667  3.0                  20.0       0.0   0.0   \n",
       "1  29    0     30       24.333333  3.0                  20.0       0.0   0.0   \n",
       "2  29    0     45       24.500000  3.0                  20.0       0.0   0.0   \n",
       "\n",
       "    humidity  wind_speed wind_direction  Elevation_angle  Azimuth_angle  \\\n",
       "0  89.166667    1.883333              6           -29.52         354.11   \n",
       "1  88.333333    1.966667              6           -29.72         358.07   \n",
       "2  87.500000    2.050000              6           -29.72           2.03   \n",
       "\n",
       "   dust_132  \n",
       "0     30.75  \n",
       "1     29.50  \n",
       "2     28.25  "
      ]
     },
     "execution_count": 121,
     "metadata": {},
     "output_type": "execute_result"
    }
   ],
   "source": [
    "ccc = pd.merge(pd.merge(C_site, climate, how='inner', on='time'), solar_altitude, how='inner', on='time')\n",
    "ccc = pd.merge(ccc, dust, how='inner', on='time')\n",
    "ccc.reset_index()\n",
    "ccc.head(3)"
   ]
  },
  {
   "cell_type": "code",
   "execution_count": 122,
   "metadata": {
    "scrolled": true
   },
   "outputs": [
    {
     "data": {
      "text/plain": [
       "(40222, 58597, 31676)"
      ]
     },
     "execution_count": 122,
     "metadata": {},
     "output_type": "execute_result"
    }
   ],
   "source": [
    "len(C_site), len(climate), len(ccc)"
   ]
  },
  {
   "cell_type": "markdown",
   "metadata": {},
   "source": [
    "### pickle"
   ]
  },
  {
   "cell_type": "code",
   "execution_count": 123,
   "metadata": {},
   "outputs": [
    {
     "data": {
      "text/html": [
       "<div>\n",
       "<style scoped>\n",
       "    .dataframe tbody tr th:only-of-type {\n",
       "        vertical-align: middle;\n",
       "    }\n",
       "\n",
       "    .dataframe tbody tr th {\n",
       "        vertical-align: top;\n",
       "    }\n",
       "\n",
       "    .dataframe thead th {\n",
       "        text-align: right;\n",
       "    }\n",
       "</style>\n",
       "<table border=\"1\" class=\"dataframe\">\n",
       "  <thead>\n",
       "    <tr style=\"text-align: right;\">\n",
       "      <th></th>\n",
       "      <th>time</th>\n",
       "      <th>solar1</th>\n",
       "      <th>solar2</th>\n",
       "      <th>real_time_power</th>\n",
       "      <th>day_power</th>\n",
       "      <th>month</th>\n",
       "      <th>day</th>\n",
       "      <th>hour</th>\n",
       "      <th>minute</th>\n",
       "      <th>temperature_3H</th>\n",
       "      <th>sky</th>\n",
       "      <th>rainfall_probability</th>\n",
       "      <th>rainfall</th>\n",
       "      <th>snow</th>\n",
       "      <th>humidity</th>\n",
       "      <th>wind_speed</th>\n",
       "      <th>wind_direction</th>\n",
       "      <th>Elevation_angle</th>\n",
       "      <th>Azimuth_angle</th>\n",
       "      <th>dust_132</th>\n",
       "    </tr>\n",
       "  </thead>\n",
       "  <tbody>\n",
       "    <tr>\n",
       "      <th>0</th>\n",
       "      <td>2017-07-01 00:15:00</td>\n",
       "      <td>0</td>\n",
       "      <td>0</td>\n",
       "      <td>0.0</td>\n",
       "      <td>0.002859</td>\n",
       "      <td>7</td>\n",
       "      <td>1</td>\n",
       "      <td>0</td>\n",
       "      <td>15</td>\n",
       "      <td>22.333333</td>\n",
       "      <td>3.916667</td>\n",
       "      <td>29.166667</td>\n",
       "      <td>0.416667</td>\n",
       "      <td>0.083333</td>\n",
       "      <td>93.333333</td>\n",
       "      <td>0.641667</td>\n",
       "      <td>7</td>\n",
       "      <td>-29.63</td>\n",
       "      <td>354.00</td>\n",
       "      <td>21.5</td>\n",
       "    </tr>\n",
       "    <tr>\n",
       "      <th>1</th>\n",
       "      <td>2017-07-01 00:30:00</td>\n",
       "      <td>0</td>\n",
       "      <td>0</td>\n",
       "      <td>0.0</td>\n",
       "      <td>0.004787</td>\n",
       "      <td>7</td>\n",
       "      <td>1</td>\n",
       "      <td>0</td>\n",
       "      <td>30</td>\n",
       "      <td>22.666667</td>\n",
       "      <td>3.833333</td>\n",
       "      <td>28.333333</td>\n",
       "      <td>0.833333</td>\n",
       "      <td>0.166667</td>\n",
       "      <td>91.666667</td>\n",
       "      <td>0.683333</td>\n",
       "      <td>7</td>\n",
       "      <td>-29.84</td>\n",
       "      <td>357.96</td>\n",
       "      <td>23.0</td>\n",
       "    </tr>\n",
       "    <tr>\n",
       "      <th>2</th>\n",
       "      <td>2017-07-01 00:45:00</td>\n",
       "      <td>0</td>\n",
       "      <td>0</td>\n",
       "      <td>0.0</td>\n",
       "      <td>0.006715</td>\n",
       "      <td>7</td>\n",
       "      <td>1</td>\n",
       "      <td>0</td>\n",
       "      <td>45</td>\n",
       "      <td>23.000000</td>\n",
       "      <td>3.750000</td>\n",
       "      <td>27.500000</td>\n",
       "      <td>1.250000</td>\n",
       "      <td>0.250000</td>\n",
       "      <td>90.000000</td>\n",
       "      <td>0.725000</td>\n",
       "      <td>7</td>\n",
       "      <td>-29.84</td>\n",
       "      <td>1.93</td>\n",
       "      <td>24.5</td>\n",
       "    </tr>\n",
       "  </tbody>\n",
       "</table>\n",
       "</div>"
      ],
      "text/plain": [
       "                 time solar1 solar2  real_time_power  day_power month day  \\\n",
       "0 2017-07-01 00:15:00      0      0              0.0   0.002859     7   1   \n",
       "1 2017-07-01 00:30:00      0      0              0.0   0.004787     7   1   \n",
       "2 2017-07-01 00:45:00      0      0              0.0   0.006715     7   1   \n",
       "\n",
       "  hour minute  temperature_3H       sky  rainfall_probability  rainfall  \\\n",
       "0    0     15       22.333333  3.916667             29.166667  0.416667   \n",
       "1    0     30       22.666667  3.833333             28.333333  0.833333   \n",
       "2    0     45       23.000000  3.750000             27.500000  1.250000   \n",
       "\n",
       "       snow   humidity  wind_speed wind_direction  Elevation_angle  \\\n",
       "0  0.083333  93.333333    0.641667              7           -29.63   \n",
       "1  0.166667  91.666667    0.683333              7           -29.84   \n",
       "2  0.250000  90.000000    0.725000              7           -29.84   \n",
       "\n",
       "   Azimuth_angle  dust_132  \n",
       "0         354.00      21.5  \n",
       "1         357.96      23.0  \n",
       "2           1.93      24.5  "
      ]
     },
     "execution_count": 123,
     "metadata": {},
     "output_type": "execute_result"
    }
   ],
   "source": [
    "aaa.to_pickle('C:/Users/ewpadmin/JIHYUN/aaa.pkl')\n",
    "aaa = pd.read_pickle('C:/Users/ewpadmin/JIHYUN/aaa.pkl')\n",
    "aaa.head(3)"
   ]
  },
  {
   "cell_type": "code",
   "execution_count": 124,
   "metadata": {},
   "outputs": [
    {
     "data": {
      "text/html": [
       "<div>\n",
       "<style scoped>\n",
       "    .dataframe tbody tr th:only-of-type {\n",
       "        vertical-align: middle;\n",
       "    }\n",
       "\n",
       "    .dataframe tbody tr th {\n",
       "        vertical-align: top;\n",
       "    }\n",
       "\n",
       "    .dataframe thead th {\n",
       "        text-align: right;\n",
       "    }\n",
       "</style>\n",
       "<table border=\"1\" class=\"dataframe\">\n",
       "  <thead>\n",
       "    <tr style=\"text-align: right;\">\n",
       "      <th></th>\n",
       "      <th>time</th>\n",
       "      <th>solar1</th>\n",
       "      <th>solar2</th>\n",
       "      <th>real_time_power</th>\n",
       "      <th>day_power</th>\n",
       "      <th>month</th>\n",
       "      <th>day</th>\n",
       "      <th>hour</th>\n",
       "      <th>minute</th>\n",
       "      <th>temperature_3H</th>\n",
       "      <th>sky</th>\n",
       "      <th>rainfall_probability</th>\n",
       "      <th>rainfall</th>\n",
       "      <th>snow</th>\n",
       "      <th>humidity</th>\n",
       "      <th>wind_speed</th>\n",
       "      <th>wind_direction</th>\n",
       "      <th>Elevation_angle</th>\n",
       "      <th>Azimuth_angle</th>\n",
       "      <th>dust_132</th>\n",
       "    </tr>\n",
       "  </thead>\n",
       "  <tbody>\n",
       "    <tr>\n",
       "      <th>0</th>\n",
       "      <td>2017-09-02 00:15:00</td>\n",
       "      <td>0</td>\n",
       "      <td>0</td>\n",
       "      <td>0.0</td>\n",
       "      <td>0.0</td>\n",
       "      <td>9</td>\n",
       "      <td>2</td>\n",
       "      <td>0</td>\n",
       "      <td>15</td>\n",
       "      <td>21.333333</td>\n",
       "      <td>2.0</td>\n",
       "      <td>10.0</td>\n",
       "      <td>0.0</td>\n",
       "      <td>0.0</td>\n",
       "      <td>79.583333</td>\n",
       "      <td>1.4</td>\n",
       "      <td>1</td>\n",
       "      <td>-44.71</td>\n",
       "      <td>353.43</td>\n",
       "      <td>22.0</td>\n",
       "    </tr>\n",
       "    <tr>\n",
       "      <th>1</th>\n",
       "      <td>2017-09-02 00:30:00</td>\n",
       "      <td>0</td>\n",
       "      <td>0</td>\n",
       "      <td>0.0</td>\n",
       "      <td>0.0</td>\n",
       "      <td>9</td>\n",
       "      <td>2</td>\n",
       "      <td>0</td>\n",
       "      <td>30</td>\n",
       "      <td>21.666667</td>\n",
       "      <td>2.0</td>\n",
       "      <td>10.0</td>\n",
       "      <td>0.0</td>\n",
       "      <td>0.0</td>\n",
       "      <td>79.166667</td>\n",
       "      <td>1.3</td>\n",
       "      <td>1</td>\n",
       "      <td>-44.92</td>\n",
       "      <td>358.66</td>\n",
       "      <td>23.0</td>\n",
       "    </tr>\n",
       "    <tr>\n",
       "      <th>2</th>\n",
       "      <td>2017-09-02 00:45:00</td>\n",
       "      <td>0</td>\n",
       "      <td>0</td>\n",
       "      <td>0.0</td>\n",
       "      <td>0.0</td>\n",
       "      <td>9</td>\n",
       "      <td>2</td>\n",
       "      <td>0</td>\n",
       "      <td>45</td>\n",
       "      <td>22.000000</td>\n",
       "      <td>2.0</td>\n",
       "      <td>10.0</td>\n",
       "      <td>0.0</td>\n",
       "      <td>0.0</td>\n",
       "      <td>78.750000</td>\n",
       "      <td>1.2</td>\n",
       "      <td>1</td>\n",
       "      <td>-44.86</td>\n",
       "      <td>3.90</td>\n",
       "      <td>24.0</td>\n",
       "    </tr>\n",
       "  </tbody>\n",
       "</table>\n",
       "</div>"
      ],
      "text/plain": [
       "                 time solar1 solar2  real_time_power  day_power month day  \\\n",
       "0 2017-09-02 00:15:00      0      0              0.0        0.0     9   2   \n",
       "1 2017-09-02 00:30:00      0      0              0.0        0.0     9   2   \n",
       "2 2017-09-02 00:45:00      0      0              0.0        0.0     9   2   \n",
       "\n",
       "  hour minute  temperature_3H  sky  rainfall_probability  rainfall  snow  \\\n",
       "0    0     15       21.333333  2.0                  10.0       0.0   0.0   \n",
       "1    0     30       21.666667  2.0                  10.0       0.0   0.0   \n",
       "2    0     45       22.000000  2.0                  10.0       0.0   0.0   \n",
       "\n",
       "    humidity  wind_speed wind_direction  Elevation_angle  Azimuth_angle  \\\n",
       "0  79.583333         1.4              1           -44.71         353.43   \n",
       "1  79.166667         1.3              1           -44.92         358.66   \n",
       "2  78.750000         1.2              1           -44.86           3.90   \n",
       "\n",
       "   dust_132  \n",
       "0      22.0  \n",
       "1      23.0  \n",
       "2      24.0  "
      ]
     },
     "execution_count": 124,
     "metadata": {},
     "output_type": "execute_result"
    }
   ],
   "source": [
    "bbb.to_pickle('C:/Users/ewpadmin/JIHYUN/bbb.pkl')\n",
    "bbb = pd.read_pickle('C:/Users/ewpadmin/JIHYUN/bbb.pkl')\n",
    "bbb.head(3)"
   ]
  },
  {
   "cell_type": "code",
   "execution_count": 125,
   "metadata": {
    "scrolled": false
   },
   "outputs": [
    {
     "data": {
      "text/html": [
       "<div>\n",
       "<style scoped>\n",
       "    .dataframe tbody tr th:only-of-type {\n",
       "        vertical-align: middle;\n",
       "    }\n",
       "\n",
       "    .dataframe tbody tr th {\n",
       "        vertical-align: top;\n",
       "    }\n",
       "\n",
       "    .dataframe thead th {\n",
       "        text-align: right;\n",
       "    }\n",
       "</style>\n",
       "<table border=\"1\" class=\"dataframe\">\n",
       "  <thead>\n",
       "    <tr style=\"text-align: right;\">\n",
       "      <th></th>\n",
       "      <th>time</th>\n",
       "      <th>solar1</th>\n",
       "      <th>solar2</th>\n",
       "      <th>real_time_power</th>\n",
       "      <th>day_power</th>\n",
       "      <th>month</th>\n",
       "      <th>day</th>\n",
       "      <th>hour</th>\n",
       "      <th>minute</th>\n",
       "      <th>temperature_3H</th>\n",
       "      <th>sky</th>\n",
       "      <th>rainfall_probability</th>\n",
       "      <th>rainfall</th>\n",
       "      <th>snow</th>\n",
       "      <th>humidity</th>\n",
       "      <th>wind_speed</th>\n",
       "      <th>wind_direction</th>\n",
       "      <th>Elevation_angle</th>\n",
       "      <th>Azimuth_angle</th>\n",
       "      <th>dust_132</th>\n",
       "    </tr>\n",
       "  </thead>\n",
       "  <tbody>\n",
       "    <tr>\n",
       "      <th>0</th>\n",
       "      <td>2017-06-29 00:15:00</td>\n",
       "      <td>2.6</td>\n",
       "      <td>0.20157</td>\n",
       "      <td>0.0</td>\n",
       "      <td>0.0</td>\n",
       "      <td>6</td>\n",
       "      <td>29</td>\n",
       "      <td>0</td>\n",
       "      <td>15</td>\n",
       "      <td>24.166667</td>\n",
       "      <td>3.0</td>\n",
       "      <td>20.0</td>\n",
       "      <td>0.0</td>\n",
       "      <td>0.0</td>\n",
       "      <td>89.166667</td>\n",
       "      <td>1.883333</td>\n",
       "      <td>6</td>\n",
       "      <td>-29.52</td>\n",
       "      <td>354.11</td>\n",
       "      <td>30.75</td>\n",
       "    </tr>\n",
       "    <tr>\n",
       "      <th>1</th>\n",
       "      <td>2017-06-29 00:30:00</td>\n",
       "      <td>2.6</td>\n",
       "      <td>0.216671</td>\n",
       "      <td>0.0</td>\n",
       "      <td>0.0</td>\n",
       "      <td>6</td>\n",
       "      <td>29</td>\n",
       "      <td>0</td>\n",
       "      <td>30</td>\n",
       "      <td>24.333333</td>\n",
       "      <td>3.0</td>\n",
       "      <td>20.0</td>\n",
       "      <td>0.0</td>\n",
       "      <td>0.0</td>\n",
       "      <td>88.333333</td>\n",
       "      <td>1.966667</td>\n",
       "      <td>6</td>\n",
       "      <td>-29.72</td>\n",
       "      <td>358.07</td>\n",
       "      <td>29.50</td>\n",
       "    </tr>\n",
       "    <tr>\n",
       "      <th>2</th>\n",
       "      <td>2017-06-29 00:45:00</td>\n",
       "      <td>2.6</td>\n",
       "      <td>0.00290235</td>\n",
       "      <td>0.0</td>\n",
       "      <td>0.0</td>\n",
       "      <td>6</td>\n",
       "      <td>29</td>\n",
       "      <td>0</td>\n",
       "      <td>45</td>\n",
       "      <td>24.500000</td>\n",
       "      <td>3.0</td>\n",
       "      <td>20.0</td>\n",
       "      <td>0.0</td>\n",
       "      <td>0.0</td>\n",
       "      <td>87.500000</td>\n",
       "      <td>2.050000</td>\n",
       "      <td>6</td>\n",
       "      <td>-29.72</td>\n",
       "      <td>2.03</td>\n",
       "      <td>28.25</td>\n",
       "    </tr>\n",
       "  </tbody>\n",
       "</table>\n",
       "</div>"
      ],
      "text/plain": [
       "                 time solar1      solar2  real_time_power  day_power month  \\\n",
       "0 2017-06-29 00:15:00    2.6     0.20157              0.0        0.0     6   \n",
       "1 2017-06-29 00:30:00    2.6    0.216671              0.0        0.0     6   \n",
       "2 2017-06-29 00:45:00    2.6  0.00290235              0.0        0.0     6   \n",
       "\n",
       "  day hour minute  temperature_3H  sky  rainfall_probability  rainfall  snow  \\\n",
       "0  29    0     15       24.166667  3.0                  20.0       0.0   0.0   \n",
       "1  29    0     30       24.333333  3.0                  20.0       0.0   0.0   \n",
       "2  29    0     45       24.500000  3.0                  20.0       0.0   0.0   \n",
       "\n",
       "    humidity  wind_speed wind_direction  Elevation_angle  Azimuth_angle  \\\n",
       "0  89.166667    1.883333              6           -29.52         354.11   \n",
       "1  88.333333    1.966667              6           -29.72         358.07   \n",
       "2  87.500000    2.050000              6           -29.72           2.03   \n",
       "\n",
       "   dust_132  \n",
       "0     30.75  \n",
       "1     29.50  \n",
       "2     28.25  "
      ]
     },
     "execution_count": 125,
     "metadata": {},
     "output_type": "execute_result"
    }
   ],
   "source": [
    "ccc.to_pickle('C:/Users/ewpadmin/JIHYUN/ccc.pkl')\n",
    "ccc = pd.read_pickle('C:/Users/ewpadmin/JIHYUN/ccc.pkl')\n",
    "ccc.head(3)"
   ]
  },
  {
   "cell_type": "markdown",
   "metadata": {},
   "source": [
    "### 하늘상태 반올림"
   ]
  },
  {
   "cell_type": "code",
   "execution_count": null,
   "metadata": {},
   "outputs": [],
   "source": [
    "# aaa_r = aaa.copy()\n",
    "# bbb_r = bbb.copy()\n",
    "# ccc_r = ccc.copy()"
   ]
  },
  {
   "cell_type": "code",
   "execution_count": null,
   "metadata": {},
   "outputs": [],
   "source": [
    "# aaa_r.sky = aaa.sky.apply(lambda x: round(x))\n",
    "# bbb_r.sky = bbb.sky.apply(lambda x: round(x))\n",
    "# ccc_r.sky = ccc.sky.apply(lambda x: round(x))"
   ]
  },
  {
   "cell_type": "code",
   "execution_count": null,
   "metadata": {},
   "outputs": [],
   "source": [
    "# aaa_r.to_pickle('C:/Users/ewpadmin/JIHYUN/aaa_r.pkl')\n",
    "# aaa_r = pd.read_pickle('C:/Users/ewpadmin/JIHYUN/aaa_r.pkl')\n",
    "# aaa_r.head(1)"
   ]
  },
  {
   "cell_type": "code",
   "execution_count": null,
   "metadata": {},
   "outputs": [],
   "source": [
    "# bbb_r.to_pickle('C:/Users/ewpadmin/JIHYUN/bbb_r.pkl')\n",
    "# bbb_r = pd.read_pickle('C:/Users/ewpadmin/JIHYUN/bbb_r.pkl')\n",
    "# bbb_r.head(1)"
   ]
  },
  {
   "cell_type": "code",
   "execution_count": null,
   "metadata": {},
   "outputs": [],
   "source": [
    "# ccc_r.to_pickle('C:/Users/ewpadmin/JIHYUN/ccc_r.pkl')\n",
    "# ccc_r = pd.read_pickle('C:/Users/ewpadmin/JIHYUN/ccc_r.pkl')\n",
    "# ccc_r.head(1)"
   ]
  }
 ],
 "metadata": {
  "kernelspec": {
   "display_name": "Python 3",
   "language": "python",
   "name": "python3"
  },
  "language_info": {
   "codemirror_mode": {
    "name": "ipython",
    "version": 3
   },
   "file_extension": ".py",
   "mimetype": "text/x-python",
   "name": "python",
   "nbconvert_exporter": "python",
   "pygments_lexer": "ipython3",
   "version": "3.6.5"
  }
 },
 "nbformat": 4,
 "nbformat_minor": 2
}
