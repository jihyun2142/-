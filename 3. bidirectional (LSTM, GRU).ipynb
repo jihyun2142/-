{
 "cells": [
  {
   "cell_type": "code",
   "execution_count": 3,
   "metadata": {},
   "outputs": [],
   "source": [
    "import numpy as np\n",
    "import pandas as pd"
   ]
  },
  {
   "cell_type": "code",
   "execution_count": 4,
   "metadata": {},
   "outputs": [
    {
     "name": "stderr",
     "output_type": "stream",
     "text": [
      "C:\\Anaconda\\lib\\site-packages\\h5py\\__init__.py:36: FutureWarning: Conversion of the second argument of issubdtype from `float` to `np.floating` is deprecated. In future, it will be treated as `np.float64 == np.dtype(float).type`.\n",
      "  from ._conv import register_converters as _register_converters\n",
      "Using TensorFlow backend.\n"
     ]
    }
   ],
   "source": [
    "import keras\n",
    "from keras.preprocessing import sequence\n",
    "from keras.models import Sequential\n",
    "from keras.layers import Dense, Dropout, LSTM, Bidirectional, GRU"
   ]
  },
  {
   "cell_type": "code",
   "execution_count": 5,
   "metadata": {},
   "outputs": [],
   "source": [
    "aaa = pd.read_pickle('C:/Users/ewpadmin/JIHYUN/aaa.pkl')\n",
    "bbb = pd.read_pickle('C:/Users/ewpadmin/JIHYUN/bbb.pkl')\n",
    "ccc = pd.read_pickle('C:/Users/ewpadmin/JIHYUN/ccc.pkl')"
   ]
  },
  {
   "cell_type": "code",
   "execution_count": 6,
   "metadata": {},
   "outputs": [],
   "source": [
    "from sklearn.preprocessing import MinMaxScaler\n",
    "from sklearn.model_selection import train_test_split"
   ]
  },
  {
   "cell_type": "code",
   "execution_count": 7,
   "metadata": {},
   "outputs": [],
   "source": [
    "# sc = MinMaxScaler()\n",
    "# X_sc = sc.fit_transform(aaa[aaa.columns[7:]])\n",
    "# y_sc = sc.fit_transform(aaa[[aaa.columns[3]]])"
   ]
  },
  {
   "cell_type": "code",
   "execution_count": 86,
   "metadata": {},
   "outputs": [],
   "source": [
    "X_train, X_test, y_train, y_test = train_test_split(aaa[aaa.columns[7:]], aaa[[aaa.columns[3]]], test_size=0.3)"
   ]
  },
  {
   "cell_type": "code",
   "execution_count": 87,
   "metadata": {},
   "outputs": [],
   "source": [
    "# X_train, X_test, y_train, y_test = train_test_split(X_sc, y_sc, test_size=0.3)"
   ]
  },
  {
   "cell_type": "code",
   "execution_count": 88,
   "metadata": {},
   "outputs": [],
   "source": [
    "def dataset_reshape(dataset, window_size=1):\n",
    "    data = []\n",
    "    for i in range(len(dataset) - window_size - 1):\n",
    "        change_data = dataset[i:(i+window_size)]  #한칸씩 밀려남.\n",
    "        data.append(np.array(change_data))       \n",
    "    return np.array(data)"
   ]
  },
  {
   "cell_type": "code",
   "execution_count": 89,
   "metadata": {
    "scrolled": false
   },
   "outputs": [
    {
     "data": {
      "text/plain": [
       "((16730, 13), (7171, 13), (16730, 1), (7171, 1))"
      ]
     },
     "execution_count": 89,
     "metadata": {},
     "output_type": "execute_result"
    }
   ],
   "source": [
    "X_train.shape, X_test.shape, y_train.shape, y_test.shape"
   ]
  },
  {
   "cell_type": "code",
   "execution_count": 90,
   "metadata": {},
   "outputs": [],
   "source": [
    "X_train = dataset_reshape(X_train, 4)\n",
    "X_test = dataset_reshape(X_test, 4)\n",
    "y_train = dataset_reshape(y_train.real_time_power, 4)\n",
    "y_test = dataset_reshape(y_test.real_time_power, 4)\n",
    "\n",
    "# X_train = X_train.reshape(X_train.shape[0], 13, 1)\n",
    "# X_test = X_test.reshape(X_test.shape[0], 13, 1)"
   ]
  },
  {
   "cell_type": "code",
   "execution_count": 91,
   "metadata": {
    "scrolled": true
   },
   "outputs": [
    {
     "data": {
      "text/plain": [
       "((16725, 4, 13), (7166, 4, 13), (16725, 4), (7166, 4))"
      ]
     },
     "execution_count": 91,
     "metadata": {},
     "output_type": "execute_result"
    }
   ],
   "source": [
    "X_train.shape, X_test.shape, y_train.shape, y_test.shape"
   ]
  },
  {
   "cell_type": "code",
   "execution_count": 94,
   "metadata": {},
   "outputs": [
    {
     "name": "stdout",
     "output_type": "stream",
     "text": [
      "_________________________________________________________________\n",
      "Layer (type)                 Output Shape              Param #   \n",
      "=================================================================\n",
      "lstm_13 (LSTM)               (None, 20)                2720      \n",
      "_________________________________________________________________\n",
      "dense_16 (Dense)             (None, 1)                 21        \n",
      "=================================================================\n",
      "Total params: 2,741\n",
      "Trainable params: 2,741\n",
      "Non-trainable params: 0\n",
      "_________________________________________________________________\n"
     ]
    }
   ],
   "source": [
    "model = Sequential()\n",
    "model.add(LSTM(20, input_shape=(4,13)))\n",
    "model.add(Dense(1))\n",
    "model.summary()"
   ]
  },
  {
   "cell_type": "code",
   "execution_count": 95,
   "metadata": {
    "scrolled": true
   },
   "outputs": [
    {
     "ename": "ValueError",
     "evalue": "Error when checking target: expected dense_16 to have shape (1,) but got array with shape (4,)",
     "output_type": "error",
     "traceback": [
      "\u001b[1;31m---------------------------------------------------------------------------\u001b[0m",
      "\u001b[1;31mValueError\u001b[0m                                Traceback (most recent call last)",
      "\u001b[1;32m<ipython-input-95-25569b6dc67d>\u001b[0m in \u001b[0;36m<module>\u001b[1;34m()\u001b[0m\n\u001b[0;32m      1\u001b[0m \u001b[0mmodel\u001b[0m\u001b[1;33m.\u001b[0m\u001b[0mcompile\u001b[0m\u001b[1;33m(\u001b[0m\u001b[0mloss\u001b[0m\u001b[1;33m=\u001b[0m\u001b[1;34m'binary_crossentropy'\u001b[0m\u001b[1;33m,\u001b[0m \u001b[0moptimizer\u001b[0m\u001b[1;33m=\u001b[0m\u001b[1;34m'adam'\u001b[0m\u001b[1;33m,\u001b[0m \u001b[0mmetrics\u001b[0m\u001b[1;33m=\u001b[0m\u001b[1;33m[\u001b[0m\u001b[1;34m'mse'\u001b[0m\u001b[1;33m,\u001b[0m \u001b[1;34m'mape'\u001b[0m\u001b[1;33m]\u001b[0m\u001b[1;33m)\u001b[0m\u001b[1;33m\u001b[0m\u001b[0m\n\u001b[1;32m----> 2\u001b[1;33m \u001b[0mmodel\u001b[0m\u001b[1;33m.\u001b[0m\u001b[0mfit\u001b[0m\u001b[1;33m(\u001b[0m\u001b[0mX_train\u001b[0m\u001b[1;33m,\u001b[0m \u001b[0my_train\u001b[0m\u001b[1;33m,\u001b[0m \u001b[0mepochs\u001b[0m \u001b[1;33m=\u001b[0m \u001b[1;36m100\u001b[0m\u001b[1;33m,\u001b[0m \u001b[0mbatch_size\u001b[0m \u001b[1;33m=\u001b[0m \u001b[1;36m100\u001b[0m\u001b[1;33m,\u001b[0m \u001b[0mvalidation_split\u001b[0m \u001b[1;33m=\u001b[0m \u001b[1;36m0.2\u001b[0m\u001b[1;33m,\u001b[0m \u001b[0mverbose\u001b[0m \u001b[1;33m=\u001b[0m \u001b[1;36m2\u001b[0m\u001b[1;33m)\u001b[0m\u001b[1;33m\u001b[0m\u001b[0m\n\u001b[0m",
      "\u001b[1;32mC:\\Anaconda\\lib\\site-packages\\keras\\engine\\training.py\u001b[0m in \u001b[0;36mfit\u001b[1;34m(self, x, y, batch_size, epochs, verbose, callbacks, validation_split, validation_data, shuffle, class_weight, sample_weight, initial_epoch, steps_per_epoch, validation_steps, **kwargs)\u001b[0m\n\u001b[0;32m    950\u001b[0m             \u001b[0msample_weight\u001b[0m\u001b[1;33m=\u001b[0m\u001b[0msample_weight\u001b[0m\u001b[1;33m,\u001b[0m\u001b[1;33m\u001b[0m\u001b[0m\n\u001b[0;32m    951\u001b[0m             \u001b[0mclass_weight\u001b[0m\u001b[1;33m=\u001b[0m\u001b[0mclass_weight\u001b[0m\u001b[1;33m,\u001b[0m\u001b[1;33m\u001b[0m\u001b[0m\n\u001b[1;32m--> 952\u001b[1;33m             batch_size=batch_size)\n\u001b[0m\u001b[0;32m    953\u001b[0m         \u001b[1;31m# Prepare validation data.\u001b[0m\u001b[1;33m\u001b[0m\u001b[1;33m\u001b[0m\u001b[0m\n\u001b[0;32m    954\u001b[0m         \u001b[0mdo_validation\u001b[0m \u001b[1;33m=\u001b[0m \u001b[1;32mFalse\u001b[0m\u001b[1;33m\u001b[0m\u001b[0m\n",
      "\u001b[1;32mC:\\Anaconda\\lib\\site-packages\\keras\\engine\\training.py\u001b[0m in \u001b[0;36m_standardize_user_data\u001b[1;34m(self, x, y, sample_weight, class_weight, check_array_lengths, batch_size)\u001b[0m\n\u001b[0;32m    787\u001b[0m                 \u001b[0mfeed_output_shapes\u001b[0m\u001b[1;33m,\u001b[0m\u001b[1;33m\u001b[0m\u001b[0m\n\u001b[0;32m    788\u001b[0m                 \u001b[0mcheck_batch_axis\u001b[0m\u001b[1;33m=\u001b[0m\u001b[1;32mFalse\u001b[0m\u001b[1;33m,\u001b[0m  \u001b[1;31m# Don't enforce the batch size.\u001b[0m\u001b[1;33m\u001b[0m\u001b[0m\n\u001b[1;32m--> 789\u001b[1;33m                 exception_prefix='target')\n\u001b[0m\u001b[0;32m    790\u001b[0m \u001b[1;33m\u001b[0m\u001b[0m\n\u001b[0;32m    791\u001b[0m             \u001b[1;31m# Generate sample-wise weight values given the `sample_weight` and\u001b[0m\u001b[1;33m\u001b[0m\u001b[1;33m\u001b[0m\u001b[0m\n",
      "\u001b[1;32mC:\\Anaconda\\lib\\site-packages\\keras\\engine\\training_utils.py\u001b[0m in \u001b[0;36mstandardize_input_data\u001b[1;34m(data, names, shapes, check_batch_axis, exception_prefix)\u001b[0m\n\u001b[0;32m    136\u001b[0m                             \u001b[1;34m': expected '\u001b[0m \u001b[1;33m+\u001b[0m \u001b[0mnames\u001b[0m\u001b[1;33m[\u001b[0m\u001b[0mi\u001b[0m\u001b[1;33m]\u001b[0m \u001b[1;33m+\u001b[0m \u001b[1;34m' to have shape '\u001b[0m \u001b[1;33m+\u001b[0m\u001b[1;33m\u001b[0m\u001b[0m\n\u001b[0;32m    137\u001b[0m                             \u001b[0mstr\u001b[0m\u001b[1;33m(\u001b[0m\u001b[0mshape\u001b[0m\u001b[1;33m)\u001b[0m \u001b[1;33m+\u001b[0m \u001b[1;34m' but got array with shape '\u001b[0m \u001b[1;33m+\u001b[0m\u001b[1;33m\u001b[0m\u001b[0m\n\u001b[1;32m--> 138\u001b[1;33m                             str(data_shape))\n\u001b[0m\u001b[0;32m    139\u001b[0m     \u001b[1;32mreturn\u001b[0m \u001b[0mdata\u001b[0m\u001b[1;33m\u001b[0m\u001b[0m\n\u001b[0;32m    140\u001b[0m \u001b[1;33m\u001b[0m\u001b[0m\n",
      "\u001b[1;31mValueError\u001b[0m: Error when checking target: expected dense_16 to have shape (1,) but got array with shape (4,)"
     ]
    }
   ],
   "source": [
    "model.compile(loss='binary_crossentropy', optimizer='adam', metrics=['mse', 'mape'])\n",
    "model.fit(X_train, y_train, epochs = 100, batch_size = 100, validation_split = 0.2, verbose = 2)"
   ]
  },
  {
   "cell_type": "code",
   "execution_count": 60,
   "metadata": {},
   "outputs": [],
   "source": [
    "y_pred = model.predict(X_test)"
   ]
  },
  {
   "cell_type": "code",
   "execution_count": 61,
   "metadata": {},
   "outputs": [],
   "source": [
    "from sklearn.metrics import mean_squared_error"
   ]
  },
  {
   "cell_type": "code",
   "execution_count": 62,
   "metadata": {},
   "outputs": [],
   "source": [
    "from math import sqrt"
   ]
  },
  {
   "cell_type": "code",
   "execution_count": 63,
   "metadata": {},
   "outputs": [],
   "source": [
    "rmse = sqrt(mean_squared_error(y_test, y_pred))"
   ]
  },
  {
   "cell_type": "code",
   "execution_count": 64,
   "metadata": {},
   "outputs": [
    {
     "name": "stdout",
     "output_type": "stream",
     "text": [
      "1034.9985329469887\n"
     ]
    }
   ],
   "source": [
    "print(rmse)"
   ]
  },
  {
   "cell_type": "code",
   "execution_count": 16,
   "metadata": {
    "scrolled": true
   },
   "outputs": [
    {
     "name": "stdout",
     "output_type": "stream",
     "text": [
      "Train on 13384 samples, validate on 3346 samples\n",
      "Epoch 1/100\n",
      " - 5s - loss: 0.4836 - mean_squared_error: 0.0755 - mean_absolute_percentage_error: 97723210.2845 - val_loss: 0.4612 - val_mean_squared_error: 0.0719 - val_mean_absolute_percentage_error: 81471944.8846\n",
      "Epoch 2/100\n",
      " - 3s - loss: 0.4615 - mean_squared_error: 0.0711 - mean_absolute_percentage_error: 90414672.3120 - val_loss: 0.4534 - val_mean_squared_error: 0.0697 - val_mean_absolute_percentage_error: 88205049.7454\n",
      "Epoch 3/100\n",
      " - 3s - loss: 0.4529 - mean_squared_error: 0.0687 - mean_absolute_percentage_error: 88222129.2851 - val_loss: 0.4647 - val_mean_squared_error: 0.0728 - val_mean_absolute_percentage_error: 130776180.3467\n",
      "Epoch 4/100\n",
      " - 3s - loss: 0.4496 - mean_squared_error: 0.0681 - mean_absolute_percentage_error: 86926063.8279 - val_loss: 0.4328 - val_mean_squared_error: 0.0642 - val_mean_absolute_percentage_error: 84991501.5469\n",
      "Epoch 5/100\n",
      " - 3s - loss: 0.4417 - mean_squared_error: 0.0658 - mean_absolute_percentage_error: 85783882.3562 - val_loss: 0.4277 - val_mean_squared_error: 0.0644 - val_mean_absolute_percentage_error: 61565518.0777\n",
      "Epoch 6/100\n",
      " - 3s - loss: 0.4321 - mean_squared_error: 0.0632 - mean_absolute_percentage_error: 81118602.8320 - val_loss: 0.4164 - val_mean_squared_error: 0.0597 - val_mean_absolute_percentage_error: 61610195.5553\n",
      "Epoch 7/100\n",
      " - 2s - loss: 0.4458 - mean_squared_error: 0.0679 - mean_absolute_percentage_error: 92783273.4417 - val_loss: 0.5561 - val_mean_squared_error: 0.1127 - val_mean_absolute_percentage_error: 193878365.8099\n",
      "Epoch 8/100\n",
      " - 3s - loss: 0.4689 - mean_squared_error: 0.0766 - mean_absolute_percentage_error: 103449256.9396 - val_loss: 0.6365 - val_mean_squared_error: 0.1501 - val_mean_absolute_percentage_error: 235965405.5230\n",
      "Epoch 9/100\n",
      " - 2s - loss: 0.4511 - mean_squared_error: 0.0690 - mean_absolute_percentage_error: 88688390.9492 - val_loss: 0.4209 - val_mean_squared_error: 0.0617 - val_mean_absolute_percentage_error: 61424597.4226\n",
      "Epoch 10/100\n",
      " - 3s - loss: 0.4310 - mean_squared_error: 0.0615 - mean_absolute_percentage_error: 74720481.7741 - val_loss: 0.4090 - val_mean_squared_error: 0.0582 - val_mean_absolute_percentage_error: 63633739.7968\n",
      "Epoch 11/100\n",
      " - 3s - loss: 0.4247 - mean_squared_error: 0.0599 - mean_absolute_percentage_error: 72860233.7083 - val_loss: 0.4018 - val_mean_squared_error: 0.0556 - val_mean_absolute_percentage_error: 65065127.3831\n",
      "Epoch 12/100\n",
      " - 2s - loss: 0.4262 - mean_squared_error: 0.0591 - mean_absolute_percentage_error: 72400302.2941 - val_loss: 0.4053 - val_mean_squared_error: 0.0547 - val_mean_absolute_percentage_error: 84882110.6133\n",
      "Epoch 13/100\n",
      " - 2s - loss: 0.4263 - mean_squared_error: 0.0600 - mean_absolute_percentage_error: 83299854.5415 - val_loss: 0.4038 - val_mean_squared_error: 0.0572 - val_mean_absolute_percentage_error: 59642992.4973\n",
      "Epoch 14/100\n",
      " - 3s - loss: 0.4172 - mean_squared_error: 0.0585 - mean_absolute_percentage_error: 73087751.4871 - val_loss: 0.3980 - val_mean_squared_error: 0.0537 - val_mean_absolute_percentage_error: 73283029.1405\n",
      "Epoch 15/100\n",
      " - 3s - loss: 0.4187 - mean_squared_error: 0.0571 - mean_absolute_percentage_error: 75551249.5326 - val_loss: 0.3947 - val_mean_squared_error: 0.0535 - val_mean_absolute_percentage_error: 64133828.9516\n",
      "Epoch 16/100\n",
      " - 3s - loss: 0.4613 - mean_squared_error: 0.0749 - mean_absolute_percentage_error: 105708164.5559 - val_loss: 0.4168 - val_mean_squared_error: 0.0604 - val_mean_absolute_percentage_error: 70324943.6222\n",
      "Epoch 17/100\n",
      " - 3s - loss: 0.4818 - mean_squared_error: 0.0856 - mean_absolute_percentage_error: 112663085.4011 - val_loss: 0.7917 - val_mean_squared_error: 0.2265 - val_mean_absolute_percentage_error: 291767869.9342\n",
      "Epoch 18/100\n",
      " - 2s - loss: 0.4849 - mean_squared_error: 0.0823 - mean_absolute_percentage_error: 112168626.2224 - val_loss: 0.4239 - val_mean_squared_error: 0.0621 - val_mean_absolute_percentage_error: 82252297.9199\n",
      "Epoch 19/100\n",
      " - 3s - loss: 0.4366 - mean_squared_error: 0.0652 - mean_absolute_percentage_error: 82572019.9617 - val_loss: 0.4189 - val_mean_squared_error: 0.0607 - val_mean_absolute_percentage_error: 77890006.9552\n",
      "Epoch 20/100\n",
      " - 3s - loss: 0.4326 - mean_squared_error: 0.0635 - mean_absolute_percentage_error: 80104081.0353 - val_loss: 0.4145 - val_mean_squared_error: 0.0597 - val_mean_absolute_percentage_error: 72507411.3258\n",
      "Epoch 21/100\n",
      " - 2s - loss: 0.4255 - mean_squared_error: 0.0621 - mean_absolute_percentage_error: 75091721.6438 - val_loss: 0.4095 - val_mean_squared_error: 0.0583 - val_mean_absolute_percentage_error: 70726670.6707\n",
      "Epoch 22/100\n",
      " - 3s - loss: 0.4224 - mean_squared_error: 0.0608 - mean_absolute_percentage_error: 76751115.8290 - val_loss: 0.4147 - val_mean_squared_error: 0.0576 - val_mean_absolute_percentage_error: 88973816.7747\n",
      "Epoch 23/100\n",
      " - 3s - loss: 0.4203 - mean_squared_error: 0.0604 - mean_absolute_percentage_error: 77443563.3616 - val_loss: 0.4063 - val_mean_squared_error: 0.0559 - val_mean_absolute_percentage_error: 77572090.2259\n",
      "Epoch 24/100\n",
      " - 2s - loss: 0.4217 - mean_squared_error: 0.0602 - mean_absolute_percentage_error: 79084480.7316 - val_loss: 0.3999 - val_mean_squared_error: 0.0558 - val_mean_absolute_percentage_error: 63030703.7346\n",
      "Epoch 25/100\n",
      " - 2s - loss: 0.4405 - mean_squared_error: 0.0676 - mean_absolute_percentage_error: 95918238.2463 - val_loss: 0.4082 - val_mean_squared_error: 0.0583 - val_mean_absolute_percentage_error: 75177573.1333\n",
      "Epoch 26/100\n",
      " - 2s - loss: 0.4209 - mean_squared_error: 0.0604 - mean_absolute_percentage_error: 73502559.7561 - val_loss: 0.4041 - val_mean_squared_error: 0.0563 - val_mean_absolute_percentage_error: 70813402.2044\n",
      "Epoch 27/100\n",
      " - 2s - loss: 0.4143 - mean_squared_error: 0.0589 - mean_absolute_percentage_error: 72481603.6438 - val_loss: 0.3979 - val_mean_squared_error: 0.0548 - val_mean_absolute_percentage_error: 66552630.0060\n",
      "Epoch 28/100\n",
      " - 3s - loss: 0.4143 - mean_squared_error: 0.0582 - mean_absolute_percentage_error: 71645439.9020 - val_loss: 0.3933 - val_mean_squared_error: 0.0531 - val_mean_absolute_percentage_error: 67873932.6695\n",
      "Epoch 29/100\n",
      " - 3s - loss: 0.4170 - mean_squared_error: 0.0596 - mean_absolute_percentage_error: 78947585.5900 - val_loss: 0.3916 - val_mean_squared_error: 0.0540 - val_mean_absolute_percentage_error: 61429548.2917\n",
      "Epoch 30/100\n",
      " - 3s - loss: 0.4098 - mean_squared_error: 0.0571 - mean_absolute_percentage_error: 71807892.1279 - val_loss: 0.3867 - val_mean_squared_error: 0.0527 - val_mean_absolute_percentage_error: 59255430.6563\n",
      "Epoch 31/100\n",
      " - 2s - loss: 0.4113 - mean_squared_error: 0.0573 - mean_absolute_percentage_error: 74229804.5021 - val_loss: 0.3838 - val_mean_squared_error: 0.0518 - val_mean_absolute_percentage_error: 60084251.4334\n",
      "Epoch 32/100\n",
      " - 2s - loss: 0.4545 - mean_squared_error: 0.0734 - mean_absolute_percentage_error: 104361348.7412 - val_loss: 0.4079 - val_mean_squared_error: 0.0557 - val_mean_absolute_percentage_error: 83055392.9564\n",
      "Epoch 33/100\n",
      " - 2s - loss: 0.4145 - mean_squared_error: 0.0580 - mean_absolute_percentage_error: 71471585.0042 - val_loss: 0.3939 - val_mean_squared_error: 0.0540 - val_mean_absolute_percentage_error: 59264077.4226\n",
      "Epoch 34/100\n",
      " - 3s - loss: 0.4113 - mean_squared_error: 0.0567 - mean_absolute_percentage_error: 72246798.8894 - val_loss: 0.3901 - val_mean_squared_error: 0.0522 - val_mean_absolute_percentage_error: 60532228.9038\n",
      "Epoch 35/100\n",
      " - 2s - loss: 0.4121 - mean_squared_error: 0.0556 - mean_absolute_percentage_error: 70404087.7764 - val_loss: 0.4119 - val_mean_squared_error: 0.0558 - val_mean_absolute_percentage_error: 98245475.9689\n",
      "Epoch 36/100\n",
      " - 3s - loss: 0.4180 - mean_squared_error: 0.0585 - mean_absolute_percentage_error: 82018164.7280 - val_loss: 0.3982 - val_mean_squared_error: 0.0527 - val_mean_absolute_percentage_error: 77332239.0938\n",
      "Epoch 37/100\n",
      " - 2s - loss: 0.4047 - mean_squared_error: 0.0560 - mean_absolute_percentage_error: 71520093.5804 - val_loss: 0.3845 - val_mean_squared_error: 0.0517 - val_mean_absolute_percentage_error: 59492764.3419\n",
      "Epoch 38/100\n",
      " - 3s - loss: 0.4048 - mean_squared_error: 0.0557 - mean_absolute_percentage_error: 71547516.7400 - val_loss: 0.3793 - val_mean_squared_error: 0.0505 - val_mean_absolute_percentage_error: 58030673.5541\n"
     ]
    },
    {
     "name": "stdout",
     "output_type": "stream",
     "text": [
      "Epoch 39/100\n",
      " - 2s - loss: 0.4008 - mean_squared_error: 0.0543 - mean_absolute_percentage_error: 70018541.4967 - val_loss: 0.3762 - val_mean_squared_error: 0.0485 - val_mean_absolute_percentage_error: 63795851.8685\n",
      "Epoch 40/100\n",
      " - 2s - loss: 0.4091 - mean_squared_error: 0.0546 - mean_absolute_percentage_error: 73140959.4417 - val_loss: 0.3758 - val_mean_squared_error: 0.0480 - val_mean_absolute_percentage_error: 68203224.4686\n",
      "Epoch 41/100\n",
      " - 2s - loss: 0.5899 - mean_squared_error: 0.1295 - mean_absolute_percentage_error: 184146882.1482 - val_loss: 0.4487 - val_mean_squared_error: 0.0686 - val_mean_absolute_percentage_error: 119751334.6946\n",
      "Epoch 42/100\n",
      " - 3s - loss: 0.4861 - mean_squared_error: 0.0804 - mean_absolute_percentage_error: 126247226.9576 - val_loss: 0.4422 - val_mean_squared_error: 0.0650 - val_mean_absolute_percentage_error: 115553820.7531\n",
      "Epoch 43/100\n",
      " - 3s - loss: 0.4438 - mean_squared_error: 0.0674 - mean_absolute_percentage_error: 91922040.5858 - val_loss: 0.4112 - val_mean_squared_error: 0.0574 - val_mean_absolute_percentage_error: 77200713.8410\n",
      "Epoch 44/100\n",
      " - 3s - loss: 0.4325 - mean_squared_error: 0.0643 - mean_absolute_percentage_error: 85306266.6420 - val_loss: 0.4027 - val_mean_squared_error: 0.0557 - val_mean_absolute_percentage_error: 65199913.1118\n",
      "Epoch 45/100\n",
      " - 3s - loss: 0.4281 - mean_squared_error: 0.0627 - mean_absolute_percentage_error: 78734290.1458 - val_loss: 0.4018 - val_mean_squared_error: 0.0540 - val_mean_absolute_percentage_error: 74141558.1231\n",
      "Epoch 46/100\n",
      " - 3s - loss: 0.4666 - mean_squared_error: 0.0756 - mean_absolute_percentage_error: 116269801.2038 - val_loss: 0.4097 - val_mean_squared_error: 0.0565 - val_mean_absolute_percentage_error: 76033251.5457\n",
      "Epoch 47/100\n",
      " - 3s - loss: 0.4322 - mean_squared_error: 0.0625 - mean_absolute_percentage_error: 79592969.8051 - val_loss: 0.4011 - val_mean_squared_error: 0.0547 - val_mean_absolute_percentage_error: 67915363.3258\n",
      "Epoch 48/100\n",
      " - 3s - loss: 0.4316 - mean_squared_error: 0.0634 - mean_absolute_percentage_error: 85244505.4441 - val_loss: 0.4757 - val_mean_squared_error: 0.0770 - val_mean_absolute_percentage_error: 146497943.8757\n",
      "Epoch 49/100\n",
      " - 3s - loss: 0.4285 - mean_squared_error: 0.0633 - mean_absolute_percentage_error: 89712126.3993 - val_loss: 0.3949 - val_mean_squared_error: 0.0536 - val_mean_absolute_percentage_error: 66218771.0078\n",
      "Epoch 50/100\n",
      " - 3s - loss: 0.4177 - mean_squared_error: 0.0598 - mean_absolute_percentage_error: 75783126.2606 - val_loss: 0.3905 - val_mean_squared_error: 0.0525 - val_mean_absolute_percentage_error: 63573727.4286\n",
      "Epoch 51/100\n",
      " - 3s - loss: 0.4140 - mean_squared_error: 0.0593 - mean_absolute_percentage_error: 75526132.1817 - val_loss: 0.3852 - val_mean_squared_error: 0.0516 - val_mean_absolute_percentage_error: 58920992.6384\n",
      "Epoch 52/100\n",
      " - 2s - loss: 0.4131 - mean_squared_error: 0.0585 - mean_absolute_percentage_error: 75654758.0741 - val_loss: 0.3889 - val_mean_squared_error: 0.0508 - val_mean_absolute_percentage_error: 70351245.8314\n",
      "Epoch 53/100\n",
      " - 3s - loss: 0.4102 - mean_squared_error: 0.0583 - mean_absolute_percentage_error: 78885909.4907 - val_loss: 0.3922 - val_mean_squared_error: 0.0510 - val_mean_absolute_percentage_error: 78541266.9791\n",
      "Epoch 54/100\n",
      " - 2s - loss: 0.4107 - mean_squared_error: 0.0589 - mean_absolute_percentage_error: 79035872.8655 - val_loss: 0.3791 - val_mean_squared_error: 0.0495 - val_mean_absolute_percentage_error: 62310241.8219\n",
      "Epoch 55/100\n",
      " - 2s - loss: 0.4079 - mean_squared_error: 0.0581 - mean_absolute_percentage_error: 81511404.7818 - val_loss: 0.3767 - val_mean_squared_error: 0.0495 - val_mean_absolute_percentage_error: 61800615.7203\n",
      "Epoch 56/100\n",
      " - 2s - loss: 0.4097 - mean_squared_error: 0.0573 - mean_absolute_percentage_error: 75754944.2140 - val_loss: 0.3758 - val_mean_squared_error: 0.0485 - val_mean_absolute_percentage_error: 63746524.5595\n",
      "Epoch 57/100\n",
      " - 2s - loss: 0.4034 - mean_squared_error: 0.0567 - mean_absolute_percentage_error: 77497366.2881 - val_loss: 0.3776 - val_mean_squared_error: 0.0483 - val_mean_absolute_percentage_error: 68338603.9833\n",
      "Epoch 58/100\n",
      " - 2s - loss: 0.4069 - mean_squared_error: 0.0575 - mean_absolute_percentage_error: 77106697.0090 - val_loss: 0.3718 - val_mean_squared_error: 0.0480 - val_mean_absolute_percentage_error: 61178231.6581\n",
      "Epoch 59/100\n",
      " - 3s - loss: 0.4036 - mean_squared_error: 0.0567 - mean_absolute_percentage_error: 75648890.3742 - val_loss: 0.3684 - val_mean_squared_error: 0.0472 - val_mean_absolute_percentage_error: 59674239.9785\n",
      "Epoch 60/100\n",
      " - 3s - loss: 0.4084 - mean_squared_error: 0.0574 - mean_absolute_percentage_error: 78937100.1530 - val_loss: 0.3729 - val_mean_squared_error: 0.0473 - val_mean_absolute_percentage_error: 66933799.2708\n",
      "Epoch 61/100\n",
      " - 2s - loss: 0.4091 - mean_squared_error: 0.0588 - mean_absolute_percentage_error: 82502133.6318 - val_loss: 0.3787 - val_mean_squared_error: 0.0475 - val_mean_absolute_percentage_error: 70571127.3951\n",
      "Epoch 62/100\n",
      " - 2s - loss: 0.4068 - mean_squared_error: 0.0573 - mean_absolute_percentage_error: 77606336.2642 - val_loss: 0.3674 - val_mean_squared_error: 0.0469 - val_mean_absolute_percentage_error: 56263003.9641\n",
      "Epoch 63/100\n",
      " - 2s - loss: 0.4217 - mean_squared_error: 0.0624 - mean_absolute_percentage_error: 90442088.4351 - val_loss: 0.3773 - val_mean_squared_error: 0.0484 - val_mean_absolute_percentage_error: 70875458.2331\n",
      "Epoch 64/100\n",
      " - 2s - loss: 0.3995 - mean_squared_error: 0.0570 - mean_absolute_percentage_error: 76307582.5332 - val_loss: 0.3666 - val_mean_squared_error: 0.0479 - val_mean_absolute_percentage_error: 56256917.1070\n",
      "Epoch 65/100\n",
      " - 3s - loss: 0.3994 - mean_squared_error: 0.0561 - mean_absolute_percentage_error: 75201606.1447 - val_loss: 0.3638 - val_mean_squared_error: 0.0471 - val_mean_absolute_percentage_error: 51782958.0562\n",
      "Epoch 66/100\n",
      " - 3s - loss: 0.4185 - mean_squared_error: 0.0635 - mean_absolute_percentage_error: 90990954.3347 - val_loss: 0.4921 - val_mean_squared_error: 0.0839 - val_mean_absolute_percentage_error: 155389633.4871\n",
      "Epoch 67/100\n",
      " - 3s - loss: 0.4272 - mean_squared_error: 0.0602 - mean_absolute_percentage_error: 80505163.1273 - val_loss: 0.3754 - val_mean_squared_error: 0.0483 - val_mean_absolute_percentage_error: 57110365.7525\n",
      "Epoch 68/100\n",
      " - 3s - loss: 0.4007 - mean_squared_error: 0.0563 - mean_absolute_percentage_error: 72480476.9731 - val_loss: 0.3760 - val_mean_squared_error: 0.0475 - val_mean_absolute_percentage_error: 66173349.2744\n",
      "Epoch 69/100\n",
      " - 2s - loss: 0.4000 - mean_squared_error: 0.0551 - mean_absolute_percentage_error: 70673596.5774 - val_loss: 0.3657 - val_mean_squared_error: 0.0471 - val_mean_absolute_percentage_error: 56493073.1022\n",
      "Epoch 70/100\n",
      " - 3s - loss: 0.3977 - mean_squared_error: 0.0546 - mean_absolute_percentage_error: 72163742.3228 - val_loss: 0.3640 - val_mean_squared_error: 0.0460 - val_mean_absolute_percentage_error: 59451940.8990\n",
      "Epoch 71/100\n",
      " - 3s - loss: 0.3954 - mean_squared_error: 0.0546 - mean_absolute_percentage_error: 71934099.4907 - val_loss: 0.3584 - val_mean_squared_error: 0.0458 - val_mean_absolute_percentage_error: 57783757.2194\n",
      "Epoch 72/100\n",
      " - 3s - loss: 0.3997 - mean_squared_error: 0.0555 - mean_absolute_percentage_error: 78666398.8165 - val_loss: 0.3844 - val_mean_squared_error: 0.0467 - val_mean_absolute_percentage_error: 81313546.6300\n",
      "Epoch 73/100\n",
      " - 2s - loss: 0.4047 - mean_squared_error: 0.0557 - mean_absolute_percentage_error: 76390377.0735 - val_loss: 0.3629 - val_mean_squared_error: 0.0499 - val_mean_absolute_percentage_error: 55060984.4328\n",
      "Epoch 74/100\n",
      " - 2s - loss: 0.3953 - mean_squared_error: 0.0554 - mean_absolute_percentage_error: 75149474.7579 - val_loss: 0.3957 - val_mean_squared_error: 0.0522 - val_mean_absolute_percentage_error: 94253222.3503\n",
      "Epoch 75/100\n",
      " - 3s - loss: 0.3974 - mean_squared_error: 0.0551 - mean_absolute_percentage_error: 74554739.4417 - val_loss: 0.3556 - val_mean_squared_error: 0.0459 - val_mean_absolute_percentage_error: 54107322.8858\n",
      "Epoch 76/100\n",
      " - 3s - loss: 0.3942 - mean_squared_error: 0.0546 - mean_absolute_percentage_error: 75776206.2236 - val_loss: 0.3554 - val_mean_squared_error: 0.0460 - val_mean_absolute_percentage_error: 58682868.7675\n",
      "Epoch 77/100\n",
      " - 3s - loss: 0.3924 - mean_squared_error: 0.0553 - mean_absolute_percentage_error: 76981819.5027 - val_loss: 0.3533 - val_mean_squared_error: 0.0447 - val_mean_absolute_percentage_error: 58299592.7316\n"
     ]
    },
    {
     "name": "stdout",
     "output_type": "stream",
     "text": [
      "Epoch 78/100\n",
      " - 3s - loss: 0.4024 - mean_squared_error: 0.0584 - mean_absolute_percentage_error: 86456272.9169 - val_loss: 0.3684 - val_mean_squared_error: 0.0461 - val_mean_absolute_percentage_error: 68110409.0377\n",
      "Epoch 79/100\n",
      " - 3s - loss: 0.3913 - mean_squared_error: 0.0555 - mean_absolute_percentage_error: 75880716.1913 - val_loss: 0.3586 - val_mean_squared_error: 0.0442 - val_mean_absolute_percentage_error: 59800165.2313\n",
      "Epoch 80/100\n",
      " - 3s - loss: 0.4045 - mean_squared_error: 0.0604 - mean_absolute_percentage_error: 90075940.5559 - val_loss: 0.3620 - val_mean_squared_error: 0.0469 - val_mean_absolute_percentage_error: 62110685.1524\n",
      "Epoch 81/100\n",
      " - 3s - loss: 0.3973 - mean_squared_error: 0.0553 - mean_absolute_percentage_error: 79303216.6348 - val_loss: 0.3678 - val_mean_squared_error: 0.0468 - val_mean_absolute_percentage_error: 56047643.9522\n",
      "Epoch 82/100\n",
      " - 3s - loss: 0.4133 - mean_squared_error: 0.0618 - mean_absolute_percentage_error: 89131962.6575 - val_loss: 0.3653 - val_mean_squared_error: 0.0490 - val_mean_absolute_percentage_error: 53038520.4543\n",
      "Epoch 83/100\n",
      " - 3s - loss: 0.3917 - mean_squared_error: 0.0543 - mean_absolute_percentage_error: 72030306.9982 - val_loss: 0.3752 - val_mean_squared_error: 0.0459 - val_mean_absolute_percentage_error: 71992076.0885\n",
      "Epoch 84/100\n",
      " - 3s - loss: 0.3869 - mean_squared_error: 0.0533 - mean_absolute_percentage_error: 71818844.5188 - val_loss: 0.3640 - val_mean_squared_error: 0.0447 - val_mean_absolute_percentage_error: 67952588.4710\n",
      "Epoch 85/100\n",
      " - 3s - loss: 0.3876 - mean_squared_error: 0.0551 - mean_absolute_percentage_error: 79807555.2301 - val_loss: 0.3603 - val_mean_squared_error: 0.0452 - val_mean_absolute_percentage_error: 70384704.5810\n",
      "Epoch 86/100\n",
      " - 3s - loss: 0.3864 - mean_squared_error: 0.0552 - mean_absolute_percentage_error: 79126483.2241 - val_loss: 0.3567 - val_mean_squared_error: 0.0421 - val_mean_absolute_percentage_error: 64171738.1710\n",
      "Epoch 87/100\n",
      " - 3s - loss: 0.3916 - mean_squared_error: 0.0559 - mean_absolute_percentage_error: 81627209.5792 - val_loss: 0.4401 - val_mean_squared_error: 0.0641 - val_mean_absolute_percentage_error: 122365735.9665\n",
      "Epoch 88/100\n",
      " - 3s - loss: 0.3975 - mean_squared_error: 0.0544 - mean_absolute_percentage_error: 72126675.7812 - val_loss: 0.3520 - val_mean_squared_error: 0.0446 - val_mean_absolute_percentage_error: 53246381.9749\n",
      "Epoch 89/100\n",
      " - 3s - loss: 0.3839 - mean_squared_error: 0.0533 - mean_absolute_percentage_error: 72758870.4985 - val_loss: 0.3469 - val_mean_squared_error: 0.0439 - val_mean_absolute_percentage_error: 51015590.3001\n",
      "Epoch 90/100\n",
      " - 3s - loss: 0.3852 - mean_squared_error: 0.0537 - mean_absolute_percentage_error: 78866070.9671 - val_loss: 0.3463 - val_mean_squared_error: 0.0445 - val_mean_absolute_percentage_error: 50755640.3562\n",
      "Epoch 91/100\n",
      " - 3s - loss: 0.3922 - mean_squared_error: 0.0527 - mean_absolute_percentage_error: 74923074.0765 - val_loss: 0.3410 - val_mean_squared_error: 0.0407 - val_mean_absolute_percentage_error: 54343474.1064\n",
      "Epoch 92/100\n",
      " - 3s - loss: 0.3793 - mean_squared_error: 0.0530 - mean_absolute_percentage_error: 78000056.3574 - val_loss: 0.3410 - val_mean_squared_error: 0.0439 - val_mean_absolute_percentage_error: 53274559.8900\n",
      "Epoch 93/100\n",
      " - 3s - loss: 0.3844 - mean_squared_error: 0.0533 - mean_absolute_percentage_error: 78653403.2385 - val_loss: 0.3379 - val_mean_squared_error: 0.0439 - val_mean_absolute_percentage_error: 60661644.0263\n",
      "Epoch 94/100\n",
      " - 3s - loss: 0.3862 - mean_squared_error: 0.0537 - mean_absolute_percentage_error: 79962951.0341 - val_loss: 0.3355 - val_mean_squared_error: 0.0433 - val_mean_absolute_percentage_error: 55670005.1142\n",
      "Epoch 95/100\n",
      " - 2s - loss: 0.3746 - mean_squared_error: 0.0525 - mean_absolute_percentage_error: 77481222.3276 - val_loss: 0.3371 - val_mean_squared_error: 0.0432 - val_mean_absolute_percentage_error: 53703130.6635\n",
      "Epoch 96/100\n",
      " - 3s - loss: 0.3850 - mean_squared_error: 0.0533 - mean_absolute_percentage_error: 80443400.1745 - val_loss: 0.3371 - val_mean_squared_error: 0.0374 - val_mean_absolute_percentage_error: 44527757.7812\n",
      "Epoch 97/100\n",
      " - 3s - loss: 0.3782 - mean_squared_error: 0.0495 - mean_absolute_percentage_error: 73953570.6898 - val_loss: 0.3332 - val_mean_squared_error: 0.0405 - val_mean_absolute_percentage_error: 54342812.3634\n",
      "Epoch 98/100\n",
      " - 3s - loss: 0.3867 - mean_squared_error: 0.0559 - mean_absolute_percentage_error: 88389884.7244 - val_loss: 0.3351 - val_mean_squared_error: 0.0420 - val_mean_absolute_percentage_error: 54592371.0149\n",
      "Epoch 99/100\n",
      " - 3s - loss: 0.3701 - mean_squared_error: 0.0486 - mean_absolute_percentage_error: 73639145.3174 - val_loss: 0.3279 - val_mean_squared_error: 0.0385 - val_mean_absolute_percentage_error: 55016918.9217\n",
      "Epoch 100/100\n",
      " - 3s - loss: 0.4147 - mean_squared_error: 0.0612 - mean_absolute_percentage_error: 90507041.3688 - val_loss: 0.3383 - val_mean_squared_error: 0.0401 - val_mean_absolute_percentage_error: 43074712.2391\n"
     ]
    },
    {
     "data": {
      "text/plain": [
       "<keras.callbacks.History at 0x217def5d908>"
      ]
     },
     "execution_count": 16,
     "metadata": {},
     "output_type": "execute_result"
    }
   ],
   "source": [
    "model = Sequential()\n",
    "model.add(Bidirectional(LSTM(32, input_shape=(13, 1),dropout=0.25, recurrent_dropout=0.1)))\n",
    "model.add(Dense(100, activation='tanh'))\n",
    "model.add(Dropout(0.25))\n",
    "model.add(Dense(1, activation='tanh'))\n",
    "\n",
    "model.compile(loss='binary_crossentropy', optimizer='adam', metrics=['mse', 'mape'])\n",
    "model.fit(X_train, y_train, epochs = 100, batch_size = 100, validation_split = 0.2, verbose = 2)"
   ]
  },
  {
   "cell_type": "code",
   "execution_count": 17,
   "metadata": {},
   "outputs": [],
   "source": [
    "y_pred = model.predict(X_test)"
   ]
  },
  {
   "cell_type": "code",
   "execution_count": 20,
   "metadata": {
    "scrolled": true
   },
   "outputs": [
    {
     "name": "stdout",
     "output_type": "stream",
     "text": [
      "0.039740602238434945\n"
     ]
    }
   ],
   "source": [
    "print(mean_squared_error(y_test, y_pred))"
   ]
  },
  {
   "cell_type": "code",
   "execution_count": 24,
   "metadata": {},
   "outputs": [],
   "source": [
    "rmse = sqrt(mean_squared_error(y_test, y_pred))"
   ]
  },
  {
   "cell_type": "code",
   "execution_count": 25,
   "metadata": {},
   "outputs": [
    {
     "name": "stdout",
     "output_type": "stream",
     "text": [
      "0.19935045081071412\n"
     ]
    }
   ],
   "source": [
    "print(rmse)"
   ]
  },
  {
   "cell_type": "code",
   "execution_count": 26,
   "metadata": {},
   "outputs": [],
   "source": [
    "def mape_zeroless(act, pred):\n",
    "    \n",
    "    mape = pd.DataFrame({'act':act.reshape(-1,).round(2), 'pred':pred.reshape(-1,).round(2)})\n",
    "    mape['error'] = np.abs((mape.act-mape.pred) /mape.act)\n",
    "    \n",
    "    zero_idx = mape[mape.act == 0].index\n",
    "    mape.drop(zero_idx, axis=0, inplace=True)\n",
    "\n",
    "    return np.mean(mape.error) * 100"
   ]
  },
  {
   "cell_type": "code",
   "execution_count": 27,
   "metadata": {},
   "outputs": [
    {
     "name": "stdout",
     "output_type": "stream",
     "text": [
      "MAPE : -38.5543 \n",
      "\n"
     ]
    }
   ],
   "source": [
    "print(\"MAPE : %.4f \\n\" % (100 - mape_zeroless(y_test, y_pred)))"
   ]
  },
  {
   "cell_type": "code",
   "execution_count": 28,
   "metadata": {},
   "outputs": [],
   "source": [
    "from keras import losses"
   ]
  },
  {
   "cell_type": "code",
   "execution_count": 29,
   "metadata": {
    "scrolled": true
   },
   "outputs": [
    {
     "data": {
      "text/plain": [
       "<tf.Tensor 'mul:0' shape=(7171,) dtype=float64>"
      ]
     },
     "execution_count": 29,
     "metadata": {},
     "output_type": "execute_result"
    }
   ],
   "source": [
    "keras.losses.mean_absolute_percentage_error(y_test, y_pred)"
   ]
  },
  {
   "cell_type": "markdown",
   "metadata": {},
   "source": [
    "### GRU"
   ]
  },
  {
   "cell_type": "code",
   "execution_count": 30,
   "metadata": {
    "scrolled": true
   },
   "outputs": [
    {
     "name": "stdout",
     "output_type": "stream",
     "text": [
      "Train on 13384 samples, validate on 3346 samples\n",
      "Epoch 1/100\n",
      " - 5s - loss: 0.4814 - mean_squared_error: 0.0734 - mean_absolute_percentage_error: 93176947.3559 - val_loss: 0.4545 - val_mean_squared_error: 0.0704 - val_mean_absolute_percentage_error: 108926265.4441\n",
      "Epoch 2/100\n",
      " - 2s - loss: 0.4463 - mean_squared_error: 0.0678 - mean_absolute_percentage_error: 84958639.3891 - val_loss: 0.4145 - val_mean_squared_error: 0.0585 - val_mean_absolute_percentage_error: 79961161.0185\n",
      "Epoch 3/100\n",
      " - 2s - loss: 0.4324 - mean_squared_error: 0.0616 - mean_absolute_percentage_error: 80123673.5577 - val_loss: 0.4073 - val_mean_squared_error: 0.0562 - val_mean_absolute_percentage_error: 72443741.0855\n",
      "Epoch 4/100\n",
      " - 2s - loss: 0.4269 - mean_squared_error: 0.0598 - mean_absolute_percentage_error: 79187810.4638 - val_loss: 0.4040 - val_mean_squared_error: 0.0543 - val_mean_absolute_percentage_error: 59263721.9605\n",
      "Epoch 5/100\n",
      " - 2s - loss: 0.4294 - mean_squared_error: 0.0574 - mean_absolute_percentage_error: 76697451.5995 - val_loss: 0.5031 - val_mean_squared_error: 0.0891 - val_mean_absolute_percentage_error: 168208508.5093\n",
      "Epoch 6/100\n",
      " - 2s - loss: 0.4452 - mean_squared_error: 0.0604 - mean_absolute_percentage_error: 82878084.8607 - val_loss: 0.3893 - val_mean_squared_error: 0.0477 - val_mean_absolute_percentage_error: 74974978.9289\n",
      "Epoch 7/100\n",
      " - 2s - loss: 0.4116 - mean_squared_error: 0.0536 - mean_absolute_percentage_error: 81047169.4202 - val_loss: 0.3742 - val_mean_squared_error: 0.0456 - val_mean_absolute_percentage_error: 61633799.2014\n",
      "Epoch 8/100\n",
      " - 2s - loss: 0.4141 - mean_squared_error: 0.0541 - mean_absolute_percentage_error: 82249232.8679 - val_loss: 0.4546 - val_mean_squared_error: 0.0701 - val_mean_absolute_percentage_error: 135863985.3341\n",
      "Epoch 9/100\n",
      " - 2s - loss: 0.4069 - mean_squared_error: 0.0504 - mean_absolute_percentage_error: 71497802.2809 - val_loss: 0.4000 - val_mean_squared_error: 0.0493 - val_mean_absolute_percentage_error: 97601434.1279\n",
      "Epoch 10/100\n",
      " - 2s - loss: 0.3881 - mean_squared_error: 0.0465 - mean_absolute_percentage_error: 63020077.3772 - val_loss: 0.3739 - val_mean_squared_error: 0.0444 - val_mean_absolute_percentage_error: 63322603.7968\n",
      "Epoch 11/100\n",
      " - 2s - loss: 0.3890 - mean_squared_error: 0.0457 - mean_absolute_percentage_error: 60196590.2236 - val_loss: 0.3503 - val_mean_squared_error: 0.0388 - val_mean_absolute_percentage_error: 46523735.6509\n",
      "Epoch 12/100\n",
      " - 2s - loss: 0.4362 - mean_squared_error: 0.0641 - mean_absolute_percentage_error: 99009116.5308 - val_loss: 0.4090 - val_mean_squared_error: 0.0552 - val_mean_absolute_percentage_error: 82829521.4154\n",
      "Epoch 13/100\n",
      " - 2s - loss: 0.4000 - mean_squared_error: 0.0519 - mean_absolute_percentage_error: 61816335.7824 - val_loss: 0.3688 - val_mean_squared_error: 0.0437 - val_mean_absolute_percentage_error: 59612104.1076\n",
      "Epoch 14/100\n",
      " - 2s - loss: 0.3845 - mean_squared_error: 0.0449 - mean_absolute_percentage_error: 60977055.1656 - val_loss: 0.3608 - val_mean_squared_error: 0.0411 - val_mean_absolute_percentage_error: 60211875.0436\n",
      "Epoch 15/100\n",
      " - 2s - loss: 0.3904 - mean_squared_error: 0.0453 - mean_absolute_percentage_error: 63955642.9181 - val_loss: 0.3674 - val_mean_squared_error: 0.0452 - val_mean_absolute_percentage_error: 41617150.6659\n",
      "Epoch 16/100\n",
      " - 2s - loss: 0.4105 - mean_squared_error: 0.0561 - mean_absolute_percentage_error: 82059651.7884 - val_loss: 0.5522 - val_mean_squared_error: 0.1097 - val_mean_absolute_percentage_error: 193242549.8338\n",
      "Epoch 17/100\n",
      " - 2s - loss: 0.4195 - mean_squared_error: 0.0560 - mean_absolute_percentage_error: 74434381.5876 - val_loss: 0.3938 - val_mean_squared_error: 0.0497 - val_mean_absolute_percentage_error: 77293994.0395\n",
      "Epoch 18/100\n",
      " - 2s - loss: 0.4902 - mean_squared_error: 0.0865 - mean_absolute_percentage_error: 124853772.1578 - val_loss: 0.4251 - val_mean_squared_error: 0.0599 - val_mean_absolute_percentage_error: 98113117.0879\n",
      "Epoch 19/100\n",
      " - 2s - loss: 0.4150 - mean_squared_error: 0.0554 - mean_absolute_percentage_error: 77917807.4142 - val_loss: 0.3801 - val_mean_squared_error: 0.0480 - val_mean_absolute_percentage_error: 58658701.0042\n",
      "Epoch 20/100\n",
      " - 2s - loss: 0.3919 - mean_squared_error: 0.0463 - mean_absolute_percentage_error: 60910124.4818 - val_loss: 0.3550 - val_mean_squared_error: 0.0407 - val_mean_absolute_percentage_error: 49566588.1506\n",
      "Epoch 21/100\n",
      " - 2s - loss: 0.3817 - mean_squared_error: 0.0436 - mean_absolute_percentage_error: 59593106.1363 - val_loss: 0.3524 - val_mean_squared_error: 0.0391 - val_mean_absolute_percentage_error: 54201240.1865\n",
      "Epoch 22/100\n",
      " - 2s - loss: 0.4211 - mean_squared_error: 0.0592 - mean_absolute_percentage_error: 94281187.2050 - val_loss: 0.3915 - val_mean_squared_error: 0.0527 - val_mean_absolute_percentage_error: 57384447.1990\n",
      "Epoch 23/100\n",
      " - 2s - loss: 0.3892 - mean_squared_error: 0.0475 - mean_absolute_percentage_error: 56636460.9880 - val_loss: 0.3652 - val_mean_squared_error: 0.0435 - val_mean_absolute_percentage_error: 52516926.2116\n",
      "Epoch 24/100\n",
      " - 2s - loss: 0.3813 - mean_squared_error: 0.0436 - mean_absolute_percentage_error: 57130078.7591 - val_loss: 0.3502 - val_mean_squared_error: 0.0396 - val_mean_absolute_percentage_error: 42673656.3778\n",
      "Epoch 25/100\n",
      " - 2s - loss: 0.3809 - mean_squared_error: 0.0432 - mean_absolute_percentage_error: 60123703.2935 - val_loss: 0.3484 - val_mean_squared_error: 0.0386 - val_mean_absolute_percentage_error: 45798300.7842\n",
      "Epoch 26/100\n",
      " - 2s - loss: 0.3737 - mean_squared_error: 0.0425 - mean_absolute_percentage_error: 59372732.7878 - val_loss: 0.3404 - val_mean_squared_error: 0.0364 - val_mean_absolute_percentage_error: 41951189.0185\n",
      "Epoch 27/100\n",
      " - 2s - loss: 0.3759 - mean_squared_error: 0.0414 - mean_absolute_percentage_error: 57373472.6880 - val_loss: 0.3528 - val_mean_squared_error: 0.0372 - val_mean_absolute_percentage_error: 60739072.1339\n",
      "Epoch 28/100\n",
      " - 2s - loss: 0.4420 - mean_squared_error: 0.0678 - mean_absolute_percentage_error: 100290592.8512 - val_loss: 0.3974 - val_mean_squared_error: 0.0537 - val_mean_absolute_percentage_error: 71363401.3509\n",
      "Epoch 29/100\n",
      " - 2s - loss: 0.3967 - mean_squared_error: 0.0524 - mean_absolute_percentage_error: 68238192.1255 - val_loss: 0.5601 - val_mean_squared_error: 0.1130 - val_mean_absolute_percentage_error: 200329527.2684\n",
      "Epoch 30/100\n",
      " - 2s - loss: 0.4406 - mean_squared_error: 0.0660 - mean_absolute_percentage_error: 103400253.5397 - val_loss: 0.3852 - val_mean_squared_error: 0.0488 - val_mean_absolute_percentage_error: 66912999.0030\n",
      "Epoch 31/100\n",
      " - 2s - loss: 0.4205 - mean_squared_error: 0.0591 - mean_absolute_percentage_error: 93913478.6647 - val_loss: 0.5263 - val_mean_squared_error: 0.0973 - val_mean_absolute_percentage_error: 180659770.9217\n",
      "Epoch 32/100\n",
      " - 2s - loss: 0.4337 - mean_squared_error: 0.0630 - mean_absolute_percentage_error: 94384383.6139 - val_loss: 0.4049 - val_mean_squared_error: 0.0555 - val_mean_absolute_percentage_error: 67667139.6055\n",
      "Epoch 33/100\n",
      " - 2s - loss: 0.3896 - mean_squared_error: 0.0500 - mean_absolute_percentage_error: 56760923.7310 - val_loss: 0.3724 - val_mean_squared_error: 0.0452 - val_mean_absolute_percentage_error: 57948425.5541\n",
      "Epoch 34/100\n",
      " - 2s - loss: 0.3742 - mean_squared_error: 0.0442 - mean_absolute_percentage_error: 55625956.2343 - val_loss: 0.3546 - val_mean_squared_error: 0.0397 - val_mean_absolute_percentage_error: 50903341.8864\n",
      "Epoch 35/100\n",
      " - 2s - loss: 0.3738 - mean_squared_error: 0.0422 - mean_absolute_percentage_error: 52800702.2654 - val_loss: 0.3408 - val_mean_squared_error: 0.0368 - val_mean_absolute_percentage_error: 39879157.7310\n",
      "Epoch 36/100\n",
      " - 2s - loss: 0.4114 - mean_squared_error: 0.0552 - mean_absolute_percentage_error: 89861071.5206 - val_loss: 0.3659 - val_mean_squared_error: 0.0427 - val_mean_absolute_percentage_error: 58935360.8296\n",
      "Epoch 37/100\n",
      " - 2s - loss: 0.3717 - mean_squared_error: 0.0426 - mean_absolute_percentage_error: 54329437.9008 - val_loss: 0.3462 - val_mean_squared_error: 0.0378 - val_mean_absolute_percentage_error: 45292296.1554\n",
      "Epoch 38/100\n",
      " - 2s - loss: 0.3703 - mean_squared_error: 0.0408 - mean_absolute_percentage_error: 53711509.5254 - val_loss: 0.3397 - val_mean_squared_error: 0.0350 - val_mean_absolute_percentage_error: 44491607.0867\n"
     ]
    },
    {
     "name": "stdout",
     "output_type": "stream",
     "text": [
      "Epoch 39/100\n",
      " - 2s - loss: 0.3696 - mean_squared_error: 0.0413 - mean_absolute_percentage_error: 57269566.4782 - val_loss: 0.3366 - val_mean_squared_error: 0.0348 - val_mean_absolute_percentage_error: 39381926.4579\n",
      "Epoch 40/100\n",
      " - 2s - loss: 0.4420 - mean_squared_error: 0.0679 - mean_absolute_percentage_error: 111934061.7346 - val_loss: 0.3788 - val_mean_squared_error: 0.0475 - val_mean_absolute_percentage_error: 65471191.7992\n",
      "Epoch 41/100\n",
      " - 2s - loss: 0.3739 - mean_squared_error: 0.0445 - mean_absolute_percentage_error: 56643075.7490 - val_loss: 0.3412 - val_mean_squared_error: 0.0383 - val_mean_absolute_percentage_error: 40031777.8864\n",
      "Epoch 42/100\n",
      " - 2s - loss: 0.3875 - mean_squared_error: 0.0481 - mean_absolute_percentage_error: 71488437.7872 - val_loss: 0.4251 - val_mean_squared_error: 0.0579 - val_mean_absolute_percentage_error: 114776484.0837\n",
      "Epoch 43/100\n",
      " - 2s - loss: 0.3813 - mean_squared_error: 0.0460 - mean_absolute_percentage_error: 62393495.7107 - val_loss: 0.3497 - val_mean_squared_error: 0.0398 - val_mean_absolute_percentage_error: 46480246.4985\n",
      "Epoch 44/100\n",
      " - 2s - loss: 0.3726 - mean_squared_error: 0.0431 - mean_absolute_percentage_error: 58822349.7836 - val_loss: 0.3808 - val_mean_squared_error: 0.0449 - val_mean_absolute_percentage_error: 84457564.4328\n",
      "Epoch 45/100\n",
      " - 2s - loss: 0.3722 - mean_squared_error: 0.0429 - mean_absolute_percentage_error: 63916861.2026 - val_loss: 0.3350 - val_mean_squared_error: 0.0353 - val_mean_absolute_percentage_error: 41486398.6444\n",
      "Epoch 46/100\n",
      " - 2s - loss: 0.3669 - mean_squared_error: 0.0412 - mean_absolute_percentage_error: 53962788.1715 - val_loss: 0.3347 - val_mean_squared_error: 0.0345 - val_mean_absolute_percentage_error: 42759199.7298\n",
      "Epoch 47/100\n",
      " - 2s - loss: 0.3627 - mean_squared_error: 0.0405 - mean_absolute_percentage_error: 52787810.1303 - val_loss: 0.3272 - val_mean_squared_error: 0.0341 - val_mean_absolute_percentage_error: 35753121.4226\n",
      "Epoch 48/100\n",
      " - 2s - loss: 0.3614 - mean_squared_error: 0.0403 - mean_absolute_percentage_error: 58625637.8063 - val_loss: 0.3689 - val_mean_squared_error: 0.0411 - val_mean_absolute_percentage_error: 73764319.7131\n",
      "Epoch 49/100\n",
      " - 2s - loss: 0.3628 - mean_squared_error: 0.0403 - mean_absolute_percentage_error: 55789037.2767 - val_loss: 0.3254 - val_mean_squared_error: 0.0334 - val_mean_absolute_percentage_error: 35764918.6157\n",
      "Epoch 50/100\n",
      " - 2s - loss: 0.3809 - mean_squared_error: 0.0457 - mean_absolute_percentage_error: 72283911.2098 - val_loss: 0.4040 - val_mean_squared_error: 0.0503 - val_mean_absolute_percentage_error: 100633993.3485\n",
      "Epoch 51/100\n",
      " - 2s - loss: 0.3729 - mean_squared_error: 0.0433 - mean_absolute_percentage_error: 59875164.0669 - val_loss: 0.3387 - val_mean_squared_error: 0.0362 - val_mean_absolute_percentage_error: 44081407.2158\n",
      "Epoch 52/100\n",
      " - 2s - loss: 0.3693 - mean_squared_error: 0.0411 - mean_absolute_percentage_error: 57509672.8057 - val_loss: 0.3284 - val_mean_squared_error: 0.0336 - val_mean_absolute_percentage_error: 39229362.4435\n",
      "Epoch 53/100\n",
      " - 2s - loss: 0.3668 - mean_squared_error: 0.0400 - mean_absolute_percentage_error: 54374006.0179 - val_loss: 0.3245 - val_mean_squared_error: 0.0320 - val_mean_absolute_percentage_error: 38617993.1094\n",
      "Epoch 54/100\n",
      " - 2s - loss: 0.3653 - mean_squared_error: 0.0407 - mean_absolute_percentage_error: 57452294.2582 - val_loss: 0.3255 - val_mean_squared_error: 0.0324 - val_mean_absolute_percentage_error: 38263541.3891\n",
      "Epoch 55/100\n",
      " - 2s - loss: 0.3924 - mean_squared_error: 0.0492 - mean_absolute_percentage_error: 75027883.3903 - val_loss: 0.4309 - val_mean_squared_error: 0.0587 - val_mean_absolute_percentage_error: 122477233.9319\n",
      "Epoch 56/100\n",
      " - 2s - loss: 0.3810 - mean_squared_error: 0.0444 - mean_absolute_percentage_error: 59898554.7651 - val_loss: 0.3481 - val_mean_squared_error: 0.0379 - val_mean_absolute_percentage_error: 49443050.8476\n",
      "Epoch 57/100\n",
      " - 2s - loss: 0.3636 - mean_squared_error: 0.0396 - mean_absolute_percentage_error: 53151043.6270 - val_loss: 0.3348 - val_mean_squared_error: 0.0351 - val_mean_absolute_percentage_error: 41895536.8942\n",
      "Epoch 58/100\n",
      " - 2s - loss: 0.3590 - mean_squared_error: 0.0392 - mean_absolute_percentage_error: 53532680.4268 - val_loss: 0.3264 - val_mean_squared_error: 0.0333 - val_mean_absolute_percentage_error: 35453432.1984\n",
      "Epoch 59/100\n",
      " - 2s - loss: 0.3616 - mean_squared_error: 0.0389 - mean_absolute_percentage_error: 53689244.0263 - val_loss: 0.3307 - val_mean_squared_error: 0.0328 - val_mean_absolute_percentage_error: 43051124.5332\n",
      "Epoch 60/100\n",
      " - 2s - loss: 0.3625 - mean_squared_error: 0.0395 - mean_absolute_percentage_error: 53857808.5284 - val_loss: 0.3200 - val_mean_squared_error: 0.0313 - val_mean_absolute_percentage_error: 34704993.6509\n",
      "Epoch 61/100\n",
      " - 2s - loss: 0.3676 - mean_squared_error: 0.0419 - mean_absolute_percentage_error: 62952026.3802 - val_loss: 0.3278 - val_mean_squared_error: 0.0328 - val_mean_absolute_percentage_error: 39032560.4208\n",
      "Epoch 62/100\n",
      " - 2s - loss: 0.3759 - mean_squared_error: 0.0437 - mean_absolute_percentage_error: 62939382.7699 - val_loss: 0.4493 - val_mean_squared_error: 0.0697 - val_mean_absolute_percentage_error: 126758885.6904\n",
      "Epoch 63/100\n",
      " - 2s - loss: 0.4083 - mean_squared_error: 0.0542 - mean_absolute_percentage_error: 76622603.8446 - val_loss: 0.3623 - val_mean_squared_error: 0.0444 - val_mean_absolute_percentage_error: 44207323.5816\n",
      "Epoch 64/100\n",
      " - 2s - loss: 0.3623 - mean_squared_error: 0.0411 - mean_absolute_percentage_error: 51237143.9874 - val_loss: 0.3382 - val_mean_squared_error: 0.0368 - val_mean_absolute_percentage_error: 37214145.3150\n",
      "Epoch 65/100\n",
      " - 2s - loss: 0.3601 - mean_squared_error: 0.0394 - mean_absolute_percentage_error: 48558655.4591 - val_loss: 0.3316 - val_mean_squared_error: 0.0344 - val_mean_absolute_percentage_error: 37501432.6790\n",
      "Epoch 66/100\n",
      " - 2s - loss: 0.3592 - mean_squared_error: 0.0400 - mean_absolute_percentage_error: 54504104.3885 - val_loss: 0.3283 - val_mean_squared_error: 0.0338 - val_mean_absolute_percentage_error: 34930057.1943\n",
      "Epoch 67/100\n",
      " - 2s - loss: 0.3584 - mean_squared_error: 0.0389 - mean_absolute_percentage_error: 52407232.1662 - val_loss: 0.3407 - val_mean_squared_error: 0.0345 - val_mean_absolute_percentage_error: 51829612.8799\n",
      "Epoch 68/100\n",
      " - 2s - loss: 0.3556 - mean_squared_error: 0.0387 - mean_absolute_percentage_error: 53473505.3054 - val_loss: 0.3252 - val_mean_squared_error: 0.0335 - val_mean_absolute_percentage_error: 32274215.6163\n",
      "Epoch 69/100\n",
      " - 2s - loss: 0.3586 - mean_squared_error: 0.0396 - mean_absolute_percentage_error: 53326984.6342 - val_loss: 0.3228 - val_mean_squared_error: 0.0328 - val_mean_absolute_percentage_error: 33294579.5529\n",
      "Epoch 70/100\n",
      " - 2s - loss: 0.3552 - mean_squared_error: 0.0389 - mean_absolute_percentage_error: 57060814.6115 - val_loss: 0.3256 - val_mean_squared_error: 0.0334 - val_mean_absolute_percentage_error: 35865259.8637\n",
      "Epoch 71/100\n",
      " - 2s - loss: 0.3588 - mean_squared_error: 0.0396 - mean_absolute_percentage_error: 56046209.8290 - val_loss: 0.3332 - val_mean_squared_error: 0.0345 - val_mean_absolute_percentage_error: 41437810.4172\n",
      "Epoch 72/100\n",
      " - 2s - loss: 0.4327 - mean_squared_error: 0.0614 - mean_absolute_percentage_error: 96395598.3288 - val_loss: 0.3824 - val_mean_squared_error: 0.0471 - val_mean_absolute_percentage_error: 72081504.5380\n",
      "Epoch 73/100\n",
      " - 2s - loss: 0.3812 - mean_squared_error: 0.0438 - mean_absolute_percentage_error: 58808716.8679 - val_loss: 0.3357 - val_mean_squared_error: 0.0347 - val_mean_absolute_percentage_error: 41573667.4453\n",
      "Epoch 74/100\n",
      " - 2s - loss: 0.3735 - mean_squared_error: 0.0417 - mean_absolute_percentage_error: 61498627.9713 - val_loss: 0.3373 - val_mean_squared_error: 0.0351 - val_mean_absolute_percentage_error: 42537404.3252\n",
      "Epoch 75/100\n",
      " - 2s - loss: 0.3623 - mean_squared_error: 0.0392 - mean_absolute_percentage_error: 55421048.3276 - val_loss: 0.3336 - val_mean_squared_error: 0.0330 - val_mean_absolute_percentage_error: 46136643.8135\n",
      "Epoch 76/100\n",
      " - 2s - loss: 0.3588 - mean_squared_error: 0.0386 - mean_absolute_percentage_error: 56422553.7250 - val_loss: 0.3273 - val_mean_squared_error: 0.0338 - val_mean_absolute_percentage_error: 32776995.0568\n",
      "Epoch 77/100\n",
      " - 2s - loss: 0.3825 - mean_squared_error: 0.0459 - mean_absolute_percentage_error: 80296451.1094 - val_loss: 0.3509 - val_mean_squared_error: 0.0379 - val_mean_absolute_percentage_error: 57683009.1883\n"
     ]
    },
    {
     "name": "stdout",
     "output_type": "stream",
     "text": [
      "Epoch 78/100\n",
      " - 2s - loss: 0.3564 - mean_squared_error: 0.0400 - mean_absolute_percentage_error: 58357610.6013 - val_loss: 0.3266 - val_mean_squared_error: 0.0317 - val_mean_absolute_percentage_error: 41428253.1548\n",
      "Epoch 79/100\n",
      " - 2s - loss: 0.3546 - mean_squared_error: 0.0389 - mean_absolute_percentage_error: 58362386.2002 - val_loss: 0.3214 - val_mean_squared_error: 0.0321 - val_mean_absolute_percentage_error: 37216218.3431\n",
      "Epoch 80/100\n",
      " - 2s - loss: 0.3609 - mean_squared_error: 0.0396 - mean_absolute_percentage_error: 57841081.1106 - val_loss: 0.3279 - val_mean_squared_error: 0.0329 - val_mean_absolute_percentage_error: 38704623.9486\n",
      "Epoch 81/100\n",
      " - 2s - loss: 0.3646 - mean_squared_error: 0.0406 - mean_absolute_percentage_error: 60196539.0723 - val_loss: 0.3688 - val_mean_squared_error: 0.0425 - val_mean_absolute_percentage_error: 62721312.7149\n",
      "Epoch 82/100\n",
      " - 2s - loss: 0.3658 - mean_squared_error: 0.0406 - mean_absolute_percentage_error: 47419788.6701 - val_loss: 0.3279 - val_mean_squared_error: 0.0339 - val_mean_absolute_percentage_error: 34478236.1267\n",
      "Epoch 83/100\n",
      " - 2s - loss: 0.3541 - mean_squared_error: 0.0396 - mean_absolute_percentage_error: 56439248.4316 - val_loss: 0.3207 - val_mean_squared_error: 0.0322 - val_mean_absolute_percentage_error: 36546068.0789\n",
      "Epoch 84/100\n",
      " - 2s - loss: 0.3511 - mean_squared_error: 0.0387 - mean_absolute_percentage_error: 56857479.0448 - val_loss: 0.3242 - val_mean_squared_error: 0.0324 - val_mean_absolute_percentage_error: 34594244.1255\n",
      "Epoch 85/100\n",
      " - 2s - loss: 0.3490 - mean_squared_error: 0.0373 - mean_absolute_percentage_error: 54829363.5523 - val_loss: 0.3257 - val_mean_squared_error: 0.0318 - val_mean_absolute_percentage_error: 44224437.3461\n",
      "Epoch 86/100\n",
      " - 2s - loss: 0.4284 - mean_squared_error: 0.0635 - mean_absolute_percentage_error: 100559585.6677 - val_loss: 0.3863 - val_mean_squared_error: 0.0497 - val_mean_absolute_percentage_error: 69575289.6760\n",
      "Epoch 87/100\n",
      " - 2s - loss: 0.3787 - mean_squared_error: 0.0455 - mean_absolute_percentage_error: 62914571.4310 - val_loss: 0.3459 - val_mean_squared_error: 0.0358 - val_mean_absolute_percentage_error: 54458873.3700\n",
      "Epoch 88/100\n",
      " - 2s - loss: 0.3714 - mean_squared_error: 0.0437 - mean_absolute_percentage_error: 69577922.1112 - val_loss: 0.3259 - val_mean_squared_error: 0.0347 - val_mean_absolute_percentage_error: 40373872.9253\n",
      "Epoch 89/100\n",
      " - 2s - loss: 0.3879 - mean_squared_error: 0.0480 - mean_absolute_percentage_error: 79210355.7358 - val_loss: 0.3540 - val_mean_squared_error: 0.0397 - val_mean_absolute_percentage_error: 50047189.6139\n",
      "Epoch 90/100\n",
      " - 2s - loss: 0.3656 - mean_squared_error: 0.0395 - mean_absolute_percentage_error: 51745639.8805 - val_loss: 0.3285 - val_mean_squared_error: 0.0337 - val_mean_absolute_percentage_error: 33897786.1255\n",
      "Epoch 91/100\n",
      " - 2s - loss: 0.3636 - mean_squared_error: 0.0391 - mean_absolute_percentage_error: 56097072.9623 - val_loss: 0.3227 - val_mean_squared_error: 0.0318 - val_mean_absolute_percentage_error: 37331417.6641\n",
      "Epoch 92/100\n",
      " - 2s - loss: 0.3590 - mean_squared_error: 0.0390 - mean_absolute_percentage_error: 56638860.1423 - val_loss: 0.3199 - val_mean_squared_error: 0.0317 - val_mean_absolute_percentage_error: 34841071.0532\n",
      "Epoch 93/100\n",
      " - 2s - loss: 0.3540 - mean_squared_error: 0.0387 - mean_absolute_percentage_error: 56144439.5003 - val_loss: 0.3332 - val_mean_squared_error: 0.0325 - val_mean_absolute_percentage_error: 48695286.3288\n",
      "Epoch 94/100\n",
      " - 2s - loss: 0.3529 - mean_squared_error: 0.0382 - mean_absolute_percentage_error: 55830798.9564 - val_loss: 0.3157 - val_mean_squared_error: 0.0311 - val_mean_absolute_percentage_error: 34266073.9605\n",
      "Epoch 95/100\n",
      " - 2s - loss: 0.3550 - mean_squared_error: 0.0387 - mean_absolute_percentage_error: 58060980.0048 - val_loss: 0.3141 - val_mean_squared_error: 0.0299 - val_mean_absolute_percentage_error: 36401075.1273\n",
      "Epoch 96/100\n",
      " - 2s - loss: 0.3552 - mean_squared_error: 0.0372 - mean_absolute_percentage_error: 53293598.5302 - val_loss: 0.3179 - val_mean_squared_error: 0.0298 - val_mean_absolute_percentage_error: 37958322.4985\n",
      "Epoch 97/100\n",
      " - 2s - loss: 0.3559 - mean_squared_error: 0.0395 - mean_absolute_percentage_error: 59483076.8314 - val_loss: 0.3164 - val_mean_squared_error: 0.0310 - val_mean_absolute_percentage_error: 34841149.9079\n",
      "Epoch 98/100\n",
      " - 2s - loss: 0.3518 - mean_squared_error: 0.0384 - mean_absolute_percentage_error: 56241599.7717 - val_loss: 0.3253 - val_mean_squared_error: 0.0336 - val_mean_absolute_percentage_error: 31007379.3246\n",
      "Epoch 99/100\n",
      " - 2s - loss: 0.3479 - mean_squared_error: 0.0387 - mean_absolute_percentage_error: 55240428.0490 - val_loss: 0.3152 - val_mean_squared_error: 0.0313 - val_mean_absolute_percentage_error: 37319698.5368\n",
      "Epoch 100/100\n",
      " - 2s - loss: 0.3481 - mean_squared_error: 0.0395 - mean_absolute_percentage_error: 59624417.1201 - val_loss: 0.3122 - val_mean_squared_error: 0.0305 - val_mean_absolute_percentage_error: 38022984.9372\n"
     ]
    },
    {
     "data": {
      "text/plain": [
       "<keras.callbacks.History at 0x217e55d2f60>"
      ]
     },
     "execution_count": 30,
     "metadata": {},
     "output_type": "execute_result"
    }
   ],
   "source": [
    "model_GRU = Sequential()\n",
    "model_GRU.add(Bidirectional(GRU(32, input_shape=(13, 1), dropout= 0.2, recurrent_dropout=0.1,)))\n",
    "model_GRU.add(Dense(100, activation='tanh'))\n",
    "model_GRU.add(Dropout(0.25))\n",
    "model_GRU.add(Dense(1, activation='tanh'))\n",
    "\n",
    "model_GRU.compile(loss='binary_crossentropy', optimizer='adam', metrics=['mse', 'mape'])\n",
    "model_GRU.fit(X_train, y_train, epochs = 100, batch_size = 100, validation_split = 0.2, verbose = 2)"
   ]
  },
  {
   "cell_type": "code",
   "execution_count": 31,
   "metadata": {
    "scrolled": true
   },
   "outputs": [],
   "source": [
    "y_pred = model.predict(X_test)"
   ]
  },
  {
   "cell_type": "code",
   "execution_count": 32,
   "metadata": {},
   "outputs": [
    {
     "name": "stdout",
     "output_type": "stream",
     "text": [
      "0.039740602238434945\n"
     ]
    }
   ],
   "source": [
    "print(mean_squared_error(y_test, y_pred))"
   ]
  },
  {
   "cell_type": "code",
   "execution_count": 33,
   "metadata": {},
   "outputs": [],
   "source": [
    "rmse = sqrt(mean_squared_error(y_test, y_pred))"
   ]
  },
  {
   "cell_type": "code",
   "execution_count": 34,
   "metadata": {},
   "outputs": [
    {
     "name": "stdout",
     "output_type": "stream",
     "text": [
      "0.19935045081071412\n"
     ]
    }
   ],
   "source": [
    "print(rmse)"
   ]
  },
  {
   "cell_type": "code",
   "execution_count": 35,
   "metadata": {},
   "outputs": [
    {
     "name": "stdout",
     "output_type": "stream",
     "text": [
      "MAPE : -38.5543 \n",
      "\n"
     ]
    }
   ],
   "source": [
    "print(\"MAPE : %.4f \\n\" % (100 - mape_zeroless(y_test, y_pred)))"
   ]
  },
  {
   "cell_type": "code",
   "execution_count": 36,
   "metadata": {},
   "outputs": [],
   "source": [
    "from sklearn.metrics import r2_score"
   ]
  },
  {
   "cell_type": "code",
   "execution_count": 37,
   "metadata": {},
   "outputs": [
    {
     "name": "stdout",
     "output_type": "stream",
     "text": [
      "0.4437430489666577\n"
     ]
    }
   ],
   "source": [
    "print(r2_score(y_test, y_pred))"
   ]
  },
  {
   "cell_type": "code",
   "execution_count": null,
   "metadata": {},
   "outputs": [],
   "source": []
  }
 ],
 "metadata": {
  "kernelspec": {
   "display_name": "Python 3",
   "language": "python",
   "name": "python3"
  },
  "language_info": {
   "codemirror_mode": {
    "name": "ipython",
    "version": 3
   },
   "file_extension": ".py",
   "mimetype": "text/x-python",
   "name": "python",
   "nbconvert_exporter": "python",
   "pygments_lexer": "ipython3",
   "version": "3.6.5"
  }
 },
 "nbformat": 4,
 "nbformat_minor": 2
}
