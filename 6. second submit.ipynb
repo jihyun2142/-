{
 "cells": [
  {
   "cell_type": "code",
   "execution_count": 1,
   "metadata": {},
   "outputs": [
    {
     "name": "stderr",
     "output_type": "stream",
     "text": [
      "C:\\Anaconda\\lib\\site-packages\\sklearn\\ensemble\\weight_boosting.py:29: DeprecationWarning: numpy.core.umath_tests is an internal NumPy module and should not be imported. It will be removed in a future NumPy release.\n",
      "  from numpy.core.umath_tests import inner1d\n"
     ]
    }
   ],
   "source": [
    "import pandas as pd\n",
    "import numpy as np\n",
    "from sklearn.metrics import r2_score\n",
    "from sklearn.preprocessing import MinMaxScaler\n",
    "from sklearn.model_selection import train_test_split\n",
    "from sklearn.ensemble import RandomForestRegressor\n",
    "from sklearn.metrics import mean_squared_error\n",
    "import warnings\n",
    "warnings.filterwarnings(\"ignore\")"
   ]
  },
  {
   "cell_type": "code",
   "execution_count": 2,
   "metadata": {},
   "outputs": [],
   "source": [
    "aaa = pd.read_pickle('C:/Users/ewpadmin/JIHYUN/aaa.pkl')\n",
    "bbb = pd.read_pickle('C:/Users/ewpadmin/JIHYUN/bbb.pkl')\n",
    "ccc = pd.read_pickle('C:/Users/ewpadmin/JIHYUN/ccc.pkl')"
   ]
  },
  {
   "cell_type": "code",
   "execution_count": 3,
   "metadata": {},
   "outputs": [],
   "source": [
    "def model_rf(X, y, test_dataset, site):\n",
    "    \n",
    "    sc = MinMaxScaler()\n",
    "    X_train = sc.fit_transform(X)\n",
    "    test_dataset = sc.transform(test_dataset)\n",
    "    y_train = y\n",
    "#     y_train = sc.fit_transform(y)\n",
    "\n",
    "    \n",
    "    rfModel = RandomForestRegressor(n_estimators=50, max_features=15, max_depth=50,# min_samples_split=3,min_samples_leaf=2,\n",
    "                                    verbose=1, random_state=0)\n",
    "    rfModel.fit(X_train, y_train)\n",
    "\n",
    "    y_pred = rfModel.predict(test_dataset)\n",
    "    \n",
    "#     y_pred = sc.inverse_transform(y_pred.reshape(y_pred.shape[0], 1))\n",
    "    print(len(y_pred))\n",
    "    return rfModel,y_pred"
   ]
  },
  {
   "cell_type": "code",
   "execution_count": 4,
   "metadata": {},
   "outputs": [],
   "source": [
    "forecast_final = pd.read_pickle('C:/Users/ewpadmin/KMS/forecast_2nd.pkl')"
   ]
  },
  {
   "cell_type": "code",
   "execution_count": 5,
   "metadata": {},
   "outputs": [],
   "source": [
    "# forecast_final = pd.read_pickle('C:/Users/ewpadmin/KMS/forecast_2nd_quad.pkl')"
   ]
  },
  {
   "cell_type": "code",
   "execution_count": 6,
   "metadata": {
    "scrolled": false
   },
   "outputs": [
    {
     "data": {
      "text/html": [
       "<div>\n",
       "<style scoped>\n",
       "    .dataframe tbody tr th:only-of-type {\n",
       "        vertical-align: middle;\n",
       "    }\n",
       "\n",
       "    .dataframe tbody tr th {\n",
       "        vertical-align: top;\n",
       "    }\n",
       "\n",
       "    .dataframe thead th {\n",
       "        text-align: right;\n",
       "    }\n",
       "</style>\n",
       "<table border=\"1\" class=\"dataframe\">\n",
       "  <thead>\n",
       "    <tr style=\"text-align: right;\">\n",
       "      <th></th>\n",
       "      <th>time</th>\n",
       "      <th>month</th>\n",
       "      <th>day</th>\n",
       "      <th>hour</th>\n",
       "      <th>minute</th>\n",
       "      <th>temperature_3H</th>\n",
       "      <th>sky</th>\n",
       "      <th>rainfall_probability</th>\n",
       "      <th>rainfall</th>\n",
       "      <th>snow</th>\n",
       "      <th>humidity</th>\n",
       "      <th>wind_speed</th>\n",
       "      <th>wind_direction</th>\n",
       "      <th>Elevation_angle</th>\n",
       "      <th>Azimuth_angle</th>\n",
       "      <th>dust_132</th>\n",
       "    </tr>\n",
       "  </thead>\n",
       "  <tbody>\n",
       "    <tr>\n",
       "      <th>0</th>\n",
       "      <td>2019-03-05 09:00:00</td>\n",
       "      <td>3</td>\n",
       "      <td>5</td>\n",
       "      <td>9</td>\n",
       "      <td>0</td>\n",
       "      <td>6.000000</td>\n",
       "      <td>2.0</td>\n",
       "      <td>10.0</td>\n",
       "      <td>0.0</td>\n",
       "      <td>0.0</td>\n",
       "      <td>90.0</td>\n",
       "      <td>3.000000</td>\n",
       "      <td>4.000000</td>\n",
       "      <td>21.98</td>\n",
       "      <td>116.80</td>\n",
       "      <td>157.000000</td>\n",
       "    </tr>\n",
       "    <tr>\n",
       "      <th>1</th>\n",
       "      <td>2019-03-05 09:15:00</td>\n",
       "      <td>3</td>\n",
       "      <td>5</td>\n",
       "      <td>9</td>\n",
       "      <td>15</td>\n",
       "      <td>6.583333</td>\n",
       "      <td>2.0</td>\n",
       "      <td>10.0</td>\n",
       "      <td>0.0</td>\n",
       "      <td>0.0</td>\n",
       "      <td>87.5</td>\n",
       "      <td>2.916667</td>\n",
       "      <td>4.083333</td>\n",
       "      <td>24.61</td>\n",
       "      <td>119.66</td>\n",
       "      <td>156.409771</td>\n",
       "    </tr>\n",
       "    <tr>\n",
       "      <th>2</th>\n",
       "      <td>2019-03-05 09:30:00</td>\n",
       "      <td>3</td>\n",
       "      <td>5</td>\n",
       "      <td>9</td>\n",
       "      <td>30</td>\n",
       "      <td>7.166667</td>\n",
       "      <td>2.0</td>\n",
       "      <td>10.0</td>\n",
       "      <td>0.0</td>\n",
       "      <td>0.0</td>\n",
       "      <td>85.0</td>\n",
       "      <td>2.833333</td>\n",
       "      <td>4.166667</td>\n",
       "      <td>27.17</td>\n",
       "      <td>122.67</td>\n",
       "      <td>155.866251</td>\n",
       "    </tr>\n",
       "  </tbody>\n",
       "</table>\n",
       "</div>"
      ],
      "text/plain": [
       "                 time month day hour minute  temperature_3H  sky  \\\n",
       "0 2019-03-05 09:00:00     3   5    9      0        6.000000  2.0   \n",
       "1 2019-03-05 09:15:00     3   5    9     15        6.583333  2.0   \n",
       "2 2019-03-05 09:30:00     3   5    9     30        7.166667  2.0   \n",
       "\n",
       "   rainfall_probability  rainfall  snow  humidity  wind_speed  wind_direction  \\\n",
       "0                  10.0       0.0   0.0      90.0    3.000000        4.000000   \n",
       "1                  10.0       0.0   0.0      87.5    2.916667        4.083333   \n",
       "2                  10.0       0.0   0.0      85.0    2.833333        4.166667   \n",
       "\n",
       "   Elevation_angle  Azimuth_angle    dust_132  \n",
       "0            21.98         116.80  157.000000  \n",
       "1            24.61         119.66  156.409771  \n",
       "2            27.17         122.67  155.866251  "
      ]
     },
     "execution_count": 6,
     "metadata": {},
     "output_type": "execute_result"
    }
   ],
   "source": [
    "forecast_final.head(3)"
   ]
  },
  {
   "cell_type": "code",
   "execution_count": 7,
   "metadata": {},
   "outputs": [
    {
     "data": {
      "text/html": [
       "<div>\n",
       "<style scoped>\n",
       "    .dataframe tbody tr th:only-of-type {\n",
       "        vertical-align: middle;\n",
       "    }\n",
       "\n",
       "    .dataframe tbody tr th {\n",
       "        vertical-align: top;\n",
       "    }\n",
       "\n",
       "    .dataframe thead th {\n",
       "        text-align: right;\n",
       "    }\n",
       "</style>\n",
       "<table border=\"1\" class=\"dataframe\">\n",
       "  <thead>\n",
       "    <tr style=\"text-align: right;\">\n",
       "      <th></th>\n",
       "      <th>temperature_3H</th>\n",
       "      <th>sky</th>\n",
       "      <th>rainfall_probability</th>\n",
       "      <th>rainfall</th>\n",
       "      <th>snow</th>\n",
       "      <th>humidity</th>\n",
       "      <th>wind_speed</th>\n",
       "      <th>wind_direction</th>\n",
       "      <th>Elevation_angle</th>\n",
       "      <th>Azimuth_angle</th>\n",
       "      <th>dust_132</th>\n",
       "    </tr>\n",
       "  </thead>\n",
       "  <tbody>\n",
       "    <tr>\n",
       "      <th>count</th>\n",
       "      <td>253.000000</td>\n",
       "      <td>253.000000</td>\n",
       "      <td>253.000000</td>\n",
       "      <td>253.0</td>\n",
       "      <td>253.0</td>\n",
       "      <td>253.000000</td>\n",
       "      <td>253.000000</td>\n",
       "      <td>253.000000</td>\n",
       "      <td>253.000000</td>\n",
       "      <td>253.000000</td>\n",
       "      <td>253.000000</td>\n",
       "    </tr>\n",
       "    <tr>\n",
       "      <th>mean</th>\n",
       "      <td>6.820158</td>\n",
       "      <td>2.496047</td>\n",
       "      <td>14.960474</td>\n",
       "      <td>0.0</td>\n",
       "      <td>0.0</td>\n",
       "      <td>73.270751</td>\n",
       "      <td>4.780632</td>\n",
       "      <td>5.237154</td>\n",
       "      <td>-1.249091</td>\n",
       "      <td>193.755217</td>\n",
       "      <td>136.216196</td>\n",
       "    </tr>\n",
       "    <tr>\n",
       "      <th>std</th>\n",
       "      <td>3.127577</td>\n",
       "      <td>0.751421</td>\n",
       "      <td>7.514212</td>\n",
       "      <td>0.0</td>\n",
       "      <td>0.0</td>\n",
       "      <td>11.524081</td>\n",
       "      <td>2.010861</td>\n",
       "      <td>1.732361</td>\n",
       "      <td>36.034994</td>\n",
       "      <td>92.152758</td>\n",
       "      <td>21.589393</td>\n",
       "    </tr>\n",
       "    <tr>\n",
       "      <th>min</th>\n",
       "      <td>1.000000</td>\n",
       "      <td>1.000000</td>\n",
       "      <td>0.000000</td>\n",
       "      <td>0.0</td>\n",
       "      <td>0.0</td>\n",
       "      <td>50.000000</td>\n",
       "      <td>2.000000</td>\n",
       "      <td>0.000000</td>\n",
       "      <td>-58.970000</td>\n",
       "      <td>6.990000</td>\n",
       "      <td>67.000000</td>\n",
       "    </tr>\n",
       "    <tr>\n",
       "      <th>25%</th>\n",
       "      <td>4.416667</td>\n",
       "      <td>2.000000</td>\n",
       "      <td>10.000000</td>\n",
       "      <td>0.0</td>\n",
       "      <td>0.0</td>\n",
       "      <td>64.166667</td>\n",
       "      <td>3.000000</td>\n",
       "      <td>4.666667</td>\n",
       "      <td>-35.650000</td>\n",
       "      <td>113.800000</td>\n",
       "      <td>136.970685</td>\n",
       "    </tr>\n",
       "    <tr>\n",
       "      <th>50%</th>\n",
       "      <td>6.000000</td>\n",
       "      <td>3.000000</td>\n",
       "      <td>20.000000</td>\n",
       "      <td>0.0</td>\n",
       "      <td>0.0</td>\n",
       "      <td>75.000000</td>\n",
       "      <td>4.416667</td>\n",
       "      <td>5.666667</td>\n",
       "      <td>2.630000</td>\n",
       "      <td>206.430000</td>\n",
       "      <td>137.001255</td>\n",
       "    </tr>\n",
       "    <tr>\n",
       "      <th>75%</th>\n",
       "      <td>9.500000</td>\n",
       "      <td>3.000000</td>\n",
       "      <td>20.000000</td>\n",
       "      <td>0.0</td>\n",
       "      <td>0.0</td>\n",
       "      <td>83.333333</td>\n",
       "      <td>5.583333</td>\n",
       "      <td>6.416667</td>\n",
       "      <td>32.800000</td>\n",
       "      <td>270.250000</td>\n",
       "      <td>153.752597</td>\n",
       "    </tr>\n",
       "    <tr>\n",
       "      <th>max</th>\n",
       "      <td>13.000000</td>\n",
       "      <td>3.000000</td>\n",
       "      <td>20.000000</td>\n",
       "      <td>0.0</td>\n",
       "      <td>0.0</td>\n",
       "      <td>90.000000</td>\n",
       "      <td>10.000000</td>\n",
       "      <td>7.000000</td>\n",
       "      <td>47.570000</td>\n",
       "      <td>359.890000</td>\n",
       "      <td>158.450769</td>\n",
       "    </tr>\n",
       "  </tbody>\n",
       "</table>\n",
       "</div>"
      ],
      "text/plain": [
       "       temperature_3H         sky  rainfall_probability  rainfall   snow  \\\n",
       "count      253.000000  253.000000            253.000000     253.0  253.0   \n",
       "mean         6.820158    2.496047             14.960474       0.0    0.0   \n",
       "std          3.127577    0.751421              7.514212       0.0    0.0   \n",
       "min          1.000000    1.000000              0.000000       0.0    0.0   \n",
       "25%          4.416667    2.000000             10.000000       0.0    0.0   \n",
       "50%          6.000000    3.000000             20.000000       0.0    0.0   \n",
       "75%          9.500000    3.000000             20.000000       0.0    0.0   \n",
       "max         13.000000    3.000000             20.000000       0.0    0.0   \n",
       "\n",
       "         humidity  wind_speed  wind_direction  Elevation_angle  Azimuth_angle  \\\n",
       "count  253.000000  253.000000      253.000000       253.000000     253.000000   \n",
       "mean    73.270751    4.780632        5.237154        -1.249091     193.755217   \n",
       "std     11.524081    2.010861        1.732361        36.034994      92.152758   \n",
       "min     50.000000    2.000000        0.000000       -58.970000       6.990000   \n",
       "25%     64.166667    3.000000        4.666667       -35.650000     113.800000   \n",
       "50%     75.000000    4.416667        5.666667         2.630000     206.430000   \n",
       "75%     83.333333    5.583333        6.416667        32.800000     270.250000   \n",
       "max     90.000000   10.000000        7.000000        47.570000     359.890000   \n",
       "\n",
       "         dust_132  \n",
       "count  253.000000  \n",
       "mean   136.216196  \n",
       "std     21.589393  \n",
       "min     67.000000  \n",
       "25%    136.970685  \n",
       "50%    137.001255  \n",
       "75%    153.752597  \n",
       "max    158.450769  "
      ]
     },
     "execution_count": 7,
     "metadata": {},
     "output_type": "execute_result"
    }
   ],
   "source": [
    "forecast_final.describe()"
   ]
  },
  {
   "cell_type": "code",
   "execution_count": 8,
   "metadata": {},
   "outputs": [],
   "source": [
    "df_name = [aaa, bbb, ccc]\n",
    "for col in df_name:\n",
    "    col.Elevation_angle = col.Elevation_angle.astype('category')\n",
    "    col.Azimuth_angle = col.Azimuth_angle.astype('category')"
   ]
  },
  {
   "cell_type": "code",
   "execution_count": 9,
   "metadata": {},
   "outputs": [],
   "source": [
    "forecast_final.rainfall = forecast_final.rainfall.abs()\n",
    "forecast_final.rainfall_probability = forecast_final.rainfall_probability.abs()\n",
    "forecast_final.snow = forecast_final.snow.abs()"
   ]
  },
  {
   "cell_type": "code",
   "execution_count": 10,
   "metadata": {},
   "outputs": [],
   "source": [
    "col_list = ['month', 'day', 'hour', 'minute', 'temperature_3H', 'sky', 'rainfall_probability', 'rainfall', 'snow',\n",
    "            'humidity', 'wind_speed', 'wind_direction', 'dust_132', 'Elevation_angle', 'Azimuth_angle']"
   ]
  },
  {
   "cell_type": "code",
   "execution_count": 11,
   "metadata": {},
   "outputs": [
    {
     "data": {
      "text/plain": [
       "('real_time_power', 'day_power')"
      ]
     },
     "execution_count": 11,
     "metadata": {},
     "output_type": "execute_result"
    }
   ],
   "source": [
    "aaa.columns[3], aaa.columns[4]"
   ]
  },
  {
   "cell_type": "code",
   "execution_count": 12,
   "metadata": {},
   "outputs": [
    {
     "data": {
      "text/plain": [
       "time                    datetime64[ns]\n",
       "solar1                          object\n",
       "solar2                          object\n",
       "real_time_power                float64\n",
       "day_power                      float64\n",
       "month                         category\n",
       "day                           category\n",
       "hour                          category\n",
       "minute                        category\n",
       "temperature_3H                 float64\n",
       "sky                            float64\n",
       "rainfall_probability           float64\n",
       "rainfall                       float64\n",
       "snow                           float64\n",
       "humidity                       float64\n",
       "wind_speed                     float64\n",
       "wind_direction                category\n",
       "Elevation_angle               category\n",
       "Azimuth_angle                 category\n",
       "dust_132                       float64\n",
       "dtype: object"
      ]
     },
     "execution_count": 12,
     "metadata": {},
     "output_type": "execute_result"
    }
   ],
   "source": [
    "aaa.dtypes"
   ]
  },
  {
   "cell_type": "code",
   "execution_count": 13,
   "metadata": {},
   "outputs": [
    {
     "data": {
      "text/plain": [
       "time                    datetime64[ns]\n",
       "month                         category\n",
       "day                           category\n",
       "hour                          category\n",
       "minute                        category\n",
       "temperature_3H                 float64\n",
       "sky                            float64\n",
       "rainfall_probability           float64\n",
       "rainfall                       float64\n",
       "snow                           float64\n",
       "humidity                       float64\n",
       "wind_speed                     float64\n",
       "wind_direction                 float64\n",
       "Elevation_angle                float64\n",
       "Azimuth_angle                  float64\n",
       "dust_132                       float64\n",
       "dtype: object"
      ]
     },
     "execution_count": 13,
     "metadata": {},
     "output_type": "execute_result"
    }
   ],
   "source": [
    "forecast_final.dtypes"
   ]
  },
  {
   "cell_type": "code",
   "execution_count": 14,
   "metadata": {},
   "outputs": [
    {
     "name": "stderr",
     "output_type": "stream",
     "text": [
      "[Parallel(n_jobs=1)]: Done  50 out of  50 | elapsed:   12.9s finished\n",
      "[Parallel(n_jobs=1)]: Done  50 out of  50 | elapsed:    0.0s finished\n"
     ]
    },
    {
     "name": "stdout",
     "output_type": "stream",
     "text": [
      "253\n"
     ]
    },
    {
     "name": "stderr",
     "output_type": "stream",
     "text": [
      "[Parallel(n_jobs=1)]: Done  50 out of  50 | elapsed:   11.9s finished\n",
      "[Parallel(n_jobs=1)]: Done  50 out of  50 | elapsed:    0.0s finished\n"
     ]
    },
    {
     "name": "stdout",
     "output_type": "stream",
     "text": [
      "253\n",
      "253\n"
     ]
    },
    {
     "name": "stderr",
     "output_type": "stream",
     "text": [
      "[Parallel(n_jobs=1)]: Done  50 out of  50 | elapsed:   13.6s finished\n",
      "[Parallel(n_jobs=1)]: Done  50 out of  50 | elapsed:    0.0s finished\n"
     ]
    }
   ],
   "source": [
    "modela,pre_aaa = model_rf(aaa[col_list], aaa[[aaa.columns[3]]], forecast_final[col_list], 'A_site')\n",
    "modelb,pre_bbb = model_rf(bbb[col_list], bbb[[bbb.columns[3]]], forecast_final[col_list], 'B_site')\n",
    "modelc,pre_ccc = model_rf(ccc[col_list], ccc[[ccc.columns[3]]], forecast_final[col_list], 'C_site')"
   ]
  },
  {
   "cell_type": "code",
   "execution_count": 15,
   "metadata": {},
   "outputs": [
    {
     "data": {
      "text/plain": [
       "<BarContainer object of 15 artists>"
      ]
     },
     "execution_count": 15,
     "metadata": {},
     "output_type": "execute_result"
    },
    {
     "data": {
      "image/png": "[encoded data removed]",
      "text/plain": [
       "<Figure size 432x288 with 1 Axes>"
      ]
     },
     "metadata": {},
     "output_type": "display_data"
    }
   ],
   "source": [
    "import matplotlib.pyplot as plt\n",
    "%matplotlib inline\n",
    "yyyy = modela.feature_importances_\n",
    "plt.barh(col_list,yyyy)"
   ]
  },
  {
   "cell_type": "code",
   "execution_count": 16,
   "metadata": {},
   "outputs": [
    {
     "data": {
      "text/plain": [
       "253"
      ]
     },
     "execution_count": 16,
     "metadata": {},
     "output_type": "execute_result"
    }
   ],
   "source": [
    "pred_idx = pd.date_range(start='2019-03-05 09:00:00', end='2019-03-08 00:00:00', freq='15Min')\n",
    "len(pd.date_range(start='2019-03-05 09:00:00', end='2019-03-08 00:00:00', freq='15Min'))"
   ]
  },
  {
   "cell_type": "code",
   "execution_count": 17,
   "metadata": {},
   "outputs": [],
   "source": [
    "predict = pd.concat([pd.DataFrame(pre_aaa, columns=['A_site'], index=pred_idx),\n",
    "                     pd.DataFrame(pre_bbb, columns=['B_site'], index=pred_idx),\n",
    "                     pd.DataFrame(pre_ccc, columns=['C_site'], index=pred_idx)], axis=1)"
   ]
  },
  {
   "cell_type": "code",
   "execution_count": 18,
   "metadata": {},
   "outputs": [
    {
     "data": {
      "text/plain": [
       "<matplotlib.axes._subplots.AxesSubplot at 0x199befd2898>"
      ]
     },
     "execution_count": 18,
     "metadata": {},
     "output_type": "execute_result"
    },
    {
     "data": {
      "image/png": "[encoded data removed]",
      "text/plain": [
       "<Figure size 1080x360 with 1 Axes>"
      ]
     },
     "metadata": {},
     "output_type": "display_data"
    }
   ],
   "source": [
    "%matplotlib inline\n",
    "predict.plot(figsize=(15,5))"
   ]
  },
  {
   "cell_type": "code",
   "execution_count": 19,
   "metadata": {},
   "outputs": [
    {
     "data": {
      "text/html": [
       "<div>\n",
       "<style scoped>\n",
       "    .dataframe tbody tr th:only-of-type {\n",
       "        vertical-align: middle;\n",
       "    }\n",
       "\n",
       "    .dataframe tbody tr th {\n",
       "        vertical-align: top;\n",
       "    }\n",
       "\n",
       "    .dataframe thead th {\n",
       "        text-align: right;\n",
       "    }\n",
       "</style>\n",
       "<table border=\"1\" class=\"dataframe\">\n",
       "  <thead>\n",
       "    <tr style=\"text-align: right;\">\n",
       "      <th></th>\n",
       "      <th>A_site</th>\n",
       "      <th>B_site</th>\n",
       "      <th>C_site</th>\n",
       "    </tr>\n",
       "  </thead>\n",
       "  <tbody>\n",
       "    <tr>\n",
       "      <th>2019-03-05 09:00:00</th>\n",
       "      <td>787.417140</td>\n",
       "      <td>159.709529</td>\n",
       "      <td>207.571129</td>\n",
       "    </tr>\n",
       "    <tr>\n",
       "      <th>2019-03-05 09:15:00</th>\n",
       "      <td>790.144037</td>\n",
       "      <td>170.312077</td>\n",
       "      <td>241.827991</td>\n",
       "    </tr>\n",
       "    <tr>\n",
       "      <th>2019-03-05 09:30:00</th>\n",
       "      <td>942.765022</td>\n",
       "      <td>204.621623</td>\n",
       "      <td>346.243312</td>\n",
       "    </tr>\n",
       "    <tr>\n",
       "      <th>2019-03-05 09:45:00</th>\n",
       "      <td>957.008755</td>\n",
       "      <td>214.557284</td>\n",
       "      <td>357.489023</td>\n",
       "    </tr>\n",
       "    <tr>\n",
       "      <th>2019-03-05 10:00:00</th>\n",
       "      <td>1239.558183</td>\n",
       "      <td>267.847503</td>\n",
       "      <td>422.250944</td>\n",
       "    </tr>\n",
       "    <tr>\n",
       "      <th>2019-03-05 10:15:00</th>\n",
       "      <td>1489.285966</td>\n",
       "      <td>309.739610</td>\n",
       "      <td>493.958742</td>\n",
       "    </tr>\n",
       "    <tr>\n",
       "      <th>2019-03-05 10:30:00</th>\n",
       "      <td>1794.586282</td>\n",
       "      <td>315.562324</td>\n",
       "      <td>469.861973</td>\n",
       "    </tr>\n",
       "    <tr>\n",
       "      <th>2019-03-05 10:45:00</th>\n",
       "      <td>1867.074084</td>\n",
       "      <td>326.950033</td>\n",
       "      <td>461.872740</td>\n",
       "    </tr>\n",
       "    <tr>\n",
       "      <th>2019-03-05 11:00:00</th>\n",
       "      <td>1988.864424</td>\n",
       "      <td>319.066056</td>\n",
       "      <td>559.817749</td>\n",
       "    </tr>\n",
       "    <tr>\n",
       "      <th>2019-03-05 11:15:00</th>\n",
       "      <td>2046.868880</td>\n",
       "      <td>355.975979</td>\n",
       "      <td>563.755675</td>\n",
       "    </tr>\n",
       "    <tr>\n",
       "      <th>2019-03-05 11:30:00</th>\n",
       "      <td>2150.595643</td>\n",
       "      <td>348.267398</td>\n",
       "      <td>559.861445</td>\n",
       "    </tr>\n",
       "    <tr>\n",
       "      <th>2019-03-05 11:45:00</th>\n",
       "      <td>2362.224962</td>\n",
       "      <td>356.033571</td>\n",
       "      <td>595.932726</td>\n",
       "    </tr>\n",
       "    <tr>\n",
       "      <th>2019-03-05 12:00:00</th>\n",
       "      <td>2400.807135</td>\n",
       "      <td>369.523118</td>\n",
       "      <td>616.215543</td>\n",
       "    </tr>\n",
       "    <tr>\n",
       "      <th>2019-03-05 12:15:00</th>\n",
       "      <td>2275.605408</td>\n",
       "      <td>362.112385</td>\n",
       "      <td>567.354748</td>\n",
       "    </tr>\n",
       "    <tr>\n",
       "      <th>2019-03-05 12:30:00</th>\n",
       "      <td>2297.349181</td>\n",
       "      <td>382.709945</td>\n",
       "      <td>566.186846</td>\n",
       "    </tr>\n",
       "    <tr>\n",
       "      <th>2019-03-05 12:45:00</th>\n",
       "      <td>2436.880281</td>\n",
       "      <td>388.377770</td>\n",
       "      <td>599.656611</td>\n",
       "    </tr>\n",
       "    <tr>\n",
       "      <th>2019-03-05 13:00:00</th>\n",
       "      <td>2511.690092</td>\n",
       "      <td>366.211032</td>\n",
       "      <td>598.540998</td>\n",
       "    </tr>\n",
       "    <tr>\n",
       "      <th>2019-03-05 13:15:00</th>\n",
       "      <td>2547.668630</td>\n",
       "      <td>361.503480</td>\n",
       "      <td>573.824890</td>\n",
       "    </tr>\n",
       "    <tr>\n",
       "      <th>2019-03-05 13:30:00</th>\n",
       "      <td>2554.490624</td>\n",
       "      <td>368.609034</td>\n",
       "      <td>556.103816</td>\n",
       "    </tr>\n",
       "    <tr>\n",
       "      <th>2019-03-05 13:45:00</th>\n",
       "      <td>2504.357189</td>\n",
       "      <td>372.803044</td>\n",
       "      <td>554.801163</td>\n",
       "    </tr>\n",
       "    <tr>\n",
       "      <th>2019-03-05 14:00:00</th>\n",
       "      <td>2415.581758</td>\n",
       "      <td>345.986958</td>\n",
       "      <td>558.426645</td>\n",
       "    </tr>\n",
       "    <tr>\n",
       "      <th>2019-03-05 14:15:00</th>\n",
       "      <td>2332.147526</td>\n",
       "      <td>314.301945</td>\n",
       "      <td>564.228099</td>\n",
       "    </tr>\n",
       "    <tr>\n",
       "      <th>2019-03-05 14:30:00</th>\n",
       "      <td>2401.355206</td>\n",
       "      <td>287.445719</td>\n",
       "      <td>536.835161</td>\n",
       "    </tr>\n",
       "    <tr>\n",
       "      <th>2019-03-05 14:45:00</th>\n",
       "      <td>2279.400949</td>\n",
       "      <td>284.947339</td>\n",
       "      <td>514.677269</td>\n",
       "    </tr>\n",
       "    <tr>\n",
       "      <th>2019-03-05 15:00:00</th>\n",
       "      <td>1968.868049</td>\n",
       "      <td>194.985273</td>\n",
       "      <td>475.802189</td>\n",
       "    </tr>\n",
       "    <tr>\n",
       "      <th>2019-03-05 15:15:00</th>\n",
       "      <td>1941.420247</td>\n",
       "      <td>207.048400</td>\n",
       "      <td>428.041150</td>\n",
       "    </tr>\n",
       "    <tr>\n",
       "      <th>2019-03-05 15:30:00</th>\n",
       "      <td>1829.283814</td>\n",
       "      <td>207.978825</td>\n",
       "      <td>336.362430</td>\n",
       "    </tr>\n",
       "    <tr>\n",
       "      <th>2019-03-05 15:45:00</th>\n",
       "      <td>1765.652189</td>\n",
       "      <td>209.432098</td>\n",
       "      <td>304.368609</td>\n",
       "    </tr>\n",
       "    <tr>\n",
       "      <th>2019-03-05 16:00:00</th>\n",
       "      <td>1773.338341</td>\n",
       "      <td>176.970221</td>\n",
       "      <td>292.709512</td>\n",
       "    </tr>\n",
       "    <tr>\n",
       "      <th>2019-03-05 16:15:00</th>\n",
       "      <td>1550.148591</td>\n",
       "      <td>159.100167</td>\n",
       "      <td>259.889499</td>\n",
       "    </tr>\n",
       "    <tr>\n",
       "      <th>2019-03-05 16:30:00</th>\n",
       "      <td>1538.077226</td>\n",
       "      <td>168.756443</td>\n",
       "      <td>226.442348</td>\n",
       "    </tr>\n",
       "    <tr>\n",
       "      <th>2019-03-05 16:45:00</th>\n",
       "      <td>500.181862</td>\n",
       "      <td>98.380076</td>\n",
       "      <td>141.784359</td>\n",
       "    </tr>\n",
       "    <tr>\n",
       "      <th>2019-03-05 17:00:00</th>\n",
       "      <td>558.222468</td>\n",
       "      <td>85.650607</td>\n",
       "      <td>143.429705</td>\n",
       "    </tr>\n",
       "    <tr>\n",
       "      <th>2019-03-05 17:15:00</th>\n",
       "      <td>510.727371</td>\n",
       "      <td>52.211941</td>\n",
       "      <td>110.556719</td>\n",
       "    </tr>\n",
       "    <tr>\n",
       "      <th>2019-03-05 17:30:00</th>\n",
       "      <td>267.397182</td>\n",
       "      <td>36.003834</td>\n",
       "      <td>67.483944</td>\n",
       "    </tr>\n",
       "    <tr>\n",
       "      <th>2019-03-05 17:45:00</th>\n",
       "      <td>272.118808</td>\n",
       "      <td>20.281669</td>\n",
       "      <td>43.531513</td>\n",
       "    </tr>\n",
       "    <tr>\n",
       "      <th>2019-03-05 18:00:00</th>\n",
       "      <td>121.623614</td>\n",
       "      <td>10.152022</td>\n",
       "      <td>21.869231</td>\n",
       "    </tr>\n",
       "    <tr>\n",
       "      <th>2019-03-05 18:15:00</th>\n",
       "      <td>12.052930</td>\n",
       "      <td>2.819572</td>\n",
       "      <td>10.900253</td>\n",
       "    </tr>\n",
       "    <tr>\n",
       "      <th>2019-03-05 18:30:00</th>\n",
       "      <td>0.522293</td>\n",
       "      <td>0.084920</td>\n",
       "      <td>4.023983</td>\n",
       "    </tr>\n",
       "    <tr>\n",
       "      <th>2019-03-05 18:45:00</th>\n",
       "      <td>0.000000</td>\n",
       "      <td>0.000003</td>\n",
       "      <td>1.624228</td>\n",
       "    </tr>\n",
       "    <tr>\n",
       "      <th>2019-03-05 19:00:00</th>\n",
       "      <td>0.000000</td>\n",
       "      <td>0.000003</td>\n",
       "      <td>0.076950</td>\n",
       "    </tr>\n",
       "    <tr>\n",
       "      <th>2019-03-05 19:15:00</th>\n",
       "      <td>0.000000</td>\n",
       "      <td>0.000003</td>\n",
       "      <td>0.087759</td>\n",
       "    </tr>\n",
       "    <tr>\n",
       "      <th>2019-03-05 19:30:00</th>\n",
       "      <td>0.000000</td>\n",
       "      <td>0.000003</td>\n",
       "      <td>0.072624</td>\n",
       "    </tr>\n",
       "    <tr>\n",
       "      <th>2019-03-05 19:45:00</th>\n",
       "      <td>0.000000</td>\n",
       "      <td>0.000003</td>\n",
       "      <td>0.025665</td>\n",
       "    </tr>\n",
       "    <tr>\n",
       "      <th>2019-03-05 20:00:00</th>\n",
       "      <td>0.000000</td>\n",
       "      <td>0.000003</td>\n",
       "      <td>0.030875</td>\n",
       "    </tr>\n",
       "    <tr>\n",
       "      <th>2019-03-05 20:15:00</th>\n",
       "      <td>0.000000</td>\n",
       "      <td>0.000003</td>\n",
       "      <td>0.027636</td>\n",
       "    </tr>\n",
       "    <tr>\n",
       "      <th>2019-03-05 20:30:00</th>\n",
       "      <td>0.000000</td>\n",
       "      <td>0.000003</td>\n",
       "      <td>0.029859</td>\n",
       "    </tr>\n",
       "    <tr>\n",
       "      <th>2019-03-05 20:45:00</th>\n",
       "      <td>0.000000</td>\n",
       "      <td>0.000003</td>\n",
       "      <td>0.029918</td>\n",
       "    </tr>\n",
       "    <tr>\n",
       "      <th>2019-03-05 21:00:00</th>\n",
       "      <td>0.000000</td>\n",
       "      <td>0.000003</td>\n",
       "      <td>0.030299</td>\n",
       "    </tr>\n",
       "    <tr>\n",
       "      <th>2019-03-05 21:15:00</th>\n",
       "      <td>0.000000</td>\n",
       "      <td>0.000003</td>\n",
       "      <td>0.031361</td>\n",
       "    </tr>\n",
       "  </tbody>\n",
       "</table>\n",
       "</div>"
      ],
      "text/plain": [
       "                          A_site      B_site      C_site\n",
       "2019-03-05 09:00:00   787.417140  159.709529  207.571129\n",
       "2019-03-05 09:15:00   790.144037  170.312077  241.827991\n",
       "2019-03-05 09:30:00   942.765022  204.621623  346.243312\n",
       "2019-03-05 09:45:00   957.008755  214.557284  357.489023\n",
       "2019-03-05 10:00:00  1239.558183  267.847503  422.250944\n",
       "2019-03-05 10:15:00  1489.285966  309.739610  493.958742\n",
       "2019-03-05 10:30:00  1794.586282  315.562324  469.861973\n",
       "2019-03-05 10:45:00  1867.074084  326.950033  461.872740\n",
       "2019-03-05 11:00:00  1988.864424  319.066056  559.817749\n",
       "2019-03-05 11:15:00  2046.868880  355.975979  563.755675\n",
       "2019-03-05 11:30:00  2150.595643  348.267398  559.861445\n",
       "2019-03-05 11:45:00  2362.224962  356.033571  595.932726\n",
       "2019-03-05 12:00:00  2400.807135  369.523118  616.215543\n",
       "2019-03-05 12:15:00  2275.605408  362.112385  567.354748\n",
       "2019-03-05 12:30:00  2297.349181  382.709945  566.186846\n",
       "2019-03-05 12:45:00  2436.880281  388.377770  599.656611\n",
       "2019-03-05 13:00:00  2511.690092  366.211032  598.540998\n",
       "2019-03-05 13:15:00  2547.668630  361.503480  573.824890\n",
       "2019-03-05 13:30:00  2554.490624  368.609034  556.103816\n",
       "2019-03-05 13:45:00  2504.357189  372.803044  554.801163\n",
       "2019-03-05 14:00:00  2415.581758  345.986958  558.426645\n",
       "2019-03-05 14:15:00  2332.147526  314.301945  564.228099\n",
       "2019-03-05 14:30:00  2401.355206  287.445719  536.835161\n",
       "2019-03-05 14:45:00  2279.400949  284.947339  514.677269\n",
       "2019-03-05 15:00:00  1968.868049  194.985273  475.802189\n",
       "2019-03-05 15:15:00  1941.420247  207.048400  428.041150\n",
       "2019-03-05 15:30:00  1829.283814  207.978825  336.362430\n",
       "2019-03-05 15:45:00  1765.652189  209.432098  304.368609\n",
       "2019-03-05 16:00:00  1773.338341  176.970221  292.709512\n",
       "2019-03-05 16:15:00  1550.148591  159.100167  259.889499\n",
       "2019-03-05 16:30:00  1538.077226  168.756443  226.442348\n",
       "2019-03-05 16:45:00   500.181862   98.380076  141.784359\n",
       "2019-03-05 17:00:00   558.222468   85.650607  143.429705\n",
       "2019-03-05 17:15:00   510.727371   52.211941  110.556719\n",
       "2019-03-05 17:30:00   267.397182   36.003834   67.483944\n",
       "2019-03-05 17:45:00   272.118808   20.281669   43.531513\n",
       "2019-03-05 18:00:00   121.623614   10.152022   21.869231\n",
       "2019-03-05 18:15:00    12.052930    2.819572   10.900253\n",
       "2019-03-05 18:30:00     0.522293    0.084920    4.023983\n",
       "2019-03-05 18:45:00     0.000000    0.000003    1.624228\n",
       "2019-03-05 19:00:00     0.000000    0.000003    0.076950\n",
       "2019-03-05 19:15:00     0.000000    0.000003    0.087759\n",
       "2019-03-05 19:30:00     0.000000    0.000003    0.072624\n",
       "2019-03-05 19:45:00     0.000000    0.000003    0.025665\n",
       "2019-03-05 20:00:00     0.000000    0.000003    0.030875\n",
       "2019-03-05 20:15:00     0.000000    0.000003    0.027636\n",
       "2019-03-05 20:30:00     0.000000    0.000003    0.029859\n",
       "2019-03-05 20:45:00     0.000000    0.000003    0.029918\n",
       "2019-03-05 21:00:00     0.000000    0.000003    0.030299\n",
       "2019-03-05 21:15:00     0.000000    0.000003    0.031361"
      ]
     },
     "execution_count": 19,
     "metadata": {},
     "output_type": "execute_result"
    }
   ],
   "source": [
    "predict.head(50)"
   ]
  },
  {
   "cell_type": "code",
   "execution_count": 31,
   "metadata": {},
   "outputs": [],
   "source": [
    "pd.DataFrame(predict).to_excel('predict_real_time_second_submission.xlsx')"
   ]
  },
  {
   "cell_type": "code",
   "execution_count": 33,
   "metadata": {},
   "outputs": [],
   "source": [
    "pre_EDA = pd.read_pickle('C:/Users/ewpadmin/KMS/forecast_2nd.pkl')"
   ]
  },
  {
   "cell_type": "code",
   "execution_count": 35,
   "metadata": {},
   "outputs": [
    {
     "data": {
      "text/html": [
       "<div>\n",
       "<style scoped>\n",
       "    .dataframe tbody tr th:only-of-type {\n",
       "        vertical-align: middle;\n",
       "    }\n",
       "\n",
       "    .dataframe tbody tr th {\n",
       "        vertical-align: top;\n",
       "    }\n",
       "\n",
       "    .dataframe thead th {\n",
       "        text-align: right;\n",
       "    }\n",
       "</style>\n",
       "<table border=\"1\" class=\"dataframe\">\n",
       "  <thead>\n",
       "    <tr style=\"text-align: right;\">\n",
       "      <th></th>\n",
       "      <th>temperature_3H</th>\n",
       "      <th>sky</th>\n",
       "      <th>rainfall_probability</th>\n",
       "      <th>rainfall</th>\n",
       "      <th>snow</th>\n",
       "      <th>humidity</th>\n",
       "      <th>wind_speed</th>\n",
       "      <th>wind_direction</th>\n",
       "      <th>Elevation_angle</th>\n",
       "      <th>Azimuth_angle</th>\n",
       "      <th>dust_132</th>\n",
       "    </tr>\n",
       "  </thead>\n",
       "  <tbody>\n",
       "    <tr>\n",
       "      <th>count</th>\n",
       "      <td>253.000000</td>\n",
       "      <td>253.000000</td>\n",
       "      <td>253.000000</td>\n",
       "      <td>253.0</td>\n",
       "      <td>253.0</td>\n",
       "      <td>253.000000</td>\n",
       "      <td>253.000000</td>\n",
       "      <td>253.000000</td>\n",
       "      <td>253.000000</td>\n",
       "      <td>253.000000</td>\n",
       "      <td>253.000000</td>\n",
       "    </tr>\n",
       "    <tr>\n",
       "      <th>mean</th>\n",
       "      <td>6.820158</td>\n",
       "      <td>2.496047</td>\n",
       "      <td>14.960474</td>\n",
       "      <td>0.0</td>\n",
       "      <td>0.0</td>\n",
       "      <td>73.270751</td>\n",
       "      <td>4.780632</td>\n",
       "      <td>5.237154</td>\n",
       "      <td>-1.249091</td>\n",
       "      <td>193.755217</td>\n",
       "      <td>136.216196</td>\n",
       "    </tr>\n",
       "    <tr>\n",
       "      <th>std</th>\n",
       "      <td>3.127577</td>\n",
       "      <td>0.751421</td>\n",
       "      <td>7.514212</td>\n",
       "      <td>0.0</td>\n",
       "      <td>0.0</td>\n",
       "      <td>11.524081</td>\n",
       "      <td>2.010861</td>\n",
       "      <td>1.732361</td>\n",
       "      <td>36.034994</td>\n",
       "      <td>92.152758</td>\n",
       "      <td>21.589393</td>\n",
       "    </tr>\n",
       "    <tr>\n",
       "      <th>min</th>\n",
       "      <td>1.000000</td>\n",
       "      <td>1.000000</td>\n",
       "      <td>0.000000</td>\n",
       "      <td>0.0</td>\n",
       "      <td>0.0</td>\n",
       "      <td>50.000000</td>\n",
       "      <td>2.000000</td>\n",
       "      <td>0.000000</td>\n",
       "      <td>-58.970000</td>\n",
       "      <td>6.990000</td>\n",
       "      <td>67.000000</td>\n",
       "    </tr>\n",
       "    <tr>\n",
       "      <th>25%</th>\n",
       "      <td>4.416667</td>\n",
       "      <td>2.000000</td>\n",
       "      <td>10.000000</td>\n",
       "      <td>0.0</td>\n",
       "      <td>0.0</td>\n",
       "      <td>64.166667</td>\n",
       "      <td>3.000000</td>\n",
       "      <td>4.666667</td>\n",
       "      <td>-35.650000</td>\n",
       "      <td>113.800000</td>\n",
       "      <td>136.970685</td>\n",
       "    </tr>\n",
       "    <tr>\n",
       "      <th>50%</th>\n",
       "      <td>6.000000</td>\n",
       "      <td>3.000000</td>\n",
       "      <td>20.000000</td>\n",
       "      <td>0.0</td>\n",
       "      <td>0.0</td>\n",
       "      <td>75.000000</td>\n",
       "      <td>4.416667</td>\n",
       "      <td>5.666667</td>\n",
       "      <td>2.630000</td>\n",
       "      <td>206.430000</td>\n",
       "      <td>137.001255</td>\n",
       "    </tr>\n",
       "    <tr>\n",
       "      <th>75%</th>\n",
       "      <td>9.500000</td>\n",
       "      <td>3.000000</td>\n",
       "      <td>20.000000</td>\n",
       "      <td>0.0</td>\n",
       "      <td>0.0</td>\n",
       "      <td>83.333333</td>\n",
       "      <td>5.583333</td>\n",
       "      <td>6.416667</td>\n",
       "      <td>32.800000</td>\n",
       "      <td>270.250000</td>\n",
       "      <td>153.752597</td>\n",
       "    </tr>\n",
       "    <tr>\n",
       "      <th>max</th>\n",
       "      <td>13.000000</td>\n",
       "      <td>3.000000</td>\n",
       "      <td>20.000000</td>\n",
       "      <td>0.0</td>\n",
       "      <td>0.0</td>\n",
       "      <td>90.000000</td>\n",
       "      <td>10.000000</td>\n",
       "      <td>7.000000</td>\n",
       "      <td>47.570000</td>\n",
       "      <td>359.890000</td>\n",
       "      <td>158.450769</td>\n",
       "    </tr>\n",
       "  </tbody>\n",
       "</table>\n",
       "</div>"
      ],
      "text/plain": [
       "       temperature_3H         sky  rainfall_probability  rainfall   snow  \\\n",
       "count      253.000000  253.000000            253.000000     253.0  253.0   \n",
       "mean         6.820158    2.496047             14.960474       0.0    0.0   \n",
       "std          3.127577    0.751421              7.514212       0.0    0.0   \n",
       "min          1.000000    1.000000              0.000000       0.0    0.0   \n",
       "25%          4.416667    2.000000             10.000000       0.0    0.0   \n",
       "50%          6.000000    3.000000             20.000000       0.0    0.0   \n",
       "75%          9.500000    3.000000             20.000000       0.0    0.0   \n",
       "max         13.000000    3.000000             20.000000       0.0    0.0   \n",
       "\n",
       "         humidity  wind_speed  wind_direction  Elevation_angle  Azimuth_angle  \\\n",
       "count  253.000000  253.000000      253.000000       253.000000     253.000000   \n",
       "mean    73.270751    4.780632        5.237154        -1.249091     193.755217   \n",
       "std     11.524081    2.010861        1.732361        36.034994      92.152758   \n",
       "min     50.000000    2.000000        0.000000       -58.970000       6.990000   \n",
       "25%     64.166667    3.000000        4.666667       -35.650000     113.800000   \n",
       "50%     75.000000    4.416667        5.666667         2.630000     206.430000   \n",
       "75%     83.333333    5.583333        6.416667        32.800000     270.250000   \n",
       "max     90.000000   10.000000        7.000000        47.570000     359.890000   \n",
       "\n",
       "         dust_132  \n",
       "count  253.000000  \n",
       "mean   136.216196  \n",
       "std     21.589393  \n",
       "min     67.000000  \n",
       "25%    136.970685  \n",
       "50%    137.001255  \n",
       "75%    153.752597  \n",
       "max    158.450769  "
      ]
     },
     "execution_count": 35,
     "metadata": {},
     "output_type": "execute_result"
    }
   ],
   "source": [
    "pre_EDA.describe()"
   ]
  },
  {
   "cell_type": "code",
   "execution_count": 45,
   "metadata": {},
   "outputs": [],
   "source": [
    "pre_EDA.index = pre_EDA.time"
   ]
  },
  {
   "cell_type": "code",
   "execution_count": 48,
   "metadata": {},
   "outputs": [
    {
     "data": {
      "text/plain": [
       "Index(['time', 'month', 'day', 'hour', 'minute', 'temperature_3H', 'sky',\n",
       "       'rainfall_probability', 'rainfall', 'snow', 'humidity', 'wind_speed',\n",
       "       'wind_direction', 'Elevation_angle', 'Azimuth_angle', 'dust_132'],\n",
       "      dtype='object')"
      ]
     },
     "execution_count": 48,
     "metadata": {},
     "output_type": "execute_result"
    }
   ],
   "source": [
    "pre_EDA.columns"
   ]
  },
  {
   "cell_type": "code",
   "execution_count": 49,
   "metadata": {
    "scrolled": false
   },
   "outputs": [
    {
     "data": {
      "image/png": "[encoded data removed]",
      "text/plain": [
       "<Figure size 432x288 with 1 Axes>"
      ]
     },
     "metadata": {},
     "output_type": "display_data"
    },
    {
     "data": {
      "image/png": "[encoded data removed]",
      "text/plain": [
       "<Figure size 432x288 with 1 Axes>"
      ]
     },
     "metadata": {},
     "output_type": "display_data"
    },
    {
     "data": {
      "image/png": "[encoded data removed]",
      "text/plain": [
       "<Figure size 432x288 with 1 Axes>"
      ]
     },
     "metadata": {},
     "output_type": "display_data"
    },
    {
     "data": {
      "image/png": "[encoded data removed]",
      "text/plain": [
       "<Figure size 432x288 with 1 Axes>"
      ]
     },
     "metadata": {},
     "output_type": "display_data"
    },
    {
     "data": {
      "image/png": "[encoded data removed]",
      "text/plain": [
       "<Figure size 432x288 with 1 Axes>"
      ]
     },
     "metadata": {},
     "output_type": "display_data"
    },
    {
     "data": {
      "image/png": "[encoded data removed]",
      "text/plain": [
       "<Figure size 432x288 with 1 Axes>"
      ]
     },
     "metadata": {},
     "output_type": "display_data"
    },
    {
     "data": {
      "image/png": "[encoded data removed]",
      "text/plain": [
       "<Figure size 432x288 with 1 Axes>"
      ]
     },
     "metadata": {},
     "output_type": "display_data"
    },
    {
     "data": {
      "image/png": "[encoded data removed]",
      "text/plain": [
       "<Figure size 432x288 with 1 Axes>"
      ]
     },
     "metadata": {},
     "output_type": "display_data"
    },
    {
     "data": {
      "image/png": "[encoded data removed]",
      "text/plain": [
       "<Figure size 432x288 with 1 Axes>"
      ]
     },
     "metadata": {},
     "output_type": "display_data"
    },
    {
     "data": {
      "image/png": "[encoded data removed]",
      "text/plain": [
       "<Figure size 432x288 with 1 Axes>"
      ]
     },
     "metadata": {},
     "output_type": "display_data"
    },
    {
     "data": {
      "image/png": "[encoded data removed]",
      "text/plain": [
       "<Figure size 432x288 with 1 Axes>"
      ]
     },
     "metadata": {},
     "output_type": "display_data"
    }
   ],
   "source": [
    "for column in pre_EDA.columns[5:]:\n",
    "    try:\n",
    "        pre_EDA[column].plot()\n",
    "        plt.title(column)\n",
    "        plt.show()\n",
    "    except:\n",
    "        print(\"Error. None Numeric.\")"
   ]
  },
  {
   "cell_type": "code",
   "execution_count": null,
   "metadata": {},
   "outputs": [],
   "source": []
  }
 ],
 "metadata": {
  "kernelspec": {
   "display_name": "Python 3",
   "language": "python",
   "name": "python3"
  },
  "language_info": {
   "codemirror_mode": {
    "name": "ipython",
    "version": 3
   },
   "file_extension": ".py",
   "mimetype": "text/x-python",
   "name": "python",
   "nbconvert_exporter": "python",
   "pygments_lexer": "ipython3",
   "version": "3.6.5"
  }
 },
 "nbformat": 4,
 "nbformat_minor": 2
}
